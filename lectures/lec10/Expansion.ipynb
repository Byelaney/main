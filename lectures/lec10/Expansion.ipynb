{
 "cells": [
  {
   "cell_type": "markdown",
   "metadata": {
    "slideshow": {
     "slide_type": "slide"
    }
   },
   "source": [
    "# CS 429: Information Retrieval\n",
    "\n",
    "<br>\n",
    "\n",
    "## Lecture 10: Query Expansion\n",
    "\n",
    "<br>\n",
    "\n",
    "### Dr. Aron Culotta\n",
    "### Illinois Institute of Technology \n",
    "\n",
    "\n",
    "---"
   ]
  },
  {
   "cell_type": "markdown",
   "metadata": {
    "slideshow": {
     "slide_type": "slide"
    }
   },
   "source": [
    "Last time:\n",
    "\n",
    "- Evaluation\n",
    "  - accuracy, precision, recall, MAP\n",
    "  \n",
    "This time:\n",
    "\n",
    "- How can we incoporate user feedback to improve search?\n",
    "- How can we alter the user's query to improve search?"
   ]
  },
  {
   "cell_type": "markdown",
   "metadata": {
    "slideshow": {
     "slide_type": "slide"
    }
   },
   "source": [
    "# Relevance Feedback\n",
    "\n",
    "- An *interactive* IR system in which \n",
    "\n",
    "\n",
    "1. The user enters a query.\n",
    "2. The system returns results.\n",
    "3. The user indicates which results are relevant.\n",
    "4. GoTo 2."
   ]
  },
  {
   "cell_type": "markdown",
   "metadata": {
    "slideshow": {
     "slide_type": "slide"
    }
   },
   "source": [
    "# How should we incorporate user feedback?"
   ]
  },
  {
   "cell_type": "markdown",
   "metadata": {
    "slideshow": {
     "slide_type": "fragment"
    }
   },
   "source": [
    "- Create a new query that is similar to relevant documents but dissimilar to irrelevant documents."
   ]
  },
  {
   "cell_type": "markdown",
   "metadata": {
    "slideshow": {
     "slide_type": "slide"
    }
   },
   "source": [
    "# Rocchio\n",
    "\n",
    "$ \\DeclareMathOperator*{\\argmax}{arg\\,max}$\n",
    "$\\vec{q}^* \\leftarrow \\argmax_{\\vec{q}} sim(\\vec{q}, C_r) - sim(\\vec{q}, C_{nr})$\n",
    "\n",
    "- where $q$ is a query\n",
    "- $C_r$ is a set of relevant documents\n",
    "- $C_{nr}$ is a set of irrelevant documents\n",
    "- $sim$ is cosine similarity"
   ]
  },
  {
   "cell_type": "markdown",
   "metadata": {
    "slideshow": {
     "slide_type": "slide"
    }
   },
   "source": [
    "# Document Centroid\n",
    "\n",
    "Recall that we represent each document as a vector of tf-idf values.\n",
    "\n",
    "Given a collection of documents $D = \\{\\vec{d_1} \\ldots \\vec{d_N}\\}$, the centroid vector is:\n",
    "\n",
    "$$ \\frac{1}{N} \\sum_{\\vec{d_j} \\in D}\\vec{d}_j $$"
   ]
  },
  {
   "cell_type": "code",
   "execution_count": 5,
   "metadata": {
    "collapsed": false
   },
   "outputs": [
    {
     "name": "stdout",
     "output_type": "stream",
     "text": [
      "list addition: [1, 2, 3, 4, 5, 6]\n",
      "numpy array addition: [5 7 9]\n",
      "numpy array division: [ 0.33333333  0.66666667  1.        ]\n"
     ]
    }
   ],
   "source": [
    "# A word about numpy arrays...\n",
    "import numpy as np\n",
    "a = [1,2,3]\n",
    "b = [4,5,6]\n",
    "print('list addition:', a + b)\n",
    "print('numpy array addition:', np.array(a) + np.array(b))\n",
    "print('numpy array division:', np.array(a) / 3)"
   ]
  },
  {
   "cell_type": "code",
   "execution_count": 6,
   "metadata": {
    "collapsed": false
   },
   "outputs": [
    {
     "ename": "TypeError",
     "evalue": "unsupported operand type(s) for /: 'list' and 'int'",
     "output_type": "error",
     "traceback": [
      "\u001b[0;31m---------------------------------------------------------------------------\u001b[0m",
      "\u001b[0;31mTypeError\u001b[0m                                 Traceback (most recent call last)",
      "\u001b[0;32m<ipython-input-6-f61657e0f7d9>\u001b[0m in \u001b[0;36m<module>\u001b[0;34m()\u001b[0m\n\u001b[1;32m      1\u001b[0m \u001b[0;31m# list division?\u001b[0m\u001b[0;34m\u001b[0m\u001b[0;34m\u001b[0m\u001b[0m\n\u001b[0;32m----> 2\u001b[0;31m \u001b[0ma\u001b[0m \u001b[0;34m/\u001b[0m \u001b[0;36m3\u001b[0m\u001b[0;34m\u001b[0m\u001b[0m\n\u001b[0m",
      "\u001b[0;31mTypeError\u001b[0m: unsupported operand type(s) for /: 'list' and 'int'"
     ]
    }
   ],
   "source": [
    "# list division? Nope.\n",
    "a / 3"
   ]
  },
  {
   "cell_type": "code",
   "execution_count": 20,
   "metadata": {
    "collapsed": false,
    "slideshow": {
     "slide_type": "fragment"
    }
   },
   "outputs": [
    {
     "data": {
      "image/png": "[encoded data removed]",
      "text/plain": [
       "<matplotlib.figure.Figure at 0x109191780>"
      ]
     },
     "metadata": {},
     "output_type": "display_data"
    }
   ],
   "source": [
    "%matplotlib inline\n",
    "import numpy as np\n",
    "import matplotlib.pyplot as plt\n",
    "\n",
    "points = [[1, 4],\n",
    "          [.5, .5],\n",
    "          [4, 6]]\n",
    "\n",
    "# Compute centroid.\n",
    "centroid = np.sum(points, axis=0) / len(points)\n",
    "plt.figure()\n",
    "plt.scatter([p[0] for p in points], [p[1] for p in points])\n",
    "plt.scatter([centroid[0]], [centroid[1]], marker='x', s=60)\n",
    "plt.show()"
   ]
  },
  {
   "cell_type": "markdown",
   "metadata": {
    "slideshow": {
     "slide_type": "slide"
    }
   },
   "source": [
    "Want a query that is closest to relevant documents, but far from irrelevant documents.\n",
    "\n",
    "$$\\vec{q}^* = \\frac{1}{|C_r|} \\sum_{\\vec{d_j} \\in C_r}\\vec{d}_j - \\frac{1}{|C_{nr}|} \\sum_{\\vec{d}_j \\in C_{nr}} \\vec{d}_j$$"
   ]
  },
  {
   "cell_type": "markdown",
   "metadata": {},
   "source": [
    "![rocchio](files/rocchio.png)\n",
    "\n",
    "Source: [MRS](http://nlp.stanford.edu/IR-book/pdf/09expand.pdf)"
   ]
  },
  {
   "cell_type": "markdown",
   "metadata": {
    "slideshow": {
     "slide_type": "slide"
    }
   },
   "source": [
    "But, we don't know the set of all relevant and irrelevant documents.\n",
    "\n",
    "\n",
    "$$\\vec{q}_m = \\alpha \\vec{q}_0 + \\beta\\frac{1}{D_r} \\sum_{\\vec{d}_j \\in D_r} \\vec{d}_j - \\gamma\\frac{1}{|D_{nr}|} \\sum_{\\vec{d_j} \\in D_{nr}} \\vec{d}_j$$\n",
    "\n",
    "- $\\vec{q}_0$ is original query vector\n",
    "- $\\alpha$, $\\beta$, $\\gamma$ are tunable parameters.\n"
   ]
  },
  {
   "cell_type": "code",
   "execution_count": 41,
   "metadata": {
    "collapsed": false
   },
   "outputs": [
    {
     "data": {
      "image/png": "[encoded data removed]",
      "text/plain": [
       "<matplotlib.figure.Figure at 0x10918dcc0>"
      ]
     },
     "metadata": {},
     "output_type": "display_data"
    }
   ],
   "source": [
    "# Plot effect of relevance feedback as we change parameters.\n",
    "import numpy as np\n",
    "from numpy import array as npa\n",
    "import random as rnd\n",
    "\n",
    "def centroid(docs):\n",
    "    return np.sum(docs, axis=0) / len(docs)\n",
    "\n",
    "def rocchio(query, relevant, irrelevant, alpha, beta, gamma):\n",
    "    return alpha * query + beta * centroid(relevant) - gamma * centroid(irrelevant) \n",
    "\n",
    "# Create some documents\n",
    "relevant = npa([[1, 5], [1.1, 5.1], [0.9, 4.9], [1.0, 4.8]])\n",
    "irrelevant = npa([[rnd.random()*6, rnd.random()*6] for i in range(30)])\n",
    "\n",
    "# Create a query\n",
    "query = npa([.1, .1])\n",
    "\n",
    "# Compute two different Rocchio updates (gamma=0.5, gamma=0)\n",
    "new_query_g5 = rocchio(query, relevant, irrelevant, 1., .75, .5)\n",
    "new_query_g0 = rocchio(query, relevant, irrelevant, 1., .75, 0.)\n",
    "\n",
    "# Plot them.\n",
    "plt.figure()\n",
    "pos = plt.scatter([p[0] for p in relevant], [p[1] for p in relevant],\n",
    "                  color='g', marker='o', label='relevant')\n",
    "neg = plt.scatter([p[0] for p in irrelevant], [p[1] for p in irrelevant],\n",
    "              marker='+', color='red', label='irrelevant')\n",
    "\n",
    "q = plt.scatter(query[0], query[1], marker='v',\n",
    "                color='b', s=100, label='query')\n",
    "newq_b5 = plt.scatter([new_query_g5[0]], [new_query_g5[1]],\n",
    "                      marker='*', s=100, color='black', label='gamma=.5')  # s=100, c=.9)\n",
    "newq_b0 = plt.scatter([new_query_g0[0]], [new_query_g0[1]],\n",
    "                      marker='d', s=100, color='black', label='gamma=0')  # s=100, c=.8)\n",
    "\n",
    "plt.legend(loc='center left', bbox_to_anchor=(1, 0.5))\n",
    "plt.show()"
   ]
  },
  {
   "cell_type": "markdown",
   "metadata": {
    "slideshow": {
     "slide_type": "fragment"
    }
   },
   "source": [
    "- $\\gamma=0$ Often used, since we're more confident in relevant annotations than irrelevant."
   ]
  },
  {
   "cell_type": "markdown",
   "metadata": {
    "slideshow": {
     "slide_type": "fragment"
    }
   },
   "source": [
    "- One might decrease $\\alpha$ as the number of relevant documents increase."
   ]
  },
  {
   "cell_type": "markdown",
   "metadata": {
    "slideshow": {
     "slide_type": "slide"
    }
   },
   "source": [
    "# Does relevance feedback help precision or recall?"
   ]
  },
  {
   "cell_type": "markdown",
   "metadata": {
    "slideshow": {
     "slide_type": "fragment"
    }
   },
   "source": [
    "- Mostly recall: \"adding\" similar terms to query vector from relevant documents.\n",
    "\n",
    "- When would it not help?"
   ]
  },
  {
   "cell_type": "markdown",
   "metadata": {
    "slideshow": {
     "slide_type": "fragment"
    }
   },
   "source": [
    "- Spelling correction?\n",
    "- Different language?\n",
    "- Synonyms?\n",
    "\n",
    "\n",
    "- Assumption 1: query is \"close\" to relevant documents\n",
    "  - feedback makes the query closer\n",
    "  \n",
    "- Assumption 2: relevant documents form one cluster."
   ]
  },
  {
   "cell_type": "code",
   "execution_count": 44,
   "metadata": {
    "collapsed": false,
    "slideshow": {
     "slide_type": "fragment"
    }
   },
   "outputs": [
    {
     "data": {
      "image/png": "[encoded data removed]",
      "text/plain": [
       "<matplotlib.figure.Figure at 0x1096d0710>"
      ]
     },
     "metadata": {},
     "output_type": "display_data"
    }
   ],
   "source": [
    "# What happens if there are two clusters of relevant examples?\n",
    "\n",
    "import numpy as np\n",
    "import random as rnd\n",
    "\n",
    "points = [[1, 5], [1.1, 5.1], [0.9, 4.9], [1.0, 4.8],\n",
    "          [5, 1.2], [4.9, 1.1], [5.1, 1.0], [4.8,1.2]]\n",
    "plt.figure()\n",
    "centroid = np.sum(points, axis=0) / len(points)\n",
    "pos = plt.scatter([p[0] for p in points], [p[1] for p in points], \n",
    "                 color='green', label='relevant')\n",
    "neg = plt.scatter([rnd.random()*6 for i in range(30)],\n",
    "                  [rnd.random() * 6 for i in range(30)],\n",
    "                  marker='+', color='red', label='irrelevant')\n",
    "centroid = plt.scatter([centroid[0]], [centroid[1]],\n",
    "                   marker='x', s=100, color='blue', label='centroid')\n",
    "plt.legend(loc='center left', bbox_to_anchor=(1, 0.5))\n",
    "plt.show()"
   ]
  },
  {
   "cell_type": "markdown",
   "metadata": {},
   "source": [
    "*\"If you have your one foot in a bucket of boiling hot water and another foot in a bucket of ice cold water, on average you ought to feel pretty comfortable.\"* --Unknown"
   ]
  },
  {
   "cell_type": "markdown",
   "metadata": {
    "slideshow": {
     "slide_type": "slide"
    }
   },
   "source": [
    "# Does relevance feedback affect search time?"
   ]
  },
  {
   "cell_type": "markdown",
   "metadata": {
    "slideshow": {
     "slide_type": "fragment"
    }
   },
   "source": [
    "- Much longer queries\n",
    "- How to approximate?\n",
    "  - Use top $k$ most informative terms from relevant set."
   ]
  },
  {
   "cell_type": "markdown",
   "metadata": {
    "slideshow": {
     "slide_type": "slide"
    }
   },
   "source": [
    "# Variants of relevance feedback\n",
    "\n",
    "- Pseudo-relevance: Assume top $k$ documents are relevant.\n",
    "- Indirect relevance: Mine click logs."
   ]
  },
  {
   "cell_type": "markdown",
   "metadata": {
    "slideshow": {
     "slide_type": "slide"
    }
   },
   "source": [
    "# Pseudo-relevance feedback\n",
    "\n",
    "1. Rank documents\n",
    "2. Let $V$ be the top $k$ documents. We pretend these are all relevant.\n",
    "3. Update $q$ according to Rocchio\n",
    "\n",
    "We can iterate steps $2-3$ until ranking stops changing.\n",
    "\n",
    "When would this work? When would this not work?"
   ]
  },
  {
   "cell_type": "markdown",
   "metadata": {
    "slideshow": {
     "slide_type": "slide"
    }
   },
   "source": [
    "# Explicit query expansion\n",
    "\n",
    "- Thesaurus\n",
    "- Word co-occurrences\n",
    "- Mine reformulations from query log"
   ]
  },
  {
   "cell_type": "markdown",
   "metadata": {
    "slideshow": {
     "slide_type": "slide"
    }
   },
   "source": [
    "# WordNet\n",
    "\n",
    "<http://wordnetweb.princeton.edu/perl/webwn>"
   ]
  },
  {
   "cell_type": "markdown",
   "metadata": {
    "slideshow": {
     "slide_type": "slide"
    }
   },
   "source": [
    "---\n",
    "\n",
    "<br><br><br><br><br>\n",
    "\n",
    "# Thesaurus discovery\n",
    "\n",
    "**Idea:** Look for words that occur in same context.\n",
    "\n",
    "- \"He put the mug on the \\_\\_\\_\\_\\_\""
   ]
  },
  {
   "cell_type": "code",
   "execution_count": 45,
   "metadata": {
    "collapsed": false
   },
   "outputs": [
    {
     "name": "stdout",
     "output_type": "stream",
     "text": [
      "Counter({1: 3, 2: 1, 3: 1})\n",
      "Counter({3: 4, 1: 3, 2: 1})\n",
      "[(3, 4), (1, 3)]\n"
     ]
    }
   ],
   "source": [
    "# Efficiently incrementing a Counter\n",
    "# using the .update method.\n",
    "from collections import Counter\n",
    "c = Counter()\n",
    "c.update([1,2,1,1,3])\n",
    "print(c)\n",
    "c.update([3,3,3])\n",
    "print(c)\n",
    "print(c.most_common(2))"
   ]
  },
  {
   "cell_type": "code",
   "execution_count": 257,
   "metadata": {
    "collapsed": false
   },
   "outputs": [
    {
     "data": {
      "text/plain": [
       "['L=a', 'L=b', 'R=d', 'R=e']"
      ]
     },
     "execution_count": 257,
     "metadata": {},
     "output_type": "execute_result"
    }
   ],
   "source": [
    "def get_context(tokens, position, window):\n",
    "    left = ['L=%s' % x for x in tokens[position - window : position]]\n",
    "    right = ['R=%s' % x for x in tokens[position + 1 : position+window+1]]\n",
    "    return left + right\n",
    "    \n",
    "get_context(['a', 'b', 'c', 'd', 'e'], 2, 2)"
   ]
  },
  {
   "cell_type": "code",
   "execution_count": 309,
   "metadata": {
    "collapsed": false
   },
   "outputs": [
    {
     "name": "stdout",
     "output_type": "stream",
     "text": [
      "read 11314 docs\n"
     ]
    }
   ],
   "source": [
    "from collections import Counter, defaultdict\n",
    "from sklearn.datasets import fetch_20newsgroups\n",
    "import re\n",
    "docs = fetch_20newsgroups(subset='train', remove=('headers', 'footers', 'quotes')).data\n",
    "print('read', len(docs), 'docs')"
   ]
  },
  {
   "cell_type": "code",
   "execution_count": 310,
   "metadata": {
    "collapsed": false,
    "slideshow": {
     "slide_type": "fragment"
    }
   },
   "outputs": [
    {
     "data": {
      "text/plain": [
       "[('R=to', 112),\n",
       " ('L=please', 93),\n",
       " ('R=me', 86),\n",
       " ('R=address', 68),\n",
       " ('L=send', 60),\n",
       " ('L=by', 54),\n",
       " ('L=via', 49),\n",
       " ('R=the', 46),\n",
       " ('L=or', 44),\n",
       " ('R=and', 43)]"
      ]
     },
     "execution_count": 310,
     "metadata": {},
     "output_type": "execute_result"
    }
   ],
   "source": [
    "# Count words that occur within a window of -n to +n of each word.\n",
    "def term2contexts(docs, n):\n",
    "    contexts = defaultdict(lambda: Counter())\n",
    "    for d in docs:\n",
    "        toks = re.findall('\\w+', d.lower())\n",
    "        for i in range(len(toks)):\n",
    "            contexts[toks[i]].update(get_context(toks, i, n))\n",
    "    return contexts\n",
    "\n",
    "contexts = term2contexts(docs, 2)\n",
    "# Print top contexts for email\n",
    "contexts['email'].most_common(10)"
   ]
  },
  {
   "cell_type": "code",
   "execution_count": 312,
   "metadata": {
    "collapsed": false
   },
   "outputs": [
    {
     "name": "stdout",
     "output_type": "stream",
     "text": [
      "made context vectors for 101675 terms\n"
     ]
    }
   ],
   "source": [
    "print('made context vectors for %d terms' % len(contexts))\n",
    "# Each word now has a \"context vector\" indicating\n",
    "# the terms that often occur before/after it."
   ]
  },
  {
   "cell_type": "code",
   "execution_count": 314,
   "metadata": {
    "collapsed": false,
    "scrolled": true
   },
   "outputs": [
    {
     "data": {
      "text/plain": [
       "[('L=i', 472),\n",
       " ('R=that', 407),\n",
       " ('R=the', 248),\n",
       " ('L=to', 203),\n",
       " ('R=in', 188),\n",
       " ('L=t', 148),\n",
       " ('R=it', 138),\n",
       " ('L=you', 119),\n",
       " ('L=don', 103),\n",
       " ('L=do', 92)]"
      ]
     },
     "execution_count": 314,
     "metadata": {},
     "output_type": "execute_result"
    }
   ],
   "source": [
    "contexts['believe'].most_common(10)"
   ]
  },
  {
   "cell_type": "code",
   "execution_count": 319,
   "metadata": {
    "collapsed": false
   },
   "outputs": [
    {
     "data": {
      "text/plain": [
       "[('L=the', 82),\n",
       " ('L=a', 41),\n",
       " ('R=and', 30),\n",
       " ('L=der', 27),\n",
       " ('R=larry', 19),\n",
       " ('R=i', 17),\n",
       " ('R=mcrcim', 16),\n",
       " ('R=the', 16),\n",
       " ('L=with', 14),\n",
       " ('R=on', 14),\n",
       " ('L=your', 13),\n",
       " ('R=mouse', 13),\n",
       " ('L=my', 13),\n",
       " ('L=mouse', 13),\n",
       " ('R=button', 12),\n",
       " ('L=and', 12),\n",
       " ('R=is', 12),\n",
       " ('L=keyboard', 12),\n",
       " ('R=in', 12),\n",
       " ('L=bus', 10)]"
      ]
     },
     "execution_count": 319,
     "metadata": {},
     "output_type": "execute_result"
    }
   ],
   "source": [
    "contexts['mouse'].most_common(20)"
   ]
  },
  {
   "cell_type": "code",
   "execution_count": 321,
   "metadata": {
    "collapsed": false,
    "slideshow": {
     "slide_type": "fragment"
    }
   },
   "outputs": [
    {
     "name": "stdout",
     "output_type": "stream",
     "text": [
      "idf of L=the: 0.7205332117216949  of L=mouse: 2.5872584325868675\n"
     ]
    }
   ],
   "source": [
    "import math\n",
    "# Compute inverse document frequency values for each term.\n",
    "def compute_idfs(contexts):\n",
    "    idfs = Counter()\n",
    "    for term, context in contexts.items():\n",
    "        idfs.update(context.keys())\n",
    "    for d in idfs:\n",
    "        idfs[d] = math.log10(len(contexts) / idfs[d])\n",
    "    return idfs\n",
    "\n",
    "idfs = compute_idfs(contexts)\n",
    "print('idf of L=the:', idfs['L=the'], ' of L=mouse:', idfs['L=mouse'])"
   ]
  },
  {
   "cell_type": "code",
   "execution_count": 323,
   "metadata": {
    "collapsed": false
   },
   "outputs": [],
   "source": [
    "# Multiply each context value by its idf\n",
    "idf_contexts = {}\n",
    "for term, counts in contexts.items():\n",
    "    newcounts = defaultdict(lambda: 0)\n",
    "    for term2, value in counts.items():\n",
    "        if value > 1:\n",
    "            newcounts[term2] = 1 + math.log10(value) * idfs[term2]\n",
    "    idf_contexts[term] = newcounts"
   ]
  },
  {
   "cell_type": "code",
   "execution_count": 324,
   "metadata": {
    "collapsed": false
   },
   "outputs": [
    {
     "data": {
      "text/plain": [
       "[('L=please', 5.624365623825237),\n",
       " ('R=address', 5.502448428242367),\n",
       " ('L=send', 5.336933050132957),\n",
       " ('L=via', 5.314004621254367),\n",
       " ('L=respond', 4.774873278462242),\n",
       " ('L=2109', 4.662123108414578),\n",
       " ('L=reply', 4.656642527850995),\n",
       " ('R=me', 4.38400988192717),\n",
       " ('R=addresses', 4.3316149865055475),\n",
       " ('L=44135', 4.29085060746986)]"
      ]
     },
     "execution_count": 324,
     "metadata": {},
     "output_type": "execute_result"
    }
   ],
   "source": [
    "sorted(idf_contexts['email'].items(), key=lambda x: -x[1])[:10]"
   ]
  },
  {
   "cell_type": "code",
   "execution_count": 326,
   "metadata": {
    "collapsed": false
   },
   "outputs": [
    {
     "data": {
      "text/plain": [
       "[('R=mcrcim', 6.011687215587964),\n",
       " ('L=der', 5.760677152186865),\n",
       " ('R=larry', 4.695524871279934),\n",
       " ('R=button', 4.245329147066361),\n",
       " ('R=mouse', 3.981804019640206),\n",
       " ('L=mouse', 3.882059331679947),\n",
       " ('L=keyboard', 3.778076808240163),\n",
       " ('R=lightning', 3.6670593949005474),\n",
       " ('L=button', 3.5866297815693513),\n",
       " ('L=bus', 3.5020642027567193)]"
      ]
     },
     "execution_count": 326,
     "metadata": {},
     "output_type": "execute_result"
    }
   ],
   "source": [
    "sorted(idf_contexts['mouse'].items(), key=lambda x: -x[1])[:10]"
   ]
  },
  {
   "cell_type": "code",
   "execution_count": 327,
   "metadata": {
    "collapsed": false
   },
   "outputs": [],
   "source": [
    "# Filter terms that don't appear very often.\n",
    "idf_contexts = dict([(term, cont) for term, cont in idf_contexts.items()\n",
    "                     if len(cont) > 10])"
   ]
  },
  {
   "cell_type": "code",
   "execution_count": 328,
   "metadata": {
    "collapsed": false
   },
   "outputs": [
    {
     "name": "stdout",
     "output_type": "stream",
     "text": [
      "9131 remain\n"
     ]
    }
   ],
   "source": [
    "print(len(idf_contexts), 'remain')"
   ]
  },
  {
   "cell_type": "code",
   "execution_count": 329,
   "metadata": {
    "collapsed": false,
    "slideshow": {
     "slide_type": "fragment"
    }
   },
   "outputs": [
    {
     "data": {
      "text/plain": [
       "[('believe', 0.9999999999999998),\n",
       " ('think', 0.5656884809725077),\n",
       " ('know', 0.546899511708715),\n",
       " ('say', 0.5368446097839169),\n",
       " ('assume', 0.5258972910468704),\n",
       " ('agree', 0.4981933521733485),\n",
       " ('tell', 0.49626646556732074),\n",
       " ('mean', 0.49440183795193504),\n",
       " ('understand', 0.4923574832241389),\n",
       " ('feel', 0.487540002854938)]"
      ]
     },
     "execution_count": 329,
     "metadata": {},
     "output_type": "execute_result"
    }
   ],
   "source": [
    "def norm(context):\n",
    "    return math.sqrt(sum(x**2 for x in context.values()))\n",
    "    \n",
    "def cosine(term1, term2, contexts):\n",
    "    # Compute cosine similarity between term1\n",
    "    # and term2 context vectors.\n",
    "    context1 = contexts[term1]\n",
    "    context2 = contexts[term2]\n",
    "    dotprod = sum(context1[term] * context2[term] for term in context1)\n",
    "    return dotprod / (norm(context1) * norm(context2))\n",
    "\n",
    "def find_closest_terms(term, contexts):\n",
    "    cosines = [(term2, cosine(term, term2, contexts)) for term2 in contexts]\n",
    "    return sorted(cosines, key=lambda x: x[1], reverse=True)\n",
    "\n",
    "find_closest_terms('believe', idf_contexts)[:10]"
   ]
  },
  {
   "cell_type": "code",
   "execution_count": 330,
   "metadata": {
    "collapsed": false
   },
   "outputs": [
    {
     "data": {
      "text/plain": [
       "[('mouse', 1.0),\n",
       " ('port', 0.33474782102024614),\n",
       " ('keyboard', 0.3119186749391587),\n",
       " ('nt', 0.3032990290817819),\n",
       " ('printer', 0.29478665198153775),\n",
       " ('windows', 0.2900481456108884),\n",
       " ('definition', 0.2867776925197102),\n",
       " ('hardware', 0.2830492495698667),\n",
       " ('film', 0.2820359635596074),\n",
       " ('experience', 0.28165065224209573)]"
      ]
     },
     "execution_count": 330,
     "metadata": {},
     "output_type": "execute_result"
    }
   ],
   "source": [
    "find_closest_terms('mouse', idf_contexts)[:10]"
   ]
  },
  {
   "cell_type": "code",
   "execution_count": 332,
   "metadata": {
    "collapsed": false
   },
   "outputs": [
    {
     "data": {
      "text/plain": [
       "[('email', 0.9999999999999999),\n",
       " ('mail', 0.46485452653580006),\n",
       " ('please', 0.364407544375208),\n",
       " ('address', 0.36298152318236937),\n",
       " ('reply', 0.361952968268038),\n",
       " ('send', 0.35695189714315945),\n",
       " ('directly', 0.33456246061754363),\n",
       " ('answer', 0.32782570456354077),\n",
       " ('post', 0.3263549975807809),\n",
       " ('e', 0.31939513242370765)]"
      ]
     },
     "execution_count": 332,
     "metadata": {},
     "output_type": "execute_result"
    }
   ],
   "source": [
    "find_closest_terms('email', idf_contexts)[:10]"
   ]
  },
  {
   "cell_type": "code",
   "execution_count": 333,
   "metadata": {
    "collapsed": false
   },
   "outputs": [
    {
     "data": {
      "text/plain": [
       "[('difficult', 0.9999999999999999),\n",
       " ('easy', 0.4741041239736501),\n",
       " ('expensive', 0.4740018487434657),\n",
       " ('easier', 0.4567333942231779),\n",
       " ('useful', 0.45425692833211445),\n",
       " ('accurate', 0.4365186293205703),\n",
       " ('concerned', 0.4305990060205894),\n",
       " ('slow', 0.4300281768094022),\n",
       " ('important', 0.4204081799734365),\n",
       " ('helpful', 0.41931481966016604)]"
      ]
     },
     "execution_count": 333,
     "metadata": {},
     "output_type": "execute_result"
    }
   ],
   "source": [
    "find_closest_terms('difficult', idf_contexts)[:10]"
   ]
  },
  {
   "cell_type": "code",
   "execution_count": 334,
   "metadata": {
    "collapsed": false
   },
   "outputs": [
    {
     "data": {
      "text/plain": [
       "[('love', 1.0),\n",
       " ('trust', 0.45904783779048874),\n",
       " ('hope', 0.41817703325522754),\n",
       " ('hate', 0.4132362482402241),\n",
       " ('expect', 0.4067314751398957),\n",
       " ('assume', 0.40572134193304654),\n",
       " ('claim', 0.40291052890879714),\n",
       " ('remember', 0.4008043520722972),\n",
       " ('sure', 0.3995125196608633),\n",
       " ('ask', 0.39549295187647165)]"
      ]
     },
     "execution_count": 334,
     "metadata": {},
     "output_type": "execute_result"
    }
   ],
   "source": [
    "find_closest_terms('love', idf_contexts)[:10]"
   ]
  },
  {
   "cell_type": "code",
   "execution_count": 335,
   "metadata": {
    "collapsed": false
   },
   "outputs": [
    {
     "data": {
      "text/plain": [
       "[('heaven', 0.9999999999999999),\n",
       " ('hell', 0.4512912909382671),\n",
       " ('truth', 0.4143729845273216),\n",
       " ('consideration', 0.38697304278699035),\n",
       " ('believing', 0.37915230902617236),\n",
       " ('perhaps', 0.37863331949856904),\n",
       " ('jerusalem', 0.3766813542958777),\n",
       " ('anyway', 0.37133416555180876),\n",
       " ('christianity', 0.37019792250631794),\n",
       " ('crowd', 0.368688584446812)]"
      ]
     },
     "execution_count": 335,
     "metadata": {},
     "output_type": "execute_result"
    }
   ],
   "source": [
    "find_closest_terms('heaven', idf_contexts)[:10]"
   ]
  },
  {
   "cell_type": "markdown",
   "metadata": {
    "slideshow": {
     "slide_type": "fragment"
    }
   },
   "source": [
    "Google's $n$-gram data: \n",
    "\n",
    "<http://googleresearch.blogspot.com/2006/08/all-our-n-gram-are-belong-to-you.html>"
   ]
  },
  {
   "cell_type": "markdown",
   "metadata": {
    "slideshow": {
     "slide_type": "slide"
    }
   },
   "source": [
    "# How do we decide when to expand the query?"
   ]
  },
  {
   "cell_type": "markdown",
   "metadata": {
    "slideshow": {
     "slide_type": "fragment"
    }
   },
   "source": [
    "- Few results returned.\n",
    "- Query log data\n",
    "  - Searches where few results are clicked."
   ]
  }
 ],
 "metadata": {
  "kernelspec": {
   "display_name": "Python 3",
   "language": "python",
   "name": "python3"
  },
  "language_info": {
   "codemirror_mode": {
    "name": "ipython",
    "version": 3
   },
   "file_extension": ".py",
   "mimetype": "text/x-python",
   "name": "python",
   "nbconvert_exporter": "python",
   "pygments_lexer": "ipython3",
   "version": "3.5.0"
  }
 },
 "nbformat": 4,
 "nbformat_minor": 0
}
