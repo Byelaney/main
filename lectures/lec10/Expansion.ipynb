{
 "metadata": {
  "name": ""
 },
 "nbformat": 3,
 "nbformat_minor": 0,
 "worksheets": [
  {
   "cells": [
    {
     "cell_type": "markdown",
     "metadata": {
      "slideshow": {
       "slide_type": "slide"
      }
     },
     "source": [
      "# CS 429: Information Retrieval\n",
      "\n",
      "<br>\n",
      "\n",
      "## Lecture 10: Query Expansion\n",
      "\n",
      "<br>\n",
      "\n",
      "### Dr. Aron Culotta\n",
      "### Illinois Institute of Technology \n",
      "### Spring 2014\n",
      "\n",
      "---"
     ]
    },
    {
     "cell_type": "markdown",
     "metadata": {},
     "source": [
      "Last time:\n",
      "\n",
      "- Evaluation\n",
      "  - accuracy, precision, recall, MAP\n",
      "  \n",
      "This time:\n",
      "\n",
      "- How can we incoporate user feedback to improve search?\n",
      "- How can we alter the user's query to improve search?"
     ]
    },
    {
     "cell_type": "markdown",
     "metadata": {
      "slideshow": {
       "slide_type": "slide"
      }
     },
     "source": [
      "# Relevance Feedback\n",
      "\n",
      "- An *interactive* IR system in which \n",
      "\n",
      "\n",
      "1. The user enters a query.\n",
      "2. The system returns results.\n",
      "3. The user indicates which results are relevant.\n",
      "4. GoTo 2."
     ]
    },
    {
     "cell_type": "markdown",
     "metadata": {
      "slideshow": {
       "slide_type": "slide"
      }
     },
     "source": [
      "# How should we incorporate user feedback?"
     ]
    },
    {
     "cell_type": "markdown",
     "metadata": {
      "slideshow": {
       "slide_type": "fragment"
      }
     },
     "source": [
      "- Create a new query that is similar to relevant documents but dissimilar to irrelevant documents."
     ]
    },
    {
     "cell_type": "markdown",
     "metadata": {
      "slideshow": {
       "slide_type": "slide"
      }
     },
     "source": [
      "# Rocchio\n",
      "\n",
      "$ \\DeclareMathOperator*{\\argmax}{arg\\,max}$\n",
      "$\\vec{q}^* \\leftarrow \\argmax_{\\vec{q}} sim(\\vec{q}, C_r) - sim(\\vec{q}, C_{nr})$\n",
      "\n",
      "- where $q$ is a query\n",
      "- $C_r$ is a set of relevant documents\n",
      "- $C_{nr}$ is a set of irrelevant documents\n",
      "- $sim$ is cosine similarity"
     ]
    },
    {
     "cell_type": "markdown",
     "metadata": {
      "slideshow": {
       "slide_type": "slide"
      }
     },
     "source": [
      "# Document Centroid\n",
      "\n",
      "Recall that we represent each document as a vector of tf-idf values.\n",
      "\n",
      "Given a collection of documents $D = \\{d_1 \\ldots d_N\\}$, the centroid vector is:\n",
      "\n",
      "$ \\frac{1}{N} \\sum_{\\vec{d_j} \\in D}\\vec{d}_j $"
     ]
    },
    {
     "cell_type": "code",
     "collapsed": false,
     "input": [
      "%pylab inline\n",
      "import numpy as np\n",
      "\n",
      "points = [[1, 4],\n",
      "          [.5, .5],\n",
      "          [4, 6]]\n",
      "\n",
      "centroid = np.sum(points, axis=0) / len(points)\n",
      "scatter([p[0] for p in points], [p[1] for p in points])\n",
      "scatter([centroid[0]], [centroid[1]], marker='x', s=60)"
     ],
     "language": "python",
     "metadata": {
      "slideshow": {
       "slide_type": "fragment"
      }
     },
     "outputs": [
      {
       "output_type": "stream",
       "stream": "stdout",
       "text": [
        "Populating the interactive namespace from numpy and matplotlib\n"
       ]
      },
      {
       "metadata": {},
       "output_type": "pyout",
       "prompt_number": 151,
       "text": [
        "<matplotlib.collections.PathCollection at 0x10e3f1650>"
       ]
      },
      {
       "metadata": {},
       "output_type": "display_data",
       "png": "[encoded data removed]",
       "text": [
        "<matplotlib.figure.Figure at 0x1083ee890>"
       ]
      }
     ],
     "prompt_number": 151
    },
    {
     "cell_type": "markdown",
     "metadata": {
      "slideshow": {
       "slide_type": "slide"
      }
     },
     "source": [
      "Want a query that is closest to relevant documents, but far from irrelevant documents.\n",
      "\n",
      "$\\vec{q}^* = \\frac{1}{|C_r|} \\sum_{\\vec{d_j} \\in C_r}\\vec{d}_j - \\frac{1}{|C_{nr}|} \\sum_{\\vec{d}_j \\in C_{nr}} \\vec{d}_j$"
     ]
    },
    {
     "cell_type": "markdown",
     "metadata": {},
     "source": [
      "![rocchio](files/rocchio.png)\n",
      "\n",
      "Source: [MRS](http://nlp.stanford.edu/IR-book/pdf/09expand.pdf)"
     ]
    },
    {
     "cell_type": "markdown",
     "metadata": {
      "slideshow": {
       "slide_type": "slide"
      }
     },
     "source": [
      "But, we don't know the set of all relevant and irrelevant documents.\n",
      "\n",
      "\n",
      "$\\vec{q}_m = \\alpha \\vec{q}_0 + \\beta\\frac{1}{D_r} \\sum_{\\vec{d}_j \\in D_r} \\vec{d}_j - \\gamma\\frac{1}{|D_{nr}|} \\sum_{\\vec{d_j} \\in D_{nr}} \\vec{d}_j$\n",
      "\n",
      "- $\\vec{q}_0$ is original query vector\n",
      "- $\\alpha$, $\\beta$, $\\gamma$ are tunable parameters.\n"
     ]
    },
    {
     "cell_type": "code",
     "collapsed": false,
     "input": [
      "# Plot effect of relevance feedback as we change parameters.\n",
      "import numpy as np\n",
      "from numpy import array as npa\n",
      "import random as rnd\n",
      "\n",
      "def centroid(docs):\n",
      "    return np.sum(docs, axis=0) / len(docs)\n",
      "\n",
      "def rocchio(query, relevant, irrelevant, alpha, beta, gamma):\n",
      "    return alpha * query + beta * centroid(relevant) - gamma * centroid(irrelevant) \n",
      "\n",
      "# Create some documents\n",
      "relevant = npa([[1, 5], [1.1, 5.1], [0.9, 4.9], [1.0, 4.8]])\n",
      "irrelevant = npa([[rnd.random()*6, rnd.random()*6] for i in range(30)])\n",
      "\n",
      "# Create a query\n",
      "query = npa([1, 1])\n",
      "\n",
      "# Compute two different Rocchio updates (beta=0.5, beta=0)\n",
      "new_query_b5 = rocchio(query, relevant, irrelevant, 1., .75, .5)\n",
      "new_query_b0 = rocchio(query, relevant, irrelevant, 1., .75, 0.)\n",
      "\n",
      "# Plot them.\n",
      "pos = scatter([p[0] for p in relevant], [p[1] for p in relevant])\n",
      "neg = scatter([p[0] for p in irrelevant], [p[1] for p in irrelevant], marker='+', edgecolor='red')\n",
      "q = scatter(query[0], query[1], marker='v', c=0.1, s=100)\n",
      "newq_b5 = scatter([new_query_b5[0]], [new_query_b5[1]], marker='*', s=100, c=.9)\n",
      "newq_b0 = scatter([new_query_b0[0]], [new_query_b0[1]], marker='d', s=100, c=.8)\n",
      "plt.legend((pos, neg, q, newq_b5, newq_b0),\n",
      "           ('relevant', 'irrelevant', 'query', 'beta=.5', 'beta=0'),\n",
      "           scatterpoints=1,\n",
      "           loc='lower right',\n",
      "           ncol=3,\n",
      "           fontsize=9)"
     ],
     "language": "python",
     "metadata": {},
     "outputs": [
      {
       "metadata": {},
       "output_type": "pyout",
       "prompt_number": 152,
       "text": [
        "<matplotlib.legend.Legend at 0x10eee3510>"
       ]
      },
      {
       "metadata": {},
       "output_type": "display_data",
       "png": "[encoded data removed]",
       "text": [
        "<matplotlib.figure.Figure at 0x10eedcbd0>"
       ]
      }
     ],
     "prompt_number": 152
    },
    {
     "cell_type": "markdown",
     "metadata": {
      "slideshow": {
       "slide_type": "fragment"
      }
     },
     "source": [
      "- $\\beta=0$ Often used, since we're more confident in relevant annotations than irrelevant."
     ]
    },
    {
     "cell_type": "markdown",
     "metadata": {
      "slideshow": {
       "slide_type": "fragment"
      }
     },
     "source": [
      "- One might decrease $\\alpha$ as the number of relevant documents increase."
     ]
    },
    {
     "cell_type": "markdown",
     "metadata": {
      "slideshow": {
       "slide_type": "slide"
      }
     },
     "source": [
      "# Does relevance feedback help precision or recall?"
     ]
    },
    {
     "cell_type": "markdown",
     "metadata": {
      "slideshow": {
       "slide_type": "fragment"
      }
     },
     "source": [
      "- Mostly recall: \"adding\" similar terms to query vector from relevant documents.\n",
      "\n",
      "- When would it not help?"
     ]
    },
    {
     "cell_type": "markdown",
     "metadata": {
      "slideshow": {
       "slide_type": "fragment"
      }
     },
     "source": [
      "- Spelling correction?\n",
      "- Different language?\n",
      "- Synonyms?\n",
      "\n",
      "\n",
      "- Assumption 1: query is \"close\" to relevant documents\n",
      "  - feedback makes the query closer\n",
      "  \n",
      "- Assumption 2: relevant documents form one cluster."
     ]
    },
    {
     "cell_type": "code",
     "collapsed": false,
     "input": [
      "# What happens if there are two clusters of relevant examples?\n",
      "\n",
      "import numpy as np\n",
      "import random as rnd\n",
      "\n",
      "points = [[1, 5], [1.1, 5.1], [0.9, 4.9], [1.0, 4.8],\n",
      "          [5, 1.2], [4.9, 1.1], [5.1, 1.0], [4.8,1.2]]\n",
      "\n",
      "centroid = np.sum(points, axis=0) / len(points)\n",
      "pos = scatter([p[0] for p in points], [p[1] for p in points])\n",
      "neg = scatter([rnd.random()*6 for i in range(30)], [rnd.random() * 6 for i in range(30)], marker='+', edgecolor='red')\n",
      "centroid = scatter([centroid[0]], [centroid[1]], marker='x', s=100, edgecolor='green')\n",
      "plt.legend((pos, neg, centroid),\n",
      "           ('relevant', 'irrelevant', 'centroid'),\n",
      "           scatterpoints=1,\n",
      "           loc='lower left',\n",
      "           ncol=3,\n",
      "           fontsize=8)"
     ],
     "language": "python",
     "metadata": {
      "slideshow": {
       "slide_type": "fragment"
      }
     },
     "outputs": [
      {
       "metadata": {},
       "output_type": "pyout",
       "prompt_number": 153,
       "text": [
        "<matplotlib.legend.Legend at 0x10ea53ed0>"
       ]
      },
      {
       "metadata": {},
       "output_type": "display_data",
       "png": "[encoded data removed]",
       "text": [
        "<matplotlib.figure.Figure at 0x10d8f7550>"
       ]
      }
     ],
     "prompt_number": 153
    },
    {
     "cell_type": "markdown",
     "metadata": {
      "slideshow": {
       "slide_type": "slide"
      }
     },
     "source": [
      "# Does relevance feedback affect search time?"
     ]
    },
    {
     "cell_type": "markdown",
     "metadata": {
      "slideshow": {
       "slide_type": "fragment"
      }
     },
     "source": [
      "- Much longer queries\n",
      "- How to approximate?\n",
      "  - Use top $k$ most informative terms from relevant set."
     ]
    },
    {
     "cell_type": "markdown",
     "metadata": {
      "slideshow": {
       "slide_type": "slide"
      }
     },
     "source": [
      "# Variants of relevance feedback\n",
      "\n",
      "- Pseudo-relevance: Assume top $k$ documents are relevant.\n",
      "- Indirect relevance: Mine click logs."
     ]
    },
    {
     "cell_type": "markdown",
     "metadata": {
      "slideshow": {
       "slide_type": "slide"
      }
     },
     "source": [
      "# Pseudo-relevance feedback\n",
      "\n",
      "1. Rank documents\n",
      "2. Let $V$ be the top $k$ documents. We pretend these are all relevant.\n",
      "3. Update $q$ according to Rocchio\n",
      "\n",
      "We can iterate steps $2-4$ until ranking stops changing.\n",
      "\n",
      "When would this work? When would this not work?"
     ]
    },
    {
     "cell_type": "markdown",
     "metadata": {
      "slideshow": {
       "slide_type": "slide"
      }
     },
     "source": [
      "# Explicit query expansion\n",
      "\n",
      "- Thesaurus\n",
      "- Word co-occurrences\n",
      "- Mine reformulations from query log"
     ]
    },
    {
     "cell_type": "markdown",
     "metadata": {
      "slideshow": {
       "slide_type": "slide"
      }
     },
     "source": [
      "# WordNet\n",
      "\n",
      "<http://wordnetweb.princeton.edu/perl/webwn>"
     ]
    },
    {
     "cell_type": "markdown",
     "metadata": {
      "slideshow": {
       "slide_type": "slide"
      }
     },
     "source": [
      "# Thesaurus discovery\n",
      "\n",
      "**Idea:** Look for words that occur in same context.\n",
      "\n",
      "- \"He put the mug on the \\_\\_\\_\\_\\_\""
     ]
    },
    {
     "cell_type": "code",
     "collapsed": false,
     "input": [
      "from collections import Counter, defaultdict\n",
      "from sklearn.datasets import fetch_20newsgroups\n",
      "import re\n",
      "docs = fetch_20newsgroups(subset='train', remove=('headers', 'footers', 'quotes'),\n",
      "                          categories=['comp.graphics', 'comp.sys.mac.hardware', 'comp.sys.ibm.pc.hardware',\n",
      "                                      'comp.os.ms-windows.misc']).data\n",
      "\n",
      "# Count words that occur within a window of -n to +n of each word.\n",
      "def term2contexts(docs, n):\n",
      "    contexts = defaultdict(lambda: Counter())\n",
      "    for d in docs:\n",
      "        toks = re.findall('[\\w]+', d.lower())\n",
      "        for i in range(len(toks)):\n",
      "            contexts[toks[i]].update(toks[i-n:i] + toks[i+1:i+n+1])\n",
      "    return contexts\n",
      "\n",
      "contexts = term2contexts(docs, 1)\n",
      "print contexts['email']"
     ],
     "language": "python",
     "metadata": {
      "slideshow": {
       "slide_type": "fragment"
      }
     },
     "outputs": [
      {
       "output_type": "stream",
       "stream": "stdout",
       "text": [
        "Counter({u'please': 31, u'me': 26, u'or': 21, u'to': 18, u'via': 15, u'address': 14, u'by': 13, u'and': 10, u'as': 7, u'send': 6, u'the': 6, u'addresses': 5, u'it': 5, u'if': 5, u'i': 5, u'replies': 4, u's': 4, u'thanks': 3, u'an': 3, u'sp': 3, u'at': 3, u'also': 2, u'your': 2, u'responses': 2, u'my': 2, u'with': 2, u'can': 2, u'have': 2, u'any': 2, u'you': 2, u'response': 2, u'request': 2, u'time': 2, u'canberra': 1, u'soon': 1, u'03051': 1, u'through': 1, u'edu': 1, u'anyoneand': 1, u'query': 1, u'mikael_fredriksson': 1, u'whose': 1, u'vatti': 1, u'mail': 1, u'weeks': 1, u'7197': 1, u'karlth': 1, u'fax': 1, u'his': 1, u'means': 1, u'very': 1, u'utah': 1, u'possible': 1, u'87131': 1, u'whichever': 1, u'every': 1, u'not': 1, u'advanced': 1, u'server': 1, u'try': 1, u'9570': 1, u'2393': 1, u'x': 1, u'tp923021': 1, u'gmbh': 1, u'schaefer': 1, u'gloege': 1, u'id': 1, u'80': 1, u'robert': 1, u'thank': 1, u'current': 1, u'enough': 1, u'reply': 1, u'khoros': 1, u'available': 1, u'ken': 1, u'we': 1, u'hansch': 1, u'300': 1, u'sole': 1, u'1933': 1, u'joe': 1, u'haston': 1, u'care': 1, u'advance': 1, u'c': 1, u'limits': 1, u'could': 1, u'etc': 1, u'corrections': 1, u'rodney': 1, u'com': 1, u'facility': 1, u'imagine': 1, u'prefer': 1, u'fredriksson': 1, u'directly': 1, u'johne': 1, u'7795966': 1, u'there': 1, u'2': 1, u'leehian': 1, u'that': 1, u'happily': 1, u'but': 1, u'capabilities': 1, u'ma': 1, u'submissions': 1, u'ihno': 1, u'growing': 1, u'similar': 1, u'6695': 1, u'508336': 1, u'documentation': 1, u'is': 1, u'good': 1, u'something': 1, u'in': 1, u'mouse': 1, u'karl': 1, u'information': 1, u'no': 1, u'get': 1, u'when': 1, u'd2002': 1, u'1': 1, u'tim': 1, u'valid': 1, u'wes1574': 1, u'faxes': 1, u'singapore': 1, u'66s': 1, u'dicta93': 1, u'after': 1, u'wnkretz': 1, u'annee': 1, u'a': 1, u'markus': 1, u'marchesf': 1, u'contact': 1, u'corporate': 1})\n"
       ]
      }
     ],
     "prompt_number": 154
    },
    {
     "cell_type": "code",
     "collapsed": false,
     "input": [
      "import math\n",
      "# Compute inverse document frequency values for each term.\n",
      "def compute_idfs(docs):\n",
      "    idfs = Counter()\n",
      "    for d in docs:\n",
      "        toks = set(re.findall('[\\w]+', d.lower()))\n",
      "        idfs.update(toks)\n",
      "    for d in dfs:\n",
      "        idfs[d] = math.log(1.0 * len(docs) / idfs[d])\n",
      "    return idfs\n",
      "\n",
      "idfs = compute_idfs(docs)\n",
      "print 'idf of the=', idfs['the'], ' of monitor=', idfs['monitor']"
     ],
     "language": "python",
     "metadata": {
      "slideshow": {
       "slide_type": "fragment"
      }
     },
     "outputs": [
      {
       "output_type": "stream",
       "stream": "stdout",
       "text": [
        "idf of the= 0.207475223156  of monitor= 2.86134763856\n"
       ]
      }
     ],
     "prompt_number": 155
    },
    {
     "cell_type": "code",
     "collapsed": false,
     "input": [
      "def cosine(term1, term2):\n",
      "    context1 = contexts[term1]\n",
      "    context2 = contexts[term2]\n",
      "    sim = sum(idfs[term] * context1[term] * context2[term] for term in context1)\n",
      "    return 1.0 * sim / (sum(context1.values()) + sum(context2.values()))\n",
      "\n",
      "def find_closest_term(term, contexts):\n",
      "    context1 = contexts[term]\n",
      "    cosines = [(term2, cosine(term, term2)) for term2 in contexts]\n",
      "    return sorted(cosines, key=lambda x: x[1], reverse=True)\n",
      "\n",
      "print '\\n'.join('%s  %.2f' % (w, v) for w, v in find_closest_term('email', contexts)[:10])"
     ],
     "language": "python",
     "metadata": {
      "slideshow": {
       "slide_type": "fragment"
      }
     },
     "outputs": [
      {
       "output_type": "stream",
       "stream": "stdout",
       "text": [
        "email  9.18\n",
        "tell  6.66\n",
        "let  6.53\n",
        "reply  6.18\n",
        "send  5.26\n",
        "mail  4.70\n",
        "help  4.38\n",
        "give  3.86\n",
        "respond  3.24\n",
        "post  2.83\n"
       ]
      }
     ],
     "prompt_number": 156
    },
    {
     "cell_type": "markdown",
     "metadata": {
      "slideshow": {
       "slide_type": "fragment"
      }
     },
     "source": [
      "Google's $n$-gram data: \n",
      "\n",
      "<http://googleresearch.blogspot.com/2006/08/all-our-n-gram-are-belong-to-you.html>"
     ]
    },
    {
     "cell_type": "markdown",
     "metadata": {
      "slideshow": {
       "slide_type": "slide"
      }
     },
     "source": [
      "# How do we decide when to expand the query?"
     ]
    },
    {
     "cell_type": "markdown",
     "metadata": {
      "slideshow": {
       "slide_type": "fragment"
      }
     },
     "source": [
      "- Few results returned.\n",
      "- Query log data\n",
      "  - Searches where few results are clicked."
     ]
    }
   ],
   "metadata": {}
  }
 ]
}