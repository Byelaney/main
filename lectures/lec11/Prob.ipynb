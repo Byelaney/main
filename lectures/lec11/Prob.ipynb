{
 "metadata": {
  "name": ""
 },
 "nbformat": 3,
 "nbformat_minor": 0,
 "worksheets": [
  {
   "cells": [
    {
     "cell_type": "markdown",
     "metadata": {
      "slideshow": {
       "slide_type": "slide"
      }
     },
     "source": [
      "# CS 429: Information Retrieval\n",
      "\n",
      "<br>\n",
      "\n",
      "## Lecture 11: Probabilistic IR, Part I\n",
      "\n",
      "<br>\n",
      "\n",
      "### Dr. Aron Culotta\n",
      "### Illinois Institute of Technology \n",
      "### Spring 2014\n",
      "\n",
      "---"
     ]
    },
    {
     "cell_type": "markdown",
     "metadata": {
      "slideshow": {
       "slide_type": "slide"
      }
     },
     "source": [
      "Last time:\n",
      "\n",
      "- query expansion\n",
      "\n",
      "This time:\n",
      "\n",
      "- We'll derive something similar to $tfidf$ using probability theory.\n",
      "- In the next lectures, we'll extend this to more sophisticated probabilistic ranking models."
     ]
    },
    {
     "cell_type": "markdown",
     "metadata": {
      "slideshow": {
       "slide_type": "slide"
      }
     },
     "source": [
      "**Goal:** Model the probability that a document is relevant.\n",
      "\n",
      "$P(R=1|  d, q)$\n",
      "\n",
      "- $R$: binary variable; 1 if document $d$ is relevant to query $q$\n"
     ]
    },
    {
     "cell_type": "markdown",
     "metadata": {
      "slideshow": {
       "slide_type": "slide"
      }
     },
     "source": [
      "# Probability review\n",
      "\n",
      "- **Chain rule**\n",
      "\n",
      "$P(A, B) \\equiv P(A \\cap B) = P(A|B)P(B) = P(B|A)P(B)$\n",
      "\n",
      "\n",
      "- **Bayes' rule** (application of the chain rule)\n",
      "\n",
      "$P(A|B) = \\frac{P(A,B)}{P(B)} = \\frac{P(B|A)P(A)}{P(B)}$\n"
     ]
    },
    {
     "cell_type": "markdown",
     "metadata": {
      "slideshow": {
       "slide_type": "fragment"
      }
     },
     "source": [
      "**Using Bayes' Rule**:\n",
      "\n",
      "$P(R=1| d,q) = \\frac{P(d|R=1, q)P(R=1|q)}{P(d|q)}$\n"
     ]
    },
    {
     "cell_type": "markdown",
     "metadata": {
      "slideshow": {
       "slide_type": "fragment"
      }
     },
     "source": [
      "- Why did we complicate things by turning one term into three?\n",
      "\n",
      "- It will turn out to be easier to come up with estimates of those three simpler values."
     ]
    },
    {
     "cell_type": "markdown",
     "metadata": {
      "slideshow": {
       "slide_type": "slide"
      }
     },
     "source": [
      "Let's assume for now we can compute $P(R=1|d, q)$.\n",
      "\n",
      "- How do we use it?\n"
     ]
    },
    {
     "cell_type": "markdown",
     "metadata": {
      "slideshow": {
       "slide_type": "fragment"
      }
     },
     "source": [
      "- Rank all documents by probability of relevance: $P(R=1|d,q)$.\n",
      "\n",
      "Equivalently, we can rank documents by the **odds** of relevance:\n",
      "\n",
      "$\\frac{P(R=1|d,q)}{P(R=0|d,q)}$\n",
      "\n",
      "This will produce the same rankings (since $P(R=1|d,q) + P(R=0|d,q) = 1$).\n",
      "\n"
     ]
    },
    {
     "cell_type": "markdown",
     "metadata": {
      "slideshow": {
       "slide_type": "fragment"
      }
     },
     "source": [
      "Using odds, the denominator of Bayes' rule cancels out:\n",
      "\n",
      "$\\frac{P(d|R=1, q)P(R=1|q)}{P(d|q)} / \\frac{P(d|R=0, q)P(R=0|q)}{P(d|q)}$\n",
      "\n",
      "$= \\frac{P(d|R=1, q)P(R=1|q)}{ P(d|R=0, q)P(R=0|q) }$"
     ]
    },
    {
     "cell_type": "markdown",
     "metadata": {
      "slideshow": {
       "slide_type": "fragment"
      }
     },
     "source": [
      "Furthermore, the ratio $\\frac{P(R=1|q)}{P(R=0|q)}$ is constant for every document\n",
      "\n",
      "- So, it does not affect ranking."
     ]
    },
    {
     "cell_type": "markdown",
     "metadata": {
      "slideshow": {
       "slide_type": "slide"
      }
     },
     "source": [
      "The only terms remaining in our scoring function, then, are:\n",
      "\n",
      "$\\frac{P(d|R=1, q)}{ P(d|R=0, q)}$"
     ]
    },
    {
     "cell_type": "markdown",
     "metadata": {
      "slideshow": {
       "slide_type": "fragment"
      }
     },
     "source": [
      "$P(d|R=1,q)$ is the probability of seeing a relevant document $d$ given query $q$.\n",
      "\n",
      "What is this, and how do we estimate it?"
     ]
    },
    {
     "cell_type": "markdown",
     "metadata": {
      "slideshow": {
       "slide_type": "slide"
      }
     },
     "source": [
      "# Binary Independence Model\n",
      "\n",
      "Each document represent by a binary term vector.\n",
      "\n",
      "$d = \\vec{x} = \\{x_1, x_2, \\ldots, x_n\\}$\n",
      "\n",
      "where $x_i=1$ if term $i$ appears in $d$ at least once.\n",
      "\n",
      "- Frequency of term is ignored (for now).\n",
      "- Word order ignored."
     ]
    },
    {
     "cell_type": "markdown",
     "metadata": {
      "slideshow": {
       "slide_type": "fragment"
      }
     },
     "source": [
      "$P(d|R=1,q) = P(\\vec{x}|R=1,q)$"
     ]
    },
    {
     "cell_type": "markdown",
     "metadata": {
      "slideshow": {
       "slide_type": "slide"
      }
     },
     "source": [
      "**Conditional independence assumption**:\n",
      "\n",
      "We assume that $x_i$ is conditionally independent of $x_j$ given $R,q$.\n",
      "\n",
      "Recall notion of probabilistic independence:\n",
      "\n",
      "If $A \\perp\\!\\!\\!\\perp B$, then $P(A,B) = P(A)P(B)$.\n",
      "\n",
      "- E.g., two flips of a coin\n",
      "\n",
      "**Conditional independence:**\n",
      "\n",
      "If $A \\perp\\!\\!\\!\\perp B$ | $C$, then $P(A,B|C) = P(A|C)P(B|C)$.\n",
      "\n",
      "- E.g., if a coin might be biased towards heads, then knowing the outcome of the first flip may influence my estimate for the second flip.\n",
      "- But, knowing for sure the bias of the coin renders the two flips independent\n"
     ]
    },
    {
     "cell_type": "markdown",
     "metadata": {
      "slideshow": {
       "slide_type": "slide"
      }
     },
     "source": [
      "Assuming conditional independence of $x$ given $R,q$:\n",
      "\n",
      "$P(\\vec{x}|R=1,q) = P(x_1|R=1,q)P(x_2|R=1,q) \\ldots P(x_n|R=1,q)$\n",
      "\n",
      "&nbsp;&nbsp;&nbsp;&nbsp;&nbsp;&nbsp; $= \\prod_i P(x_i | R=1, q)$"
     ]
    },
    {
     "cell_type": "markdown",
     "metadata": {},
     "source": [
      "We've reduced the problem from \"what's the probability of a relevant document\" to \"what's the probability of a relevant term\""
     ]
    },
    {
     "cell_type": "markdown",
     "metadata": {
      "slideshow": {
       "slide_type": "slide"
      }
     },
     "source": [
      "Since each $x_i$ is either 0 or 1, we can re-write this as:\n",
      "\n",
      "$P(\\vec{x}|R=1,q) = \\prod_{i:x_i=1}P(x_i=1|R=1,q) \\prod_{i:x_i=0}P(x_i=0|R=1,q)$\n",
      "\n",
      "- where $i:x_i=1$ means loop over terms that are in the document.\n",
      "- and $i:x_i=0$ means loop over terms that are not in the document."
     ]
    },
    {
     "cell_type": "markdown",
     "metadata": {
      "slideshow": {
       "slide_type": "fragment"
      }
     },
     "source": [
      "We can make a table of the various probabilities we need to estimate:\n",
      "\n",
      "<table>\n",
      "<tr><td> </td><td> </td><td colspan=2>R</td></tr>\n",
      "<tr><td> </td><td> </td><td>$R=1$</td><td>$R=0$</td></tr>\n",
      "<tr><td rowspan=2>$x_i$</td><td>$x_i=1$</td><td>$p_i$</td><td>$u_i$</td></tr>\n",
      "<tr><td>$x_i=0$</td><td>$1-p_i$</td><td>$1 - u_i$</td></tr>\n",
      "</table>\n",
      "\n",
      "- $p_i$: probability of seeing word $x_i$ in a document that is relevant to the query.\n",
      "- $u_i$: probability of seeing word $x_i$ in a document that is **not** relevant to the query.\n",
      "- $1-p_i$: probability of **not** seeing word $x_i$ in a document that is relevant to the query.\n",
      "- $1-u_i$: probability of **not** seeing word $x_i$ in a document that is **not** relevant to the query."
     ]
    },
    {
     "cell_type": "markdown",
     "metadata": {
      "slideshow": {
       "slide_type": "slide"
      }
     },
     "source": [
      "We can substitute in the values from the table in our calculations:\n",
      "\n",
      "$P(\\vec{x}|R=1,q) = \\prod_{i:x_i=1}P(x_i=1|R=1,q) \\prod_{i:x_i=0}P(x_i=0|R=1,q)$\n",
      "\n",
      "  $=\\prod_{i:x_i=1}p_i \\prod_{i:x_i=0}(1-p_i)$\n",
      "  \n",
      "and for non-relevance:\n",
      "\n",
      "$P(\\vec{x}|R=0,q) = \\prod_{i:x_i=1}P(x_i=1|R=0,q) \\prod_{i:x_i=0}P(x_i=0|R=0,q)$\n",
      "\n",
      "  $=\\prod_{i:x_i=1}u_i \\prod_{i:x_i=0}(1-u_i)$\n"
     ]
    },
    {
     "cell_type": "markdown",
     "metadata": {
      "slideshow": {
       "slide_type": "fragment"
      }
     },
     "source": [
      "Our odds ratio can now be written as:\n",
      "\n",
      "$\\frac{P(d|R=1, q)}{ P(d|R=0, q)} = \\prod_{i:x_i=1}\\frac{p_i}{u_i} \\prod_{i:x_i=0}\\frac{(1-p_i)}{(1-u_i)}$"
     ]
    },
    {
     "cell_type": "markdown",
     "metadata": {
      "slideshow": {
       "slide_type": "slide"
      }
     },
     "source": [
      "These products currently loop over all words in a document, even those not in the query.\n",
      "\n",
      "We make the assumption that the words in the query are the only ones that matter:\n",
      "\n",
      "$\\frac{P(d|R=1, q)}{ P(d|R=0, q)} = \\prod_{i:x_i=q_i=1}\\frac{p_i}{u_i} \\prod_{i:x_i=0,q_i=1}\\frac{(1-p_i)}{(1-u_i)}$\n",
      "\n",
      "- where $i:x_i=q_i=1$ means that both the query and document contain term $x_i$\n",
      "- and $i:x_i=0,q_i=1$ means that the query contains the term, but the document doesn't"
     ]
    },
    {
     "cell_type": "markdown",
     "metadata": {
      "slideshow": {
       "slide_type": "fragment"
      }
     },
     "source": [
      "We can cleverly re-arrange these terms to:\n",
      "\n",
      "$\\frac{P(d|R=1, q)}{ P(d|R=0, q)} = \\prod_{i:x_i=q_i=1}\\frac{p_i(1-u_i)}{u_i(1-p_i)} \\prod_{i:q_i=1}\\frac{(1-p_i)}{(1-u_i)}$\n",
      "\n",
      "where now the second product is document independent, so we can ignore it from the ranking score."
     ]
    },
    {
     "cell_type": "markdown",
     "metadata": {
      "slideshow": {
       "slide_type": "slide"
      }
     },
     "source": [
      "Finally, we are left as our ranking function:\n",
      "\n",
      "$\\frac{P(d|R=1, q)}{ P(d|R=0, q)} = \\prod_{i:x_i=q_i=1}\\frac{p_i(1-u_i)}{u_i(1-p_i)}$\n",
      "\n",
      "as a reminder:\n",
      "\n",
      "- $p_i$: probability of seeing word $x_i$ in a document that is relevant to the query.\n",
      "- $u_i$: probability of seeing word $x_i$ in a document that is **not** relevant to the query.\n",
      "- $1-p_i$: probability of **not** seeing word $x_i$ in a document that is relevant to the query.\n",
      "- $1-u_i$: probability of **not** seeing word $x_i$ in a document that is **not** relevant to the query."
     ]
    },
    {
     "cell_type": "markdown",
     "metadata": {
      "slideshow": {
       "slide_type": "slide"
      }
     },
     "source": [
      "For numerical reasons, we typically take the log of this, which is called the *Retrieval Status Value (RSV)*:\n",
      "\n",
      "$RSV(d) = \\log \\prod_{i:x_i=q_i=1}\\frac{p_i(1-u_i)}{u_i(1-p_i)} = \\sum_{i:x_i=q_i=1}\\log\\frac{p_i(1-u_i)}{u_i(1-p_i)}$\n",
      "\n",
      "\n",
      "\n",
      "$= \\sum_{i:x_i=q_i=1} \\log \\frac{p_i}{1-p_i} + \\log\\frac{1-u_i}{u_i}$"
     ]
    },
    {
     "cell_type": "markdown",
     "metadata": {},
     "source": [
      "$RSV(d)$ will be used to rank each document $d$"
     ]
    },
    {
     "cell_type": "markdown",
     "metadata": {
      "slideshow": {
       "slide_type": "slide"
      }
     },
     "source": [
      "# Estimation\n",
      "\n",
      "We still need to estimate \n",
      "\n",
      "- $p_i$: probability of seeing word $x_i$ in a document that is relevant to the query.\n",
      "- $u_i$: probability of seeing word $x_i$ in a document that is **not** relevant to the query."
     ]
    },
    {
     "cell_type": "markdown",
     "metadata": {
      "slideshow": {
       "slide_type": "fragment"
      }
     },
     "source": [
      "Given a set of documents $D=\\{d_1 \\ldots d_N\\}$, what is the probability of seeing word $x_i$?"
     ]
    },
    {
     "cell_type": "markdown",
     "metadata": {
      "slideshow": {
       "slide_type": "fragment"
      }
     },
     "source": [
      "Just count:\n",
      "\n",
      "(number of documents containing $x_i$) / $N$"
     ]
    },
    {
     "cell_type": "markdown",
     "metadata": {
      "slideshow": {
       "slide_type": "slide"
      }
     },
     "source": [
      "To estimate $u_i$ (prob. of $x_i$ in a non-relevant document)\n",
      "\n",
      "- Given a very large collection, most documents are not relevant to a query.\n",
      "- So, we can estimate $u_i$ as simply the probability of seeing $x_i$ in *any* document...\n",
      "- Which is just *document frequency*!\n",
      "\n",
      "$u_i = \\frac{df_i}{N}$\n",
      "\n"
     ]
    },
    {
     "cell_type": "markdown",
     "metadata": {
      "slideshow": {
       "slide_type": "fragment"
      }
     },
     "source": [
      "Thus\n",
      "\n",
      "$\\log\\frac{1-u_i}{u_i} = \\log\\frac{1-\\frac{df_i}{N}}{\\frac{df_i}{N}} = \\log \\frac{N-df_i}{df_i} \\approx \\log \\frac{N}{df_i}$"
     ]
    },
    {
     "cell_type": "markdown",
     "metadata": {
      "slideshow": {
       "slide_type": "slide"
      }
     },
     "source": [
      "Plugging this back into the RSV equation:\n",
      "\n",
      "$RSV(d) = \\sum_{i:x_i=q_i=1} \\log \\frac{p_i}{1-p_i} + \\log\\frac{1-u_i}{u_i}$\n",
      "\n",
      "$= \\sum_{i:x_i=q_i=1} \\log \\frac{p_i}{1-p_i} + \\log\\frac{N}{df_i}$"
     ]
    },
    {
     "cell_type": "markdown",
     "metadata": {
      "slideshow": {
       "slide_type": "slide"
      }
     },
     "source": [
      "How should we estimate $p_i$? (probability of seeing word $x_i$ in a relevant document)"
     ]
    },
    {
     "cell_type": "markdown",
     "metadata": {
      "slideshow": {
       "slide_type": "fragment"
      }
     },
     "source": [
      "1. Ignore it! Then, we rank documents only by $idf$\n",
      "2. Ask a human for relevance judgements. (*expensive*)\n",
      "3. Use click log data.\n",
      "4. Assume the top $k$ retrieved results are relevant, then estimate from that (psuedo-relevance feedback)"
     ]
    },
    {
     "cell_type": "markdown",
     "metadata": {
      "slideshow": {
       "slide_type": "slide"
      }
     },
     "source": [
      "# Psuedo-relevance Feedback\n",
      "\n",
      "1. Initialize $p_i \\leftarrow 0.5$.\n",
      "2. Rank documents by $RSV(d)$.\n",
      "3. Let $V$ be the top $k$ documents. We pretend these are all relevant.\n",
      "4. We then update $p_i$ to be the proportion of elements of $V$ that contain term $x_i$\n",
      "  - $p_i = $ (number of documents containing $x_i$ in $V$) / $|V|$\n",
      "  \n",
      "We can iterate steps $2-4$ until ranking stops changing."
     ]
    }
   ],
   "metadata": {}
  }
 ]
}