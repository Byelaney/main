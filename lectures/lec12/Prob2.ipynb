{
 "metadata": {
  "name": ""
 },
 "nbformat": 3,
 "nbformat_minor": 0,
 "worksheets": [
  {
   "cells": [
    {
     "cell_type": "markdown",
     "metadata": {},
     "source": [
      "# CS 429: Information Retrieval\n",
      "<br>\n",
      "\n",
      "## Lecture 12: Probabilistic IR, Part II\n",
      "\n",
      "<br>\n",
      "\n",
      "### Dr. Aron Culotta\n",
      "### Illinois Institute of Technology\n",
      "### Spring 2014"
     ]
    },
    {
     "cell_type": "markdown",
     "metadata": {
      "slideshow": {
       "slide_type": "slide"
      }
     },
     "source": [
      "Last time:\n",
      "\n",
      "- Probabilistic justification for $idf$ weights\n",
      "\n",
      "This time:\n",
      "\n",
      "- Include term frequency\n",
      "- Normalize by document length\n",
      "  - BM25 (Okapi)\n",
      "- Extensions to fielded search"
     ]
    },
    {
     "cell_type": "markdown",
     "metadata": {
      "slideshow": {
       "slide_type": "slide"
      }
     },
     "source": [
      "# RSV (Retrieval Status Value)\n",
      "\n",
      "$ RSV(d) = \\sum_{i:x_i=q_i=1} \\log \\frac{N}{df_i}$ \n",
      "\n",
      "- sum of (log of) inverse document frequencies for each matching query term"
     ]
    },
    {
     "cell_type": "markdown",
     "metadata": {
      "slideshow": {
       "slide_type": "fragment"
      }
     },
     "source": [
      "**Assumptions of RSV:**\n",
      "\n",
      "- a Boolean representation of documents/queries/relevance\n",
      "- term independence\n",
      "- terms not in the query don\u2019t affect the outcome\n",
      "- document relevance values are independent"
     ]
    },
    {
     "cell_type": "markdown",
     "metadata": {
      "slideshow": {
       "slide_type": "slide"
      }
     },
     "source": [
      "# Multiplying by term frequency\n",
      "\n",
      "\n",
      "$ RSV_{tf}(d) = \\sum_{i:x_i=q_i=1} \\log \\Big[ \\frac{N}{df_i}\\Big] \\times tf_i$ \n"
     ]
    },
    {
     "cell_type": "markdown",
     "metadata": {
      "slideshow": {
       "slide_type": "fragment"
      }
     },
     "source": [
      "- but, want $tf$ scores to be bounded, so\n",
      "\n",
      "$ RSV_{tf}(d) = \\sum_{i:x_i=q_i=1} \\log \\Big[ \\frac{N}{df_i} \\Big] \\times \\frac{(k+1)tf_i}{k + tf_i}$ \n",
      "\n",
      "What is the effect of $k$?"
     ]
    },
    {
     "cell_type": "code",
     "collapsed": false,
     "input": [
      "# Plot tf score as k varies.\n",
      "\n",
      "def tfscore(k, tf):\n",
      "    return (k+1)*tf / (k+tf)\n",
      "\n",
      "% pylab inline\n",
      "tf = 10\n",
      "ks = [0., .5, 1., 1.5, 2.0]\n",
      "tfs = [1, 2, 3, 4, 5, 6, 7, 8, 9, 10]\n",
      "for k in ks:\n",
      "    plot(tfs, [tfscore(k, tf) for tf in tfs], label='k=' + str(k))\n",
      "xlabel('tf')\n",
      "ylabel('score')\n",
      "legend(loc='upper left', bbox_to_anchor=(1,1))\n",
      "ylim((0.9,2.6))"
     ],
     "language": "python",
     "metadata": {
      "slideshow": {
       "slide_type": "fragment"
      }
     },
     "outputs": [
      {
       "output_type": "stream",
       "stream": "stdout",
       "text": [
        "Populating the interactive namespace from numpy and matplotlib\n"
       ]
      },
      {
       "metadata": {},
       "output_type": "pyout",
       "prompt_number": 86,
       "text": [
        "(0.9, 2.6)"
       ]
      },
      {
       "metadata": {},
       "output_type": "display_data",
       "png": "[encoded data removed]",
       "text": [
        "<matplotlib.figure.Figure at 0x113b41790>"
       ]
      }
     ],
     "prompt_number": 86
    },
    {
     "cell_type": "markdown",
     "metadata": {},
     "source": [
      "larger $k \\rightarrow $ slower \"saturation\" of score."
     ]
    },
    {
     "cell_type": "markdown",
     "metadata": {},
     "source": [
      "- like normal $tf$, but bounded in (1,2)"
     ]
    },
    {
     "cell_type": "markdown",
     "metadata": {
      "slideshow": {
       "slide_type": "slide"
      }
     },
     "source": [
      "# Length normalization\n",
      "\n",
      "Longer document $\\rightarrow$ larger values of $tf_i$\n",
      "\n",
      "- How can we level the playing field between long and short documents?\n",
      "- Perhaps we should prefer longer documents?"
     ]
    },
    {
     "cell_type": "markdown",
     "metadata": {
      "slideshow": {
       "slide_type": "slide"
      }
     },
     "source": [
      "# Document length\n",
      "\n",
      "$l(d) = \\sum_{i \\in V} tf_i$"
     ]
    },
    {
     "cell_type": "markdown",
     "metadata": {
      "slideshow": {
       "slide_type": "slide"
      }
     },
     "source": [
      "- Average document length\n",
      "\n",
      "$\\mu_l = \\frac{1}{N}\\sum_d l(d)$"
     ]
    },
    {
     "cell_type": "markdown",
     "metadata": {
      "slideshow": {
       "slide_type": "fragment"
      }
     },
     "source": [
      "Want to allow different levels of length normalization:\n",
      "\n",
      "$B = (1-b) + b \\frac{l(d)}{\\mu_l}$  \n",
      "\n",
      "$0 \\le b \\le 1$\n",
      "\n",
      "$0=$ no normalization\n",
      "$1=$ full normalization"
     ]
    },
    {
     "cell_type": "code",
     "collapsed": false,
     "input": [
      "# What is the effect of b on the length normalization term B?\n",
      "def len_norm(b, length, avg_length):\n",
      "    return (1-b) + b * length / avg_length\n",
      "\n",
      "bs = [0., 0.2, 0.5, 0.7, 1.]\n",
      "lengths = [10, 30, 50, 100, 150, 200]\n",
      "avg_length = 50\n",
      "for b in bs:\n",
      "    plot(lengths,\n",
      "         [len_norm(b, length, avg_length) for length in lengths],\n",
      "         label='b=' + str(b))\n",
      "xlabel('document length')\n",
      "ylabel('B')\n",
      "legend(loc='upper left', bbox_to_anchor=(1,1))"
     ],
     "language": "python",
     "metadata": {
      "slideshow": {
       "slide_type": "fragment"
      }
     },
     "outputs": [
      {
       "metadata": {},
       "output_type": "pyout",
       "prompt_number": 87,
       "text": [
        "<matplotlib.legend.Legend at 0x114b52cd0>"
       ]
      },
      {
       "metadata": {},
       "output_type": "display_data",
       "png": "[encoded data removed]",
       "text": [
        "<matplotlib.figure.Figure at 0x114b31290>"
       ]
      }
     ],
     "prompt_number": 87
    },
    {
     "cell_type": "markdown",
     "metadata": {},
     "source": [
      "- large $l(d) \\rightarrow$ large $B$.\n",
      "- large $b \\rightarrow$ large $B$\n",
      "- $l(d) < \\mu_l$ $\\rightarrow$  $0 < B < 1$\n",
      "- $l(d) > \\mu_l$ $\\rightarrow$  $B > 1$ "
     ]
    },
    {
     "cell_type": "markdown",
     "metadata": {
      "slideshow": {
       "slide_type": "slide"
      }
     },
     "source": [
      "# To adjust $tf$ using $l(d)$:\n",
      "\n",
      "$tf_i' = \\frac{tf_i}{B}$"
     ]
    },
    {
     "cell_type": "markdown",
     "metadata": {},
     "source": [
      "Replacing in RSV definition:\n",
      "\n",
      "$\\begin{align}\n",
      "BM25(d) & = & \\sum_{i:x_i=q_i=1} \\log \\Big[\\frac{N}{df_i}\\Big] \\times \\frac{(k+1)tf_i'}{k + tf_i'}\\\\\n",
      "& = & \\sum_{i:x_i=q_i=1} \\log \\Big[ \\frac{N}{df_i}\\Big] \\times \\frac{(k+1)tf_i}{k((1-b) + b \\frac{l(d)}{\\mu_l}) + tf_i}\\\\\n",
      "& = & \\sum_{i:x_i=q_i=1} \\log \\Big[\\frac{N}{df_i}\\Big] \\times \\frac{(k+1)tf_i}{Bk + tf_i}\n",
      "\\end{align}$ \n",
      "\n",
      "**BM25:** \"Best Match\" 25 system (aka \"[Okapi](http://en.wikipedia.org/wiki/Okapi_BM25)\")"
     ]
    },
    {
     "cell_type": "code",
     "collapsed": false,
     "input": [
      "# How does score vary with tf and document length?\n",
      "def score(k, b, tf, length, m_length):\n",
      "    return (k + 1) * tf / (k * ((1 - b) + b * length / m_length) + tf)\n",
      "    \n",
      "tfs = [10, 20, 30, 40, 50]\n",
      "lengths = [100, 200, 300, 400, 500]\n",
      "m_length = 250\n",
      "k = 2.0  # tf strength\n",
      "b = 0.75  # length normalization strength\n",
      "\n",
      "for tf in tfs:\n",
      "    plot(lengths,\n",
      "        [score(k, b, tf, length, m_length) for length in lengths],\n",
      "        'o-', label='tf=' + str(tf))\n",
      "plot (lengths, [2.8] * len(lengths), 'k--')\n",
      "legend(loc='upper left', bbox_to_anchor=(1,1))\n",
      "xlabel('document length')\n",
      "ylabel('score')"
     ],
     "language": "python",
     "metadata": {
      "slideshow": {
       "slide_type": "fragment"
      }
     },
     "outputs": [
      {
       "metadata": {},
       "output_type": "pyout",
       "prompt_number": 83,
       "text": [
        "<matplotlib.text.Text at 0x11477ccd0>"
       ]
      },
      {
       "metadata": {},
       "output_type": "display_data",
       "png": "[encoded data removed]",
       "text": [
        "<matplotlib.figure.Figure at 0x114878c50>"
       ]
      }
     ],
     "prompt_number": 83
    },
    {
     "cell_type": "markdown",
     "metadata": {},
     "source": [
      "Compare: \n",
      "\n",
      "- two documents with same tf but different lengths\n",
      "- two documents with same length but different tf"
     ]
    },
    {
     "cell_type": "markdown",
     "metadata": {
      "slideshow": {
       "slide_type": "slide"
      }
     },
     "source": [
      "# Fielded search\n",
      "\n",
      "How can we combine scores from multiple fields? (title, author, etc.)"
     ]
    },
    {
     "cell_type": "markdown",
     "metadata": {
      "slideshow": {
       "slide_type": "fragment"
      }
     },
     "source": [
      "**Simple way:** Score each field separately and take the average.\n",
      "\n",
      "- Assumes each field the same\n",
      "\n",
      "Instead, take weighted average:"
     ]
    },
    {
     "cell_type": "markdown",
     "metadata": {
      "slideshow": {
       "slide_type": "fragment"
      }
     },
     "source": [
      "$tf^F_i = \\sum_{z=1}^Z v_z tf_{zi}$\n",
      "\n",
      "$l^F(d) = \\sum_{z=1}^Z v_z l(d_z)$\n",
      "\n",
      "$\\mu^F_l = \\frac{1}{N} \\sum_d l^F(d)$\n",
      "\n",
      "- $Z$: number of fields\n",
      "- $tf_{zi}$: $tf$ of term $i$ in field $z$\n",
      "- $l(d_z)$: length of field $z$\n",
      "- $v_z$: weight for field $z$\n",
      "\n",
      "\n",
      "\n"
     ]
    },
    {
     "cell_type": "markdown",
     "metadata": {
      "slideshow": {
       "slide_type": "fragment"
      }
     },
     "source": [
      "$ \\begin{align}\n",
      "BM25F(d) = \\sum_{i:x_i=q_i=1} \\log \\Big[\\frac{N}{df_i}\\Big] \\times \\frac{(k+1)tf^F_i}{k((1-b) + b \\frac{l^F(d)}{\\mu^F_l}) + tf^F_i}\n",
      "\\end{align}\n",
      "$"
     ]
    },
    {
     "cell_type": "markdown",
     "metadata": {
      "slideshow": {
       "slide_type": "fragment"
      }
     },
     "source": [
      "Could also have different $b$ for each field. Why?"
     ]
    },
    {
     "cell_type": "code",
     "collapsed": false,
     "input": [],
     "language": "python",
     "metadata": {},
     "outputs": []
    }
   ],
   "metadata": {}
  }
 ]
}