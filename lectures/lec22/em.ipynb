{
 "metadata": {
  "name": ""
 },
 "nbformat": 3,
 "nbformat_minor": 0,
 "worksheets": [
  {
   "cells": [
    {
     "cell_type": "markdown",
     "metadata": {},
     "source": [
      "# CS 429: Information Retrieval\n",
      "<br>\n",
      "\n",
      "## Lecture 22: Expectation Maximization for Clustering\n",
      "\n",
      "<br>\n",
      "\n",
      "### Dr. Aron Culotta\n",
      "### Illinois Institute of Technology\n",
      "### Spring 2014"
     ]
    },
    {
     "cell_type": "markdown",
     "metadata": {},
     "source": [
      "Below, we use expectation maximization to find the means of two clusters for two-dimensional data.\n",
      "\n",
      "We assume diagonal covariance matrices.\n",
      "\n",
      "The bivariate normal density in this case is:\n",
      "\n",
      "$\\begin{align}\n",
      "N(\\vec{\\mu}, \\vec{\\sigma}, \\vec{x}) = \\frac{1}{2\\pi\\sigma_1\\sigma_2}\n",
      "\\exp\\left(- \\frac{(x_1-\\mu_1)^2}{2\\sigma_1} + \\frac{(x_2-\\mu_2)^2}{2\\sigma_2}\\right)\n",
      "\\end{align}\n",
      "$\n",
      "\n",
      "Let $\\vec{\\mu^j}, \\vec{\\sigma^j}$ be the mean and variance for cluster $j$. We update at each iteration with:\n",
      "\n",
      "\n",
      "$\\begin{align}\n",
      "\\mu_j' = \\frac{\\sum_i N(\\vec{\\mu^j}, \\vec{\\sigma^j}, \\vec{x_i})\\vec{x_i}}{\\sum_i N(\\vec{\\mu^j}, \\vec{\\sigma^j}, \\vec{x_i})}\n",
      "\\end{align}\n",
      "$\n"
     ]
    },
    {
     "cell_type": "code",
     "collapsed": false,
     "input": [
      "% pylab inline\n",
      "import numpy as np\n",
      "from numpy import array as npa\n",
      "\n",
      "def gauss(mean, covar, x):\n",
      "    \"\"\"\n",
      "    Bivariate Gaussian distribution, assuming diagonal covariance.\n",
      "    1/(2*pi*v1*v2) * exp(- 1/2 * (x1-mean1)**2/v1 + (x2-mean2)**2/v2)\n",
      "    \"\"\"\n",
      "    Xmu = x[0]-mean[0]\n",
      "    Ymu = x[1]-mean[1]\n",
      "    z = Xmu**2 / (covar[0]**2) + Ymu**2 / (covar[1]**2)\n",
      "    denom = 2 * np.pi * covar[0] * covar[1]\n",
      "    return np.exp(-z / 2.) / denom\n",
      "\n",
      "data = np.array([npa([0.,0.02]), npa([.1,0.005]), npa([-0.1,.01]),\n",
      "                 npa([1.01,1.]), npa([.99,0.9]), npa([1.02,1.1])])\n",
      "\n",
      "mean1 = npa([-.5, -.5])\n",
      "covar1 = npa([.4, .4])\n",
      "mean2 = npa([1.5, 1.5])\n",
      "covar2 = npa([.4, .4])\n",
      "\n",
      "def plotme(mean1, covar1, mean2, covar2, data):\n",
      "    x, y = np.mgrid[-1.5:2.5:.01, -1.5:2.5:.01]\n",
      "    pos = np.empty(x.shape + (2,))\n",
      "    pos[:, :, 0] = x; pos[:, :, 1] = y\n",
      "    contourf(x, y,\n",
      "             [gauss(mean1, covar1, [xi, yi]) + gauss(mean2, covar2, [xi, yi])\n",
      "              for (xi, yi) in zip(x, y)])\n",
      "    scatter([d[0] for d in data], [d[1] for d in data], marker='v', color='w')\n",
      "\n",
      "plotme(mean1, covar1, mean2, covar2, data)\n"
     ],
     "language": "python",
     "metadata": {},
     "outputs": [
      {
       "output_type": "stream",
       "stream": "stdout",
       "text": [
        "Populating the interactive namespace from numpy and matplotlib\n"
       ]
      },
      {
       "metadata": {},
       "output_type": "display_data",
       "png": "[encoded data removed]",
       "text": [
        "<matplotlib.figure.Figure at 0x120f28390>"
       ]
      }
     ],
     "prompt_number": 274
    },
    {
     "cell_type": "code",
     "collapsed": false,
     "input": [
      "def e_step(data, mean1, covar1, mean2, covar2):\n",
      "    results = []\n",
      "    for point in data:\n",
      "        results.append([gauss(mean1, covar1, point),\n",
      "                        gauss(mean2, covar2, point)])\n",
      "    return results\n",
      "\n",
      "def m_step(data, mean1, covar1, mean2, covar2, probs):\n",
      "    new_mean1 = npa([0., 0.])\n",
      "    new_mean2 = npa([0., 0.])\n",
      "    for point, prob in zip(data, probs):\n",
      "        new_mean1 += prob[0] * point\n",
      "        new_mean2 += prob[1] * point\n",
      "    new_mean1 /= sum(p[0] for p in probs)\n",
      "    new_mean2 /= sum(p[1] for p in probs)\n",
      "    return new_mean1, new_mean2\n",
      "\n",
      "def iterate(data, mean1, covar1, mean2, covar2):\n",
      "    probs = e_step(data, mean1, covar1, mean2, covar2)\n",
      "    new_mean1, new_mean2 = m_step(data, mean1, covar1, mean2, covar2, probs)\n",
      "    print 'new mean1=', new_mean1, '\\nnew mean2=', new_mean2\n",
      "    print 'difference in means=', np.sum(np.abs(new_mean1 - mean1) + np.abs(new_mean2 - mean2))\n",
      "    plotme(new_mean1, covar1, new_mean2, covar2, data)\n",
      "    return new_mean1, new_mean2\n",
      "\n",
      "mean1, mean2 = iterate(data, mean1, covar1, mean2, covar2)"
     ],
     "language": "python",
     "metadata": {},
     "outputs": [
      {
       "output_type": "stream",
       "stream": "stdout",
       "text": [
        "new mean1= [-0.02004906  0.01202256] \n",
        "new mean2= [ 1.01010493  1.02306492]\n",
        "difference in means= 1.9588036624\n"
       ]
      },
      {
       "metadata": {},
       "output_type": "display_data",
       "png": "[encoded data removed]",
       "text": [
        "<matplotlib.figure.Figure at 0x12269aa90>"
       ]
      }
     ],
     "prompt_number": 275
    },
    {
     "cell_type": "code",
     "collapsed": false,
     "input": [
      "mean1, mean2 = iterate(data, mean1, covar1, mean2, covar2)"
     ],
     "language": "python",
     "metadata": {},
     "outputs": [
      {
       "output_type": "stream",
       "stream": "stdout",
       "text": [
        "new mean1= [ 0.00123465  0.01372373] \n",
        "new mean2= [ 1.0050071   0.99909989]\n",
        "difference in means= 0.0520477245206\n"
       ]
      },
      {
       "metadata": {},
       "output_type": "display_data",
       "png": "[encoded data removed]",
       "text": [
        "<matplotlib.figure.Figure at 0x112c423d0>"
       ]
      }
     ],
     "prompt_number": 276
    },
    {
     "cell_type": "code",
     "collapsed": false,
     "input": [
      "mean1, mean2 = iterate(data, mean1, covar1, mean2, covar2)"
     ],
     "language": "python",
     "metadata": {},
     "outputs": [
      {
       "output_type": "stream",
       "stream": "stdout",
       "text": [
        "new mean1= [ 0.00242549  0.01400209] \n",
        "new mean2= [ 1.00449348  0.99771439]\n",
        "difference in means= 0.00336831060153\n"
       ]
      },
      {
       "metadata": {},
       "output_type": "display_data",
       "png": "[encoded data removed]",
       "text": [
        "<matplotlib.figure.Figure at 0x112cc3410>"
       ]
      }
     ],
     "prompt_number": 277
    },
    {
     "cell_type": "code",
     "collapsed": false,
     "input": [
      "mean1, mean2 = iterate(data, mean1, covar1, mean2, covar2)"
     ],
     "language": "python",
     "metadata": {},
     "outputs": [
      {
       "output_type": "stream",
       "stream": "stdout",
       "text": [
        "new mean1= [ 0.00249586  0.01402144] \n",
        "new mean2= [ 1.00445858  0.99762789]\n",
        "difference in means= 0.000211134878354\n"
       ]
      },
      {
       "metadata": {},
       "output_type": "display_data",
       "png": "[encoded data removed]",
       "text": [
        "<matplotlib.figure.Figure at 0x10f0b7250>"
       ]
      }
     ],
     "prompt_number": 278
    },
    {
     "cell_type": "code",
     "collapsed": false,
     "input": [
      "for i in range(10):\n",
      "    mean1, mean2 = iterate(data, mean1, covar1, mean2, covar2)"
     ],
     "language": "python",
     "metadata": {},
     "outputs": [
      {
       "output_type": "stream",
       "stream": "stdout",
       "text": [
        "new mean1= [ 0.00250007  0.01402263] \n",
        "new mean2= [ 1.00445635  0.99762242]\n",
        "difference in means= 1.30901486128e-05\n",
        "new mean1="
       ]
      },
      {
       "output_type": "stream",
       "stream": "stdout",
       "text": [
        " [ 0.00250032  0.0140227 ] \n",
        "new mean2= [ 1.00445621  0.99762208]\n",
        "difference in means= 8.10454092567e-07\n",
        "new mean1="
       ]
      },
      {
       "output_type": "stream",
       "stream": "stdout",
       "text": [
        " [ 0.00250033  0.01402271] \n",
        "new mean2= [ 1.0044562   0.99762205]\n",
        "difference in means= 5.0198829414e-08\n",
        "new mean1="
       ]
      },
      {
       "output_type": "stream",
       "stream": "stdout",
       "text": [
        " [ 0.00250033  0.01402271] \n",
        "new mean2= [ 1.0044562   0.99762205]\n",
        "difference in means= 3.11143275554e-09\n",
        "new mean1="
       ]
      },
      {
       "output_type": "stream",
       "stream": "stdout",
       "text": [
        " [ 0.00250033  0.01402271] \n",
        "new mean2= [ 1.0044562   0.99762205]\n",
        "difference in means= 1.92993729938e-10\n",
        "new mean1="
       ]
      },
      {
       "output_type": "stream",
       "stream": "stdout",
       "text": [
        " [ 0.00250033  0.01402271] \n",
        "new mean2= [ 1.0044562   0.99762205]\n",
        "difference in means= 1.19795852925e-11\n",
        "new mean1="
       ]
      },
      {
       "output_type": "stream",
       "stream": "stdout",
       "text": [
        " [ 0.00250033  0.01402271] \n",
        "new mean2= [ 1.0044562   0.99762205]\n",
        "difference in means= 7.43958714078e-13\n",
        "new mean1="
       ]
      },
      {
       "output_type": "stream",
       "stream": "stdout",
       "text": [
        " [ 0.00250033  0.01402271] \n",
        "new mean2= [ 1.0044562   0.99762205]\n",
        "difference in means= 4.62785192112e-14\n",
        "new mean1="
       ]
      },
      {
       "output_type": "stream",
       "stream": "stdout",
       "text": [
        " [ 0.00250033  0.01402271] \n",
        "new mean2= [ 1.0044562   0.99762205]\n",
        "difference in means= 2.99760216649e-15\n",
        "new mean1="
       ]
      },
      {
       "output_type": "stream",
       "stream": "stdout",
       "text": [
        " [ 0.00250033  0.01402271] \n",
        "new mean2= [ 1.0044562   0.99762205]\n",
        "difference in means= 2.71917904859e-16\n"
       ]
      },
      {
       "metadata": {},
       "output_type": "display_data",
       "png": "[encoded data removed]",
       "text": [
        "<matplotlib.figure.Figure at 0x10f084610>"
       ]
      }
     ],
     "prompt_number": 279
    },
    {
     "cell_type": "code",
     "collapsed": false,
     "input": [],
     "language": "python",
     "metadata": {},
     "outputs": []
    }
   ],
   "metadata": {}
  }
 ]
}