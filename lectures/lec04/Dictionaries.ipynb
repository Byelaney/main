{
 "metadata": {
  "name": "",
  "signature": "sha256:cd3cbea4b56d58bc4f9d37b074d858a4ee5b130d991ca7ebe8205be6e4c1e300"
 },
 "nbformat": 3,
 "nbformat_minor": 0,
 "worksheets": [
  {
   "cells": [
    {
     "cell_type": "markdown",
     "metadata": {
      "slideshow": {
       "slide_type": "slide"
      }
     },
     "source": [
      "# CS 429: Information Retrieval\n",
      "\n",
      "<br>\n",
      "\n",
      "## Lecture 4: Dictionaries\n",
      "\n",
      "<br>\n",
      "\n",
      "### Dr. Aron Culotta\n",
      "### Illinois Institute of Technology \n",
      "### Spring 2015\n",
      "\n",
      "---\n"
     ]
    },
    {
     "cell_type": "markdown",
     "metadata": {
      "slideshow": {
       "slide_type": "slide"
      }
     },
     "source": [
      "Last time:\n",
      "\n",
      "- skip lists, phrase search, biword index, positional index\n",
      "\n",
      "Today:\n",
      "\n",
      "- Efficient retrieval of postings lists\n",
      "- Wildcard queries\n",
      "- Spelling correction"
     ]
    },
    {
     "cell_type": "markdown",
     "metadata": {
      "slideshow": {
       "slide_type": "slide"
      }
     },
     "source": [
      "Recall our friend the inverted index:\n",
      "\n",
      "\\begin{eqnarray*}\n",
      "cat & \\rightarrow &1,9,62   \\\\\n",
      "dog & \\rightarrow &1,2,9,31 \\\\\n",
      "zebra & \\rightarrow &2,62,150   \\\\\n",
      "\\end{eqnarray*}"
     ]
    },
    {
     "cell_type": "markdown",
     "metadata": {
      "slideshow": {
       "slide_type": "fragment"
      }
     },
     "source": [
      "Given a query term \"dog\", how can we efficiently retrieve the matching postings list? \n",
      "\n",
      "**dictionary:** data structure to lookup posting list of a term.\n",
      "\n",
      "What data structure should we use?"
     ]
    },
    {
     "cell_type": "markdown",
     "metadata": {
      "slideshow": {
       "slide_type": "fragment"
      }
     },
     "source": [
      "- Hash table\n",
      "- Binary tree\n",
      "- B-tree"
     ]
    },
    {
     "cell_type": "markdown",
     "metadata": {
      "slideshow": {
       "slide_type": "slide"
      }
     },
     "source": [
      "# Hash Table\n"
     ]
    },
    {
     "cell_type": "code",
     "collapsed": true,
     "input": [
      "index = {'cat': [1, 9, 62],\n",
      "         'dog': [1, 2, 9, 31],\n",
      "         'zebra': [2, 62, 150]}"
     ],
     "language": "python",
     "metadata": {},
     "outputs": [],
     "prompt_number": 1
    },
    {
     "cell_type": "code",
     "collapsed": true,
     "input": [
      "query = 'dog'\n",
      "print index['dog']  # hash lookup, O(1)"
     ],
     "language": "python",
     "metadata": {
      "slideshow": {
       "slide_type": "fragment"
      }
     },
     "outputs": [
      {
       "output_type": "stream",
       "stream": "stdout",
       "text": [
        "[1, 2, 9, 31]\n"
       ]
      }
     ],
     "prompt_number": 2
    },
    {
     "cell_type": "markdown",
     "metadata": {
      "slideshow": {
       "slide_type": "fragment"
      }
     },
     "source": [
      "How does this work?"
     ]
    },
    {
     "cell_type": "code",
     "collapsed": true,
     "input": [
      "print hash('dog')\n",
      "print hash('cat')\n",
      "# See the Python's implementation of hash here: \n",
      "# http://stackoverflow.com/questions/2070276/where-can-i-find-source-or-algorithm-of-pythons-hash-function"
     ],
     "language": "python",
     "metadata": {
      "slideshow": {
       "slide_type": "fragment"
      }
     },
     "outputs": [
      {
       "output_type": "stream",
       "stream": "stdout",
       "text": [
        "-1925086808205474835\n",
        "-799031295820617361\n"
       ]
      }
     ],
     "prompt_number": 3
    },
    {
     "cell_type": "code",
     "collapsed": true,
     "input": [
      "# What happens when two objects return the same hash?\n",
      "print hash(-799031295820617361)"
     ],
     "language": "python",
     "metadata": {
      "slideshow": {
       "slide_type": "fragment"
      }
     },
     "outputs": [
      {
       "output_type": "stream",
       "stream": "stdout",
       "text": [
        "-799031295820617361\n"
       ]
      }
     ],
     "prompt_number": 4
    },
    {
     "cell_type": "markdown",
     "metadata": {
      "slideshow": {
       "slide_type": "subslide"
      }
     },
     "source": [
      "![hashing](files/hashing.png)\n",
      "\n",
      "Source: <http://www.laurentluce.com/posts/python-dictionary-implementation/>"
     ]
    },
    {
     "cell_type": "markdown",
     "metadata": {
      "slideshow": {
       "slide_type": "slide"
      }
     },
     "source": [
      "# Hash Table for Inverted Index\n",
      "\n",
      "Pros:\n",
      "\n",
      "- $O(1)$ lookup time\n",
      "- Simple\n",
      "\n",
      "Cons:\n",
      "\n",
      "- Cannot efficiently find minor variants (e.g., zebr*)"
     ]
    },
    {
     "cell_type": "markdown",
     "metadata": {
      "slideshow": {
       "slide_type": "slide"
      }
     },
     "source": [
      "# Binary Trees\n",
      "\n",
      "![binary](files/binary.png)\n",
      "\n",
      "Source: [MRS Ch3](http://nlp.stanford.edu/IR-book/pdf/03dict.pdf)"
     ]
    },
    {
     "cell_type": "markdown",
     "metadata": {
      "slideshow": {
       "slide_type": "subslide"
      }
     },
     "source": [
      "# Binary Trees\n",
      "\n",
      "Search time: $O(\\log n)$\n",
      "\n",
      "- Assumes a **balanced** tree"
     ]
    },
    {
     "cell_type": "markdown",
     "metadata": {},
     "source": [
      "![unbalanced](files/unbalanced.png)"
     ]
    },
    {
     "cell_type": "markdown",
     "metadata": {
      "slideshow": {
       "slide_type": "slide"
      }
     },
     "source": [
      "# B-Trees\n",
      "\n",
      "Like a binary tree, but nodes can have between *a* and  *b* children, instead of just 2."
     ]
    },
    {
     "cell_type": "markdown",
     "metadata": {},
     "source": [
      "![btree](files/btree.png)\n",
      "\n",
      "B-Tree [2,4]"
     ]
    },
    {
     "cell_type": "markdown",
     "metadata": {
      "slideshow": {
       "slide_type": "slide"
      }
     },
     "source": [
      "# Wildcard queries with B-Trees\n",
      "\n",
      "Search for \"ana*\"\n",
      "\n",
      "![wildcard](files/wildcard.png)"
     ]
    },
    {
     "cell_type": "markdown",
     "metadata": {
      "slideshow": {
       "slide_type": "slide"
      }
     },
     "source": [
      "# Spelling correction\n",
      "\n",
      "- $k$-gram overlap\n",
      "- Levenshtein\n",
      "- Middle-ground"
     ]
    },
    {
     "cell_type": "markdown",
     "metadata": {
      "slideshow": {
       "slide_type": "slide"
      }
     },
     "source": [
      "# Levenshtein distance\n",
      "\n",
      "How to convert string1 into string2 with the minimum number of operations?\n",
      "\n",
      "fast $\\rightarrow$ cats ?"
     ]
    },
    {
     "cell_type": "markdown",
     "metadata": {
      "slideshow": {
       "slide_type": "fragment"
      }
     },
     "source": [
      "Operations:\n",
      "\n",
      "- *insert*: fas $\\xrightarrow{insert(t)}$ fas**t**\n",
      "- *delete*: fast $\\xrightarrow{delete(t)}$ fas\n",
      "- *substitute*: fast $\\xrightarrow{substitute(t,x)}$ fas**x**"
     ]
    },
    {
     "cell_type": "markdown",
     "metadata": {
      "slideshow": {
       "slide_type": "subslide"
      }
     },
     "source": [
      "cats $\\xrightarrow{substitute(c, f)}$ **f**ats $\\xrightarrow{insert(s)}$ fa**s**ts $\\xrightarrow{delete(s)}$ fast (3 operations)\n",
      "\n",
      "or\n",
      "\n",
      "cats $\\xrightarrow{substitute(c, f)}$ **f**ats $\\xrightarrow{substitute(t,s)}$ fa**s**s $\\xrightarrow{substitute(s,t)}$ fas**t** (3 operations)\n",
      "\n",
      "but definitely not:\n",
      "\n",
      "cats $\\xrightarrow{insert(f)}$ **f**cats $\\xrightarrow{delete(c)}$ fats $\\xrightarrow{delete(t)}$ fas $\\xrightarrow{delete(s)}$ fa $\\xrightarrow{insert(s)}$ fa**s** $\\xrightarrow{insert(t)}$ fas**t** (6 operations)"
     ]
    },
    {
     "cell_type": "code",
     "collapsed": true,
     "input": [
      "# Slow, recursive Levenshtein implementation (inspired by <http://en.wikipedia.org/wiki/Levenshtein_distance>)\n",
      "def leven(s, t):\n",
      "  # base case: empty strings\n",
      "  if len(s) == 0:\n",
      "      return len(t)  # cost of inserting all of t\n",
      "  if len(t) == 0:\n",
      "      return len(s)  # cost of inserting all of s\n",
      " \n",
      "  # test if last characters match\n",
      "  if s[-1] == t[-1]:\n",
      "      cost = 0    # match; no cost\n",
      "  else:\n",
      "      cost = 1   # no match; cost of substituting one letter.\n",
      " \n",
      "  # return minimum of (1) delete char from s, (2) delete char from t, and (3) delete char from both\n",
      "  return min(leven(s[:-1], t) + 1,           # e.g., leven(fas, cats) + 1 (for deleting 't' from 'fast')\n",
      "             leven(s, t[:-1]) + 1,           # e.g., leven(fast, cat) + 1 (for deleting 's' from 'cats')\n",
      "             leven(s[:-1], t[:-1]) + cost);  # e.g., leven(fas, cat) + cost (for substituting 't' for 's')"
     ],
     "language": "python",
     "metadata": {
      "slideshow": {
       "slide_type": "fragment"
      }
     },
     "outputs": [],
     "prompt_number": 5
    },
    {
     "cell_type": "code",
     "collapsed": true,
     "input": [
      "print leven('fast', 'cats')"
     ],
     "language": "python",
     "metadata": {},
     "outputs": [
      {
       "output_type": "stream",
       "stream": "stdout",
       "text": [
        "3\n"
       ]
      }
     ],
     "prompt_number": 6
    },
    {
     "cell_type": "markdown",
     "metadata": {
      "slideshow": {
       "slide_type": "slide"
      }
     },
     "source": [
      "![leven](files/leven.png)\n",
      "\n",
      "Source: [MRS CH3](http://nlp.stanford.edu/IR-book/pdf/03dict.pdf)"
     ]
    },
    {
     "cell_type": "markdown",
     "metadata": {
      "slideshow": {
       "slide_type": "slide"
      }
     },
     "source": [
      "# Spelling correction with string edit distance\n",
      "\n",
      "**Idea:** Find a term in the dictionary that has minimum edit distance to query term\n"
     ]
    },
    {
     "cell_type": "markdown",
     "metadata": {
      "slideshow": {
       "slide_type": "fragment"
      }
     },
     "source": [
      "*Tie-breaker*: term that is most frequent"
     ]
    },
    {
     "cell_type": "code",
     "collapsed": true,
     "input": [
      "# Fetch a list of word counts.\n",
      "\n",
      "from collections import defaultdict\n",
      "import requests\n",
      "\n",
      "# words: list of terms known to be spelled correctly.\n",
      "word_counts = defaultdict(lambda: 1)  # Assume all words have been seen once\n",
      "# Fetch list of word frequencies\n",
      "words = [line.split() for line in requests.get('http://norvig.com/ngrams/count_big.txt').text.splitlines()]\n",
      "# Add to words\n",
      "for word, count in words:\n",
      "    word_counts[word] += int(count)\n",
      "print 'read', len(words), 'words'\n",
      "print 'count(a)=', word_counts['a']\n",
      "print 'count(apple)=', word_counts['apple']\n",
      "print 'count(ajshdlfkjahdlkjh)=', word_counts['ajshdlfkjahdlkjh']"
     ],
     "language": "python",
     "metadata": {
      "slideshow": {
       "slide_type": "slide"
      }
     },
     "outputs": [
      {
       "output_type": "stream",
       "stream": "stdout",
       "text": [
        "read 29136 words\n",
        "count(a)= 21161\n",
        "count(apple)= 12\n",
        "count(ajshdlfkjahdlkjh)= 1\n"
       ]
      }
     ],
     "prompt_number": 16
    },
    {
     "cell_type": "code",
     "collapsed": true,
     "input": [
      "# Find the element of words that has minimum edit distance to word\n",
      "# Return word and the distance.\n",
      "def min_leven(words, word):\n",
      "    distances = [(w, leven(w, word)) for w in words]\n",
      "    return min(distances, key=lambda x: x[1])"
     ],
     "language": "python",
     "metadata": {
      "slideshow": {
       "slide_type": "slide"
      }
     },
     "outputs": [],
     "prompt_number": 17
    },
    {
     "cell_type": "code",
     "collapsed": true,
     "input": [
      "print min_leven(['apple', 'banana', 'chair'], 'bannana')"
     ],
     "language": "python",
     "metadata": {
      "slideshow": {
       "slide_type": "-"
      }
     },
     "outputs": [
      {
       "output_type": "stream",
       "stream": "stdout",
       "text": [
        "('banana', 1)\n"
       ]
      }
     ],
     "prompt_number": 18
    },
    {
     "cell_type": "code",
     "collapsed": true,
     "input": [
      "# Too slow!\n",
      "# print min_leven(word_counts.keys(), 'accross')"
     ],
     "language": "python",
     "metadata": {},
     "outputs": [],
     "prompt_number": 10
    },
    {
     "cell_type": "markdown",
     "metadata": {
      "slideshow": {
       "slide_type": "slide"
      }
     },
     "source": [
      "# Faster but less precise\n",
      "(See <http://norvig.com/spell-correct.html>)\n",
      "\n",
      "70-80% of misspellings are have edit distance of 1\n",
      "\n",
      "**Idea:** Efficiently generate all terms that are edit distance of 1 from query term. \n",
      "\n"
     ]
    },
    {
     "cell_type": "code",
     "collapsed": true,
     "input": [
      "# Return all single edits to word\n",
      "alphabet = 'abcdefghijklmnopqrstuvwxyz'\n",
      "def edits(word):\n",
      "   splits     = [(word[:i], word[i:]) for i in range(len(word) + 1)]\n",
      "   deletes    = [a + b[1:] for a, b in splits if b]                       # cat-> ca\n",
      "   transposes = [a + b[1] + b[0] + b[2:] for a, b in splits if len(b)>1]  # cat -> act\n",
      "   replaces   = [a + c + b[1:] for a, b in splits for c in alphabet if b] # cat -> car\n",
      "   inserts    = [a + c + b     for a, b in splits for c in alphabet]      # cat -> cats\n",
      "   return set(deletes + transposes + replaces + inserts)                  # union all edits\n",
      "\n",
      "print len(edits('cat')), 'edits for cat:', edits('cat')"
     ],
     "language": "python",
     "metadata": {
      "slideshow": {
       "slide_type": "slide"
      }
     },
     "outputs": [
      {
       "output_type": "stream",
       "stream": "stdout",
       "text": [
        "182 edits for cat: set(['caqt', 'ucat', 'cdt', 'ctat', 'ciat', 'vcat', 'cvat', 'ycat', 'caht', 'cut', 'jat', 'caty', 'clt', 'hat', 'cyat', 'capt', 'icat', 'zcat', 'fat', 'dat', 'cet', 'caot', 'catz', 'hcat', 'bat', 'crt', 'cayt', 'cakt', 'clat', 'cmt', 'cvt', 'ceat', 'cwat', 'cjat', 'cnat', 'acat', 'cft', 'cabt', 'cnt', 'cajt', 'aat', 'cwt', 'cast', 'czat', 'csat', 'cqat', 'cit', 'cart', 'jcat', 'cfat', 'cazt', 'pcat', 'catd', 'caat', 'cgt', 'ctt', 'cati', 'cait', 'cot', 'cawt', 'xcat', 'cta', 'act', 'ncat', 'cxt', 'ckat', 'calt', 'ca', 'dcat', 'cadt', 'zat', 'cato', 'ct', 'crat', 'cata', 'catb', 'catc', 'tcat', 'cate', 'catf', 'catg', 'cath', 'yat', 'catj', 'catk', 'xat', 'catm', 'catn', 'catl', 'catp', 'ocat', 'catr', 'cats', 'cht', 'catu', 'catv', 'catw', 'catx', 'iat', 'bcat', 'wat', 'catq', 'vat', 'cqt', 'cact', 'cyt', 'rcat', 'gat', 'cant', 'cgat', 'mcat', 'eat', 'kcat', 'caz', 'cay', 'cax', 'cas', 'car', 'caq', 'cap', 'caw', 'cav', 'cau', 'cat', 'cak', 'caj', 'cai', 'cah', 'cao', 'can', 'cam', 'cal', 'cac', 'cab', 'caa', 'cag', 'caf', 'cae', 'cad', 'tat', 'chat', 'fcat', 'caft', 'lcat', 'uat', 'czt', 'rat', 'at', 'cbt', 'catt', 'scat', 'sat', 'qat', 'qcat', 'pat', 'wcat', 'cuat', 'oat', 'nat', 'cst', 'cavt', 'cjt', 'mat', 'cxat', 'caet', 'cmat', 'ccat', 'cagt', 'cpat', 'kat', 'lat', 'gcat', 'caxt', 'cdat', 'coat', 'cct', 'camt', 'ckt', 'caut', 'cpt', 'cbat', 'ecat'])\n"
       ]
      }
     ],
     "prompt_number": 19
    },
    {
     "cell_type": "markdown",
     "metadata": {},
     "source": [
      "How many edits? *n* deletions, *n-1* transpositions, *26n* substitutions, and *26(n+1)* insertions, for a total of *54n+25.*"
     ]
    },
    {
     "cell_type": "code",
     "collapsed": true,
     "input": [
      "%pylab inline\n",
      "plot([54 * x + 25 for x in range(20)])"
     ],
     "language": "python",
     "metadata": {},
     "outputs": [
      {
       "output_type": "stream",
       "stream": "stdout",
       "text": [
        "Populating the interactive namespace from numpy and matplotlib\n"
       ]
      },
      {
       "metadata": {},
       "output_type": "pyout",
       "prompt_number": 20,
       "text": [
        "[<matplotlib.lines.Line2D at 0x10e662450>]"
       ]
      },
      {
       "metadata": {},
       "output_type": "display_data",
       "png": "[encoded data removed]",
       "text": [
        "<matplotlib.figure.Figure at 0x10ee5fb10>"
       ]
      }
     ],
     "prompt_number": 20
    },
    {
     "cell_type": "code",
     "collapsed": true,
     "input": [
      "# Return the subset of words that is in word_counts.\n",
      "def known(words):\n",
      "    return set(w for w in words if w in word_counts)\n",
      "\n",
      "print known(['apple', 'zzzzasdfasdfz'])"
     ],
     "language": "python",
     "metadata": {},
     "outputs": [
      {
       "output_type": "stream",
       "stream": "stdout",
       "text": [
        "set(['apple'])\n"
       ]
      }
     ],
     "prompt_number": 21
    },
    {
     "cell_type": "code",
     "collapsed": true,
     "input": [
      "def correct(word):\n",
      "    candidates = known([word]) or known(edits(word)) or [word] # 'or' returns whichever is the first non-empty value\n",
      "    return max(candidates, key=word_counts.get)"
     ],
     "language": "python",
     "metadata": {},
     "outputs": [],
     "prompt_number": 22
    },
    {
     "cell_type": "code",
     "collapsed": true,
     "input": [
      "print correct('apple')   # apple is in word_counts: known([word])\n",
      "print correct('accross') # accross is not in word_counts, but across is: known(edits(word))\n",
      "print correct('zebraa')  # zebra is not in word_counts: [word]"
     ],
     "language": "python",
     "metadata": {},
     "outputs": [
      {
       "output_type": "stream",
       "stream": "stdout",
       "text": [
        "apple\n",
        "across\n",
        "zebraa\n"
       ]
      }
     ],
     "prompt_number": 23
    },
    {
     "cell_type": "markdown",
     "metadata": {},
     "source": [
      "# How to use spelling correction?\n",
      "\n",
      "- Make suggestions (\"Did you mean?\")\n",
      "- Add corrected terms to query\n",
      "  - only if query term is not in dictionary\n",
      "  - only if number of matches < N"
     ]
    },
    {
     "cell_type": "code",
     "collapsed": true,
     "input": [],
     "language": "python",
     "metadata": {},
     "outputs": [],
     "prompt_number": 15
    },
    {
     "cell_type": "code",
     "collapsed": true,
     "input": [],
     "language": "python",
     "metadata": {},
     "outputs": []
    }
   ],
   "metadata": {}
  }
 ]
}