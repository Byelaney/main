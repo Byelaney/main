{
 "metadata": {
  "name": ""
 },
 "nbformat": 3,
 "nbformat_minor": 0,
 "worksheets": [
  {
   "cells": [
    {
     "cell_type": "markdown",
     "metadata": {
      "slideshow": {
       "slide_type": "slide"
      }
     },
     "source": [
      "# CS 429: Information Retrieval\n",
      "\n",
      "<br>\n",
      "## Lecture 3: Indexing II\n",
      "\n",
      "<br>\n",
      "\n",
      "### Dr. Aron Culotta\n",
      "### Illinois Institute of Technology \n",
      "### Spring 2014\n",
      "\n",
      "---\n"
     ]
    },
    {
     "cell_type": "markdown",
     "metadata": {
      "slideshow": {
       "slide_type": "slide"
      }
     },
     "source": [
      "# Recall Inverted Index\n",
      "\n",
      "![diagrams-0](files/diagrams-0.png)\n",
      "\n",
      "Runtime: $O(x + y)$, for postings lists of size $x$ and $y$"
     ]
    },
    {
     "cell_type": "markdown",
     "metadata": {
      "slideshow": {
       "slide_type": "slide"
      }
     },
     "source": [
      "# Skip Lists\n",
      "\n",
      "![diagrams-1](files/diagrams-1.png)"
     ]
    },
    {
     "cell_type": "markdown",
     "metadata": {
      "slideshow": {
       "slide_type": "fragment"
      }
     },
     "source": [
      "Worst-case runtime? "
     ]
    },
    {
     "cell_type": "markdown",
     "metadata": {
      "slideshow": {
       "slide_type": "fragment"
      }
     },
     "source": [
      "$O(x + y)$"
     ]
    },
    {
     "cell_type": "markdown",
     "metadata": {
      "slideshow": {
       "slide_type": "fragment"
      }
     },
     "source": [
      "Best-case runtime?"
     ]
    },
    {
     "cell_type": "markdown",
     "metadata": {
      "slideshow": {
       "slide_type": "fragment"
      }
     },
     "source": [
      "$O(k)$, for $k$ matching documents"
     ]
    },
    {
     "cell_type": "markdown",
     "metadata": {
      "slideshow": {
       "slide_type": "slide"
      }
     },
     "source": [
      "# Merging Skip Lists"
     ]
    },
    {
     "cell_type": "code",
     "collapsed": false,
     "input": [
      "# tuple (x,y,z): x=doc_id, y=skip index, z=skip value\n",
      "index = {'cat': [(2, 3, 16), 4, 8, (16, 6, 28), 19, 23, 28, 43],\n",
      "         'dog': [(1, 3, 5), 2, 3, (5, 6, 51), 8, 41, 51, 60, 71]}"
     ],
     "language": "python",
     "metadata": {
      "slideshow": {
       "slide_type": "fragment"
      }
     },
     "outputs": []
    },
    {
     "cell_type": "code",
     "collapsed": false,
     "input": [
      "# Print postings list containing skip pointers.\n",
      "def print_skip_list(docs):\n",
      "    idx = 0\n",
      "    while idx < len(docs):\n",
      "        print docs[idx]\n",
      "        if type(docs[idx]) is tuple: # skip\n",
      "            idx = docs[idx][1]\n",
      "        else:\n",
      "            idx += 1"
     ],
     "language": "python",
     "metadata": {
      "slideshow": {
       "slide_type": "fragment"
      }
     },
     "outputs": []
    },
    {
     "cell_type": "code",
     "collapsed": false,
     "input": [
      "print_skip_list(index['cat'])"
     ],
     "language": "python",
     "metadata": {
      "slideshow": {
       "slide_type": "fragment"
      }
     },
     "outputs": []
    },
    {
     "cell_type": "code",
     "collapsed": false,
     "input": [
      "print_skip_list(index['dog'])"
     ],
     "language": "python",
     "metadata": {
      "slideshow": {
       "slide_type": "fragment"
      }
     },
     "outputs": []
    },
    {
     "cell_type": "markdown",
     "metadata": {
      "slideshow": {
       "slide_type": "slide"
      }
     },
     "source": [
      "![skip_merge](files/skip_merge.png)"
     ]
    },
    {
     "cell_type": "markdown",
     "metadata": {
      "slideshow": {
       "slide_type": "slide"
      }
     },
     "source": [
      "# Where to insert skip pointers?\n",
      "\n",
      "Tradeoff:\n",
      "\n",
      "- More pointers mean more opportunities to skip \n",
      "- Fewer pointers means less time wasted comparing to skip values.\n",
      "- Heuristic: $\\sqrt{n}$ evenly-spaced pointers, for list of size $n$.\n",
      "\n",
      "![diagrams-2](files/diagrams-2.png)"
     ]
    },
    {
     "cell_type": "markdown",
     "metadata": {
      "slideshow": {
       "slide_type": "slide"
      }
     },
     "source": [
      "# Adding to an index with skip pointers\n",
      "\n",
      "What happens when we have to add a document to a postings list?\n",
      "\n"
     ]
    },
    {
     "cell_type": "markdown",
     "metadata": {
      "slideshow": {
       "slide_type": "fragment"
      }
     },
     "source": [
      "If postings list is a ...\n",
      "\n",
      "- linked list\n",
      "- dynamic array (e.g., ArrayList)"
     ]
    },
    {
     "cell_type": "markdown",
     "metadata": {
      "slideshow": {
       "slide_type": "slide"
      }
     },
     "source": [
      "# Phrase queries\n",
      "\n",
      "\"cat dog\" **vs** cat AND dog\n",
      "\n"
     ]
    },
    {
     "cell_type": "markdown",
     "metadata": {
      "slideshow": {
       "slide_type": "fragment"
      }
     },
     "source": [
      "![catdog](files/CatDog.jpeg) <img src=\"files/cat_and_dog.jpg\" width=40%/>"
     ]
    },
    {
     "cell_type": "markdown",
     "metadata": {
      "slideshow": {
       "slide_type": "slide"
      }
     },
     "source": [
      "# Phrase Indexing\n",
      "\n",
      "Two approaches\n",
      "\n",
      "1. **Biword Index**\n",
      "2. **Positional Index**"
     ]
    },
    {
     "cell_type": "markdown",
     "metadata": {
      "slideshow": {
       "slide_type": "slide"
      }
     },
     "source": [
      "# Biword index\n",
      "\n",
      "\"The cat dog jumped.\"\n",
      "\n",
      "![diagrams-3](files/diagrams-3.png)"
     ]
    },
    {
     "cell_type": "markdown",
     "metadata": {
      "slideshow": {
       "slide_type": "slide"
      }
     },
     "source": [
      "# Finding phrases"
     ]
    },
    {
     "cell_type": "code",
     "collapsed": false,
     "input": [
      "docs = [l.strip() for l in open(\"documents.txt\", 'rt').readlines()]\n",
      "print 'read', len(docs), 'docs'"
     ],
     "language": "python",
     "metadata": {
      "slideshow": {
       "slide_type": "fragment"
      }
     },
     "outputs": []
    },
    {
     "cell_type": "code",
     "collapsed": false,
     "input": [
      "def ngrams(n, docs):\n",
      "    terms = set()\n",
      "    for d in docs:\n",
      "        toks = d.split()\n",
      "        for i in range(len(toks) - n + 1):\n",
      "            terms.add('_'.join(toks[i:i+n]))\n",
      "    return terms"
     ],
     "language": "python",
     "metadata": {
      "slideshow": {
       "slide_type": "fragment"
      }
     },
     "outputs": []
    },
    {
     "cell_type": "code",
     "collapsed": false,
     "input": [
      "print ngrams(1, ['a b c'])\n",
      "print ngrams(2, ['a b c'])\n",
      "print ngrams(3, ['a b c'])\n",
      "print ngrams(4, ['a b c'])"
     ],
     "language": "python",
     "metadata": {
      "slideshow": {
       "slide_type": "fragment"
      }
     },
     "outputs": []
    },
    {
     "cell_type": "code",
     "collapsed": false,
     "input": [
      "max_n = 10\n",
      "sizes = [len(ngrams(i, docs)) for i in range(1, max_n)]\n",
      "print 'number of terms=', zip(range(1, max_n), sizes)"
     ],
     "language": "python",
     "metadata": {
      "slideshow": {
       "slide_type": "fragment"
      }
     },
     "outputs": []
    },
    {
     "cell_type": "code",
     "collapsed": false,
     "input": [
      "%pylab inline\n",
      "# 1-grams, 1-grams + 2-grams, ...\n",
      "x = [sum(sizes[:i]) for i in range(1,max_n)]\n",
      "print x\n",
      "plot(x)"
     ],
     "language": "python",
     "metadata": {
      "slideshow": {
       "slide_type": "fragment"
      }
     },
     "outputs": []
    },
    {
     "cell_type": "markdown",
     "metadata": {
      "slideshow": {
       "slide_type": "slide"
      }
     },
     "source": [
      "# Limits of phrase indices\n",
      "\n",
      "If we index 5-grams, how can we search for the phrase \"to be or not to be\"?"
     ]
    },
    {
     "cell_type": "markdown",
     "metadata": {
      "slideshow": {
       "slide_type": "fragment"
      }
     },
     "source": [
      "- AND of 5-grams \"to be or not to\" AND \"be or not to be\"\n",
      "- Very small possibility of a false match"
     ]
    },
    {
     "cell_type": "markdown",
     "metadata": {
      "slideshow": {
       "slide_type": "fragment"
      }
     },
     "source": [
      "What if we index 2-grams and we search for the phrase \"new york university\"\n",
      "\n",
      "- \"new york\" AND \"york university\"\n",
      "- greater possibility of false match"
     ]
    },
    {
     "cell_type": "markdown",
     "metadata": {
      "slideshow": {
       "slide_type": "slide"
      }
     },
     "source": [
      "# Positional Index\n",
      "\n",
      "- Store position of term in original document.\n",
      "- *term*: [(doc_id1, [pos1, pos2, ...]), (doc_id2, [pos1, pos2, ...]), ...]"
     ]
    },
    {
     "cell_type": "code",
     "collapsed": false,
     "input": [
      "doc0 = \"The cat dog jumped over the dog.\"\n",
      "doc1 = \"The dog jumped.\"\n",
      "index = {\n",
      "         'the': [(0, [0, 5]), (1, [0])],\n",
      "         'cat': [(0, [1])],\n",
      "         'dog': [(0, [2, 6]), (1, 1)],\n",
      "         'jumped': [(0, [3]), (1, [2])]\n",
      "         }"
     ],
     "language": "python",
     "metadata": {
      "slideshow": {
       "slide_type": "fragment"
      }
     },
     "outputs": []
    },
    {
     "cell_type": "markdown",
     "metadata": {
      "slideshow": {
       "slide_type": "slide"
      }
     },
     "source": [
      "# Positional Index"
     ]
    },
    {
     "cell_type": "markdown",
     "metadata": {
      "slideshow": {
       "slide_type": "fragment"
      }
     },
     "source": [
      "- Additional space needed?"
     ]
    },
    {
     "cell_type": "markdown",
     "metadata": {
      "slideshow": {
       "slide_type": "fragment"
      }
     },
     "source": [
      "- One `int` for each time a term occurs in a document.\n",
      "- Biggest impact on long documents.\n",
      "- E.g., consider a term that occurs once every thousand words:\n",
      "\n",
      "|document length | # postings | # positional postings|\n",
      "|----------------|------------|----------------------|\n",
      "|1000            |  1         | 1                    |\n",
      "|100,000         |  1         | 100                  |\n"
     ]
    },
    {
     "cell_type": "markdown",
     "metadata": {
      "slideshow": {
       "slide_type": "slide"
      }
     },
     "source": [
      "# Merging positional postings lists\n",
      "\n",
      "How can we efficiently merge positional postings lists to find phrases?"
     ]
    },
    {
     "cell_type": "code",
     "collapsed": false,
     "input": [
      "index = {'cat': [(0, [1])],\n",
      "         'dog': [(0, [2, 6]),\n",
      "                 (1, [1])]}\n",
      "# [ (doc_id1, [pos1, pos2, ...]),\n",
      "#   (doc_id2, [pos1, pos2, ...]), ...\n",
      "# ]\n",
      "\n",
      "# Search for \"cat dog\"\n",
      "# This is inefficient! See Figure 2.12 (from book) and next assignment for more.\n",
      "for cat_doc in index['cat']:\n",
      "    for dog_doc in index['dog']:\n",
      "        if cat_doc[0] == dog_doc[0]:  # In same document\n",
      "            print 'both appear in ', cat_doc[0]\n",
      "            for cat_pos in cat_doc[1]:\n",
      "                for dog_pos in dog_doc[1]:\n",
      "                    if cat_pos == dog_pos - 1: # dog comes right after cat.\n",
      "                        print 'found \"cat dog\" at positions', cat_pos, dog_pos"
     ],
     "language": "python",
     "metadata": {
      "slideshow": {
       "slide_type": "fragment"
      }
     },
     "outputs": []
    },
    {
     "cell_type": "markdown",
     "metadata": {
      "slideshow": {
       "slide_type": "slide"
      }
     },
     "source": [
      "# Combining Biword Index and Positional Index\n",
      "\n",
      "- Store only phrases that are\n",
      "  - Commonly queried\n",
      "  - Individual words are common\n",
      "- *Britney Spears* vs. *The Who*"
     ]
    },
    {
     "cell_type": "markdown",
     "metadata": {
      "slideshow": {
       "slide_type": "slide"
      }
     },
     "source": [
      "![diagrams-4](files/diagrams-4.png)\n",
      "\n",
      "1. How often is a skip pointer followed (i.e., p1 is advanced to skip(p1))?\n",
      "2. How many postings comparisons will be made by this algorithm while intersecting the two lists?\n",
      "3. How many postings comparisons would be made if the postings lists are intersected without the use of skip pointers?"
     ]
    }
   ],
   "metadata": {}
  }
 ]
}