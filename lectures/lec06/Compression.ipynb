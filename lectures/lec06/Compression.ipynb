{
 "metadata": {
  "name": "",
  "signature": "sha256:c709f0f308c27a5dd97295f55a9d817389a9cfed128dfbcf610ba5d7ab02e38e"
 },
 "nbformat": 3,
 "nbformat_minor": 0,
 "worksheets": [
  {
   "cells": [
    {
     "cell_type": "markdown",
     "metadata": {
      "slideshow": {
       "slide_type": "slide"
      }
     },
     "source": [
      "# CS 429: Information Retrieval\n",
      "\n",
      "<br>\n",
      "\n",
      "## Lecture 6: Index Compression\n",
      "\n",
      "<br>\n",
      "\n",
      "### Dr. Aron Culotta\n",
      "### Illinois Institute of Technology \n",
      "### Spring 2015\n",
      "\n",
      "---\n"
     ]
    },
    {
     "cell_type": "markdown",
     "metadata": {
      "slideshow": {
       "slide_type": "slide"
      }
     },
     "source": [
      "Last time:\n",
      "\n",
      "- How do we build an index that does not fit into memory? \n",
      "\n",
      "Today: \n",
      "\n",
      "- How do we compress the contents of an index?\n"
     ]
    },
    {
     "cell_type": "markdown",
     "metadata": {
      "slideshow": {
       "slide_type": "slide"
      }
     },
     "source": [
      "# Why compress an inverted index?\n"
     ]
    },
    {
     "cell_type": "markdown",
     "metadata": {
      "slideshow": {
       "slide_type": "fragment"
      }
     },
     "source": [
      "- Save disk space\n",
      "- Fit as much in memory as possible (caching)\n",
      "- Faster transfer from disk to memory"
     ]
    },
    {
     "cell_type": "markdown",
     "metadata": {
      "slideshow": {
       "slide_type": "slide"
      }
     },
     "source": [
      "# What will we compress?\n",
      "\n",
      "- Vocabulary\n",
      "- Postings lists\n",
      "\n",
      "<br>\n",
      "\n",
      "To help compression, we need to know\n",
      "\n",
      "- How large should we expect the vocabulary to be?\n",
      "  - helpful to compress vocabulary\n",
      "- How are terms distributed throughout documents?\n",
      "  - helpful to compress postings lists"
     ]
    },
    {
     "cell_type": "markdown",
     "metadata": {
      "slideshow": {
       "slide_type": "slide"
      }
     },
     "source": [
      "# Will the vocabulary get *that* big?\n",
      "\n",
      "- $T$ = number of tokens\n",
      "- $V$ = number of terms\n",
      "\n",
      "Can we estimate $V$ as a function of $T$?\n",
      "\n",
      "$V = f(T)$"
     ]
    },
    {
     "cell_type": "code",
     "collapsed": true,
     "input": [
      "# Let's read in some documents.\n",
      "# This is a dataset of 11K newsgroups posts: http://qwone.com/~jason/20Newsgroups/\n",
      "from sklearn.datasets import fetch_20newsgroups\n",
      "docs = fetch_20newsgroups(subset='train', remove=('headers', 'footers', 'quotes')).data\n",
      "print 'read %d docs' % len(docs)"
     ],
     "language": "python",
     "metadata": {
      "slideshow": {
       "slide_type": "slide"
      }
     },
     "outputs": [
      {
       "output_type": "stream",
       "stream": "stdout",
       "text": [
        "read 11314 docs\n"
       ]
      }
     ],
     "prompt_number": 23
    },
    {
     "cell_type": "code",
     "collapsed": true,
     "input": [
      "# Let's look at a couple documents.\n",
      "print docs[0]"
     ],
     "language": "python",
     "metadata": {},
     "outputs": [
      {
       "output_type": "stream",
       "stream": "stdout",
       "text": [
        "I was wondering if anyone out there could enlighten me on this car I saw\n",
        "the other day. It was a 2-door sports car, looked to be from the late 60s/\n",
        "early 70s. It was called a Bricklin. The doors were really small. In addition,\n",
        "the front bumper was separate from the rest of the body. This is \n",
        "all I know. If anyone can tellme a model name, engine specs, years\n",
        "of production, where this car is made, history, or whatever info you\n",
        "have on this funky looking car, please e-mail.\n"
       ]
      }
     ],
     "prompt_number": 24
    },
    {
     "cell_type": "code",
     "collapsed": true,
     "input": [
      "print docs[10]"
     ],
     "language": "python",
     "metadata": {},
     "outputs": [
      {
       "output_type": "stream",
       "stream": "stdout",
       "text": [
        "I have a line on a Ducati 900GTS 1978 model with 17k on the clock.  Runs\n",
        "very well, paint is the bronze/brown/orange faded out, leaks a bit of oil\n",
        "and pops out of 1st with hard accel.  The shop will fix trans and oil \n",
        "leak.  They sold the bike to the 1 and only owner.  They want $3495, and\n",
        "I am thinking more like $3K.  Any opinions out there?  Please email me.\n",
        "Thanks.  It would be a nice stable mate to the Beemer.  Then I'll get\n",
        "a jap bike and call myself Axis Motors!\n",
        "\n",
        "-- \n",
        "-----------------------------------------------------------------------\n",
        "\"Tuba\" (Irwin)      \"I honk therefore I am\"     CompuTrac-Richardson,Tx\n",
        "irwin@cmptrc.lonestar.org    DoD #0826          (R75/6)\n"
       ]
      }
     ],
     "prompt_number": 25
    },
    {
     "cell_type": "markdown",
     "metadata": {
      "slideshow": {
       "slide_type": "slide"
      }
     },
     "source": [
      "### Next, let's count the number of terms and tokens in this dataset."
     ]
    },
    {
     "cell_type": "code",
     "collapsed": true,
     "input": [
      "from collections import defaultdict\n",
      "import re\n",
      "\n",
      "# Count the number of terms and tokens in a list of documents.\n",
      "# return\n",
      "#  1. terms: a dict from term to number of documents it appears in\n",
      "#  2. n_tokens: the number of tokens in docs\n",
      "def count_terms_and_toks(docs):\n",
      "    terms = defaultdict(lambda: 0)  # Map from term to count.\n",
      "    n_tokens = 0\n",
      "    for d in docs:\n",
      "        d_terms = set()  # increment each term once per document.\n",
      "        for tok in re.findall('[\\w]+',d.lower()):\n",
      "            d_terms.add(tok)\n",
      "            n_tokens += 1\n",
      "        for d_term in d_terms:\n",
      "            terms[d_term] += 1\n",
      "\n",
      "    return terms, n_tokens"
     ],
     "language": "python",
     "metadata": {},
     "outputs": [],
     "prompt_number": 26
    },
    {
     "cell_type": "code",
     "collapsed": true,
     "input": [
      "terms, n_tokens = count_terms_and_toks(docs)\n",
      "print 'found %d tokens and %d terms' % (n_tokens, len(terms))"
     ],
     "language": "python",
     "metadata": {},
     "outputs": [
      {
       "output_type": "stream",
       "stream": "stdout",
       "text": [
        "found 2407154 tokens and 101660 terms\n"
       ]
      }
     ],
     "prompt_number": 27
    },
    {
     "cell_type": "markdown",
     "metadata": {
      "slideshow": {
       "slide_type": "slide"
      }
     },
     "source": [
      "How does the number of terms vary with the number of tokens?"
     ]
    },
    {
     "cell_type": "code",
     "collapsed": true,
     "input": [
      "# Compute T/V for different subsets of the documents.\n",
      "T = []\n",
      "V = []\n",
      "for n_docs in [10, 100, 200, 500, 1000, 2000, 3000, 4000, 5000, 10000]:\n",
      "    terms, n_tokens = count_terms_and_toks(docs[:n_docs])\n",
      "    print 'found %d tokens and %d terms in %d docs' % (n_tokens, len(terms), n_docs)    \n",
      "    T.append(n_tokens)\n",
      "    V.append(len(terms))"
     ],
     "language": "python",
     "metadata": {},
     "outputs": [
      {
       "output_type": "stream",
       "stream": "stdout",
       "text": [
        "found 1270 tokens and 545 terms in 10 docs\n",
        "found 20449 tokens and 4941 terms in 100 docs\n",
        "found 50303 tokens and 8848 terms in 200 docs"
       ]
      },
      {
       "output_type": "stream",
       "stream": "stdout",
       "text": [
        "\n",
        "found 105452 tokens and 17725 terms in 500 docs"
       ]
      },
      {
       "output_type": "stream",
       "stream": "stdout",
       "text": [
        "\n",
        "found 209464 tokens and 24469 terms in 1000 docs"
       ]
      },
      {
       "output_type": "stream",
       "stream": "stdout",
       "text": [
        "\n",
        "found 435254 tokens and 39713 terms in 2000 docs"
       ]
      },
      {
       "output_type": "stream",
       "stream": "stdout",
       "text": [
        "\n",
        "found 619554 tokens and 46003 terms in 3000 docs"
       ]
      },
      {
       "output_type": "stream",
       "stream": "stdout",
       "text": [
        "\n",
        "found 858034 tokens and 54854 terms in 4000 docs"
       ]
      },
      {
       "output_type": "stream",
       "stream": "stdout",
       "text": [
        "\n",
        "found 1123558 tokens and 63355 terms in 5000 docs"
       ]
      },
      {
       "output_type": "stream",
       "stream": "stdout",
       "text": [
        "\n",
        "found 2155062 tokens and 92689 terms in 10000 docs"
       ]
      },
      {
       "output_type": "stream",
       "stream": "stdout",
       "text": [
        "\n"
       ]
      }
     ],
     "prompt_number": 28
    },
    {
     "cell_type": "code",
     "collapsed": true,
     "input": [
      "# Let's plot the results.\n",
      "% pylab inline\n",
      "xlabel('T')\n",
      "ylabel('V')\n",
      "plot(T, V, 'bo')"
     ],
     "language": "python",
     "metadata": {},
     "outputs": [
      {
       "output_type": "stream",
       "stream": "stdout",
       "text": [
        "Populating the interactive namespace from numpy and matplotlib\n"
       ]
      },
      {
       "metadata": {},
       "output_type": "pyout",
       "prompt_number": 29,
       "text": [
        "[<matplotlib.lines.Line2D at 0x10a39b410>]"
       ]
      },
      {
       "metadata": {},
       "output_type": "display_data",
       "png": "[encoded data removed]",
       "text": [
        "<matplotlib.figure.Figure at 0x109b682d0>"
       ]
      }
     ],
     "prompt_number": 29
    },
    {
     "cell_type": "markdown",
     "metadata": {},
     "source": [
      "Is this linear, polynomial, something else?"
     ]
    },
    {
     "cell_type": "code",
     "collapsed": true,
     "input": [
      "# Let's try a linear fit\n",
      "import numpy as np\n",
      "linear = np.polyfit(T, V, 1)  # fit slope and intercept\n",
      "print 'linear fit=%.2f*x + %.2f' % (linear[0], linear[1])\n",
      "plot(T, V, 'bo', label='data')  # bo = blue circle\n",
      "plot(T, np.polyval(linear, T), 'r-', label='linear')  # r- = red solid line\n",
      "legend(loc='best')"
     ],
     "language": "python",
     "metadata": {},
     "outputs": [
      {
       "output_type": "stream",
       "stream": "stdout",
       "text": [
        "linear fit=0.04*x + 11949.85\n"
       ]
      },
      {
       "metadata": {},
       "output_type": "pyout",
       "prompt_number": 30,
       "text": [
        "<matplotlib.legend.Legend at 0x104cfc210>"
       ]
      },
      {
       "metadata": {},
       "output_type": "display_data",
       "png": "[encoded data removed]",
       "text": [
        "<matplotlib.figure.Figure at 0x10b297890>"
       ]
      }
     ],
     "prompt_number": 30
    },
    {
     "cell_type": "markdown",
     "metadata": {
      "slideshow": {
       "slide_type": "slide"
      }
     },
     "source": [
      "# Heaps' Law\n",
      "\n",
      "An observed relation between $V$ and $T$:\n",
      "\n",
      "$V = k T^b$\n",
      "\n",
      "for constants $k$ (typically $30 < k < 100$) and $b$ (typically $b \\approx 0.5$)"
     ]
    },
    {
     "cell_type": "code",
     "collapsed": true,
     "input": [
      "# How do we set k and b in Heaps' Law?\n",
      "# Minimize mean squared error.\n",
      "from scipy.optimize import curve_fit\n",
      "help(curve_fit)"
     ],
     "language": "python",
     "metadata": {
      "slideshow": {
       "slide_type": "fragment"
      }
     },
     "outputs": [
      {
       "output_type": "stream",
       "stream": "stdout",
       "text": [
        "Help on function curve_fit in module scipy.optimize.minpack:\n",
        "\n",
        "curve_fit(f, xdata, ydata, p0=None, sigma=None, absolute_sigma=False, **kw)\n",
        "    Use non-linear least squares to fit a function, f, to data.\n",
        "    \n",
        "    Assumes ``ydata = f(xdata, *params) + eps``\n",
        "    \n",
        "    Parameters\n",
        "    ----------\n",
        "    f : callable\n",
        "        The model function, f(x, ...).  It must take the independent\n",
        "        variable as the first argument and the parameters to fit as\n",
        "        separate remaining arguments.\n",
        "    xdata : An M-length sequence or an (k,M)-shaped array\n",
        "        for functions with k predictors.\n",
        "        The independent variable where the data is measured.\n",
        "    ydata : M-length sequence\n",
        "        The dependent data --- nominally f(xdata, ...)\n",
        "    p0 : None, scalar, or N-length sequence\n",
        "        Initial guess for the parameters.  If None, then the initial\n",
        "        values will all be 1 (if the number of parameters for the function\n",
        "        can be determined using introspection, otherwise a ValueError\n",
        "        is raised).\n",
        "    sigma : None or M-length sequence, optional\n",
        "        If not None, these values are used as weights in the\n",
        "        least-squares problem.\n",
        "    absolute_sigma : bool, optional\n",
        "        If False, `sigma` denotes relative weights of the data points.\n",
        "        The returned covariance matrix `pcov` is based on *estimated*\n",
        "        errors in the data, and is not affected by the overall\n",
        "        magnitude of the values in `sigma`. Only the relative\n",
        "        magnitudes of the `sigma` values matter.\n",
        "    \n",
        "        If True, `sigma` describes one standard deviation errors of\n",
        "        the input data points. The estimated covariance in `pcov` is\n",
        "        based on these values.\n",
        "    \n",
        "    Returns\n",
        "    -------\n",
        "    popt : array\n",
        "        Optimal values for the parameters so that the sum of the squared error\n",
        "        of ``f(xdata, *popt) - ydata`` is minimized\n",
        "    pcov : 2d array\n",
        "        The estimated covariance of popt. The diagonals provide the variance\n",
        "        of the parameter estimate. To compute one standard deviation errors\n",
        "        on the parameters use ``perr = np.sqrt(np.diag(pcov))``.\n",
        "    \n",
        "        How the `sigma` parameter affects the estimated covariance\n",
        "        depends on `absolute_sigma` argument, as described above.\n",
        "    \n",
        "    See Also\n",
        "    --------\n",
        "    leastsq\n",
        "    \n",
        "    Notes\n",
        "    -----\n",
        "    The algorithm uses the Levenberg-Marquardt algorithm through `leastsq`.\n",
        "    Additional keyword arguments are passed directly to that algorithm.\n",
        "    \n",
        "    Examples\n",
        "    --------\n",
        "    >>> import numpy as np\n",
        "    >>> from scipy.optimize import curve_fit\n",
        "    >>> def func(x, a, b, c):\n",
        "    ...     return a * np.exp(-b * x) + c\n",
        "    \n",
        "    >>> xdata = np.linspace(0, 4, 50)\n",
        "    >>> y = func(xdata, 2.5, 1.3, 0.5)\n",
        "    >>> ydata = y + 0.2 * np.random.normal(size=len(xdata))\n",
        "    \n",
        "    >>> popt, pcov = curve_fit(func, xdata, ydata)\n",
        "\n"
       ]
      }
     ],
     "prompt_number": 31
    },
    {
     "cell_type": "code",
     "collapsed": true,
     "input": [
      "# V = k * T^b\n",
      "def heaps(T, k, b):\n",
      "    return k*(T**b)"
     ],
     "language": "python",
     "metadata": {},
     "outputs": [],
     "prompt_number": 32
    },
    {
     "cell_type": "code",
     "collapsed": true,
     "input": [
      "# Fit k and b\n",
      "heap_parms,covar = curve_fit(heaps, T, V)\n",
      "print 'Heaps fit is %.2f*T^%.2f' % (heap_parms[0], heap_parms[1])"
     ],
     "language": "python",
     "metadata": {},
     "outputs": [
      {
       "output_type": "stream",
       "stream": "stdout",
       "text": [
        "Heaps fit is 23.49*T^0.57\n"
       ]
      }
     ],
     "prompt_number": 33
    },
    {
     "cell_type": "code",
     "collapsed": true,
     "input": [
      "# Compare linear fit and Heaps fit\n",
      "plot(T, V, 'bo', label='data')\n",
      "plot(T, np.polyval(linear, T), 'r-', label='linear')\n",
      "plot(T, heaps(T, *heap_parms), 'k--', label='heaps')  # k-- = black dashed line\n",
      "xlabel('T')\n",
      "ylabel('V')\n",
      "legend(loc='best')"
     ],
     "language": "python",
     "metadata": {},
     "outputs": [
      {
       "metadata": {},
       "output_type": "pyout",
       "prompt_number": 34,
       "text": [
        "<matplotlib.legend.Legend at 0x109456110>"
       ]
      },
      {
       "metadata": {},
       "output_type": "display_data",
       "png": "[encoded data removed]",
       "text": [
        "<matplotlib.figure.Figure at 0x1092fb150>"
       ]
      }
     ],
     "prompt_number": 34
    },
    {
     "cell_type": "code",
     "collapsed": true,
     "input": [
      "print 'Heaps predicts %d terms for %d tokens, truth is %d.' % (heaps(T[-1], *heap_parms), T[-1], V[-1])"
     ],
     "language": "python",
     "metadata": {},
     "outputs": [
      {
       "output_type": "stream",
       "stream": "stdout",
       "text": [
        "Heaps predicts 92835 terms for 99999999 tokens, truth is 92689.\n"
       ]
      }
     ],
     "prompt_number": 36
    },
    {
     "cell_type": "markdown",
     "metadata": {
      "slideshow": {
       "slide_type": "slide"
      }
     },
     "source": [
      "# How are terms distributed across documents?\n",
      "\n",
      "- How many times does the most frequent term occur? The $i$th most frequent term?"
     ]
    },
    {
     "cell_type": "code",
     "collapsed": true,
     "input": [
      "# Let's plot and see.\n",
      "# Recall that terms is a dict from term to document frequency\n",
      "print '\"the\" occurs in %d documents; \"honda\" occurs in %d documents' % (terms['the'], terms['honda'])"
     ],
     "language": "python",
     "metadata": {},
     "outputs": [
      {
       "output_type": "stream",
       "stream": "stdout",
       "text": [
        "\"the\" occurs in 8373 documents; \"honda\" occurs in 61 documents\n"
       ]
      }
     ],
     "prompt_number": 37
    },
    {
     "cell_type": "code",
     "collapsed": true,
     "input": [
      "# Sort frequency values in descending order\n",
      "freqs = sorted(terms.values(), reverse=True)\n",
      "print 'top 10 frequencies are', freqs[:10]"
     ],
     "language": "python",
     "metadata": {},
     "outputs": [
      {
       "output_type": "stream",
       "stream": "stdout",
       "text": [
        "top 10 frequencies are [8373, 7479, 7396, 6912, 6870, 6781, 6287, 6206, 5884, 5814]\n"
       ]
      }
     ],
     "prompt_number": 38
    },
    {
     "cell_type": "code",
     "collapsed": true,
     "input": [
      "ranks = range(1, len(freqs)+1)\n",
      "plot(ranks, freqs, 'bo', label='data')\n",
      "legend(loc='best')\n",
      "xlabel('rank')\n",
      "ylabel('frequency')"
     ],
     "language": "python",
     "metadata": {},
     "outputs": [
      {
       "metadata": {},
       "output_type": "pyout",
       "prompt_number": 39,
       "text": [
        "<matplotlib.text.Text at 0x1050c2090>"
       ]
      },
      {
       "metadata": {},
       "output_type": "display_data",
       "png": "[encoded data removed]",
       "text": [
        "<matplotlib.figure.Figure at 0x10949b050>"
       ]
      }
     ],
     "prompt_number": 39
    },
    {
     "cell_type": "code",
     "collapsed": true,
     "input": [
      "print '%d/%d terms occur in only one document.' % (len([x for x in freqs if x == 1]), len(freqs))"
     ],
     "language": "python",
     "metadata": {},
     "outputs": [
      {
       "output_type": "stream",
       "stream": "stdout",
       "text": [
        "56258/92689 terms occur in only one document.\n"
       ]
      }
     ],
     "prompt_number": 40
    },
    {
     "cell_type": "code",
     "collapsed": true,
     "input": [
      "# That was ugly. The values decrease too rapidly. Let's try a log-log plot.\n",
      "l_ranks = np.log10(ranks)\n",
      "l_freqs = np.log10(freqs)\n",
      "plot(l_ranks, l_freqs, 'bo', label='data')\n",
      "legend(loc='best')\n",
      "xlabel('log(rank)')\n",
      "ylabel('log(frequency)')"
     ],
     "language": "python",
     "metadata": {},
     "outputs": [
      {
       "metadata": {},
       "output_type": "pyout",
       "prompt_number": 41,
       "text": [
        "<matplotlib.text.Text at 0x109190b50>"
       ]
      },
      {
       "metadata": {},
       "output_type": "display_data",
       "png": "[encoded data removed]",
       "text": [
        "<matplotlib.figure.Figure at 0x1091eafd0>"
       ]
      }
     ],
     "prompt_number": 41
    },
    {
     "cell_type": "markdown",
     "metadata": {
      "slideshow": {
       "slide_type": "slide"
      }
     },
     "source": [
      "# Zipf's Law\n",
      "\n",
      "Another empirical law that states that the frequency of a term is inversely proportional to its rank.\n",
      "\n",
      "Let $f_i$ be the frequency of the $i$th most common term.\n",
      "\n",
      "$ f_i \\propto \\frac{1}{i} $ \n",
      "\n",
      "equivalently\n",
      "\n",
      "$ f_i = k$ $i^b $ for constant $k$ and $b=-1$\n",
      "\n",
      "(c.f. Heap's law: $V = kT^b$)"
     ]
    },
    {
     "cell_type": "code",
     "collapsed": true,
     "input": [
      "# Define the Zipf function and fit the k parameter.\n",
      "def zipfs(i, k):\n",
      "    return k / i\n",
      "zipf_parms,covar = curve_fit(zipfs, ranks, freqs)\n",
      "print 'Zipf fit is %.2f*T^-1' % zipf_parms[0]"
     ],
     "language": "python",
     "metadata": {},
     "outputs": [
      {
       "output_type": "stream",
       "stream": "stdout",
       "text": [
        "Zipf fit is 18138.34*T^-1\n"
       ]
      }
     ],
     "prompt_number": 42
    },
    {
     "cell_type": "code",
     "collapsed": true,
     "input": [
      "plot(l_ranks, l_freqs, 'bo', label='data')\n",
      "xlabel('log(rank)')\n",
      "ylabel('log(frequency)')\n",
      "plot(l_ranks, log10(zipfs(ranks, *zipf_parms)), 'k--', label='zipf')  # k-- = black dashed line\n",
      "legend(loc='best')"
     ],
     "language": "python",
     "metadata": {},
     "outputs": [
      {
       "metadata": {},
       "output_type": "pyout",
       "prompt_number": 43,
       "text": [
        "<matplotlib.legend.Legend at 0x10a223850>"
       ]
      },
      {
       "metadata": {},
       "output_type": "display_data",
       "png": "[encoded data removed]",
       "text": [
        "<matplotlib.figure.Figure at 0x1094d2d50>"
       ]
      }
     ],
     "prompt_number": 43
    },
    {
     "cell_type": "code",
     "collapsed": true,
     "input": [
      "slope = zipf_parms[0]\n",
      "print slope / 92689 - slope / 92688\n",
      "\n",
      "print len([x for x in range(1,92835) if slope / x < 1.5 and x > 1])"
     ],
     "language": "python",
     "metadata": {},
     "outputs": [
      {
       "output_type": "stream",
       "stream": "stdout",
       "text": [
        "-2.1112802186e-06\n",
        "80742"
       ]
      },
      {
       "output_type": "stream",
       "stream": "stdout",
       "text": [
        "\n"
       ]
      }
     ],
     "prompt_number": 22
    },
    {
     "cell_type": "markdown",
     "metadata": {
      "slideshow": {
       "slide_type": "slide"
      }
     },
     "source": [
      "# Dictionary compression\n",
      "\n",
      "\n",
      "$ \\begin{eqnarray*}\n",
      "\\mathbf{dog} & \\rightarrow & [1, 6, 20] \\\\\n",
      "\\mathbf{cat} & \\rightarrow & [7, 16, 32] \\\\\n",
      "\\end{eqnarray*}\n",
      "$\n",
      "\n",
      "1. Fixed-width storage\n",
      "2. One big string\n",
      "3. Blocked storage\n",
      "4. Front encoding"
     ]
    },
    {
     "cell_type": "markdown",
     "metadata": {
      "slideshow": {
       "slide_type": "slide"
      }
     },
     "source": [
      "# Fixed-width storage\n",
      "\n",
      "![fixed](files/fixed.png)\n",
      "\n",
      "[MRS](http://nlp.stanford.edu/IR-book/pdf/05comp.pdf)\n",
      "\n",
      "Space = $(20 + 4 + 4)V  = 28V$ bytes\n",
      "\n",
      "Why is 20 bytes / term wasteful?"
     ]
    },
    {
     "cell_type": "markdown",
     "metadata": {
      "slideshow": {
       "slide_type": "fragment"
      }
     },
     "source": [
      "Average term $\\approx$ 8 bytes"
     ]
    },
    {
     "cell_type": "markdown",
     "metadata": {
      "slideshow": {
       "slide_type": "slide"
      }
     },
     "source": [
      "# One big string\n",
      "\n",
      "![string](files/string.png)\n",
      "\n",
      "[MRS](http://nlp.stanford.edu/IR-book/pdf/05comp.pdf)"
     ]
    },
    {
     "cell_type": "markdown",
     "metadata": {
      "slideshow": {
       "slide_type": "fragment"
      }
     },
     "source": [
      "Assuming average term is 8 bytes, \n",
      "\n",
      "Space = $(8 + 4 + 4 + 3)V = 19V$ bytes (reduction from $28V$)"
     ]
    },
    {
     "cell_type": "markdown",
     "metadata": {
      "slideshow": {
       "slide_type": "slide"
      }
     },
     "source": [
      "# Blocked storage\n",
      "\n",
      "Reduce number of term pointers:\n",
      "\n",
      "![block](files/block.png)\n",
      "\n",
      "[MRS](http://nlp.stanford.edu/IR-book/pdf/05comp.pdf)"
     ]
    },
    {
     "cell_type": "markdown",
     "metadata": {
      "slideshow": {
       "slide_type": "fragment"
      }
     },
     "source": [
      "- Assume $k$ blocks, we store only $k$ term pointers (instead of $V$)\n",
      "- But, we also need to add one byte per term for offsets (term length)\n",
      "\n",
      "Space = $(8 + 4 + 4)V + k + V = 17V + k$ bytes (reduction from $19V$)\n",
      "\n",
      "Why not use $k=1$?"
     ]
    },
    {
     "cell_type": "markdown",
     "metadata": {
      "slideshow": {
       "slide_type": "slide"
      }
     },
     "source": [
      "# Front encoding\n",
      "\n",
      "![front](files/front.png)\n",
      "\n",
      "[MRS](http://nlp.stanford.edu/IR-book/pdf/05comp.pdf)\n",
      "\n",
      "Savings depends on chosen prefixes."
     ]
    },
    {
     "cell_type": "markdown",
     "metadata": {
      "slideshow": {
       "slide_type": "slide"
      }
     },
     "source": [
      "# Dictionary compression results\n",
      "\n",
      "![sizes](files/sizes.png)\n",
      "\n",
      "[MRS](http://nlp.stanford.edu/IR-book/pdf/05comp.pdf)\n",
      "\n",
      "Note that 28V / 19V $\\approx$ 11.2 / 7.6"
     ]
    },
    {
     "cell_type": "markdown",
     "metadata": {
      "slideshow": {
       "slide_type": "slide"
      }
     },
     "source": [
      "# Compression postings lists\n",
      "\n",
      "$ \\begin{eqnarray*}\n",
      "dog & \\rightarrow & \\mathbf{[1, 6, 20]} \\\\\n",
      "cat & \\rightarrow & \\mathbf{[7, 16, 32]} \\\\\n",
      "\\end{eqnarray*}\n",
      "$"
     ]
    },
    {
     "cell_type": "markdown",
     "metadata": {
      "slideshow": {
       "slide_type": "fragment"
      }
     },
     "source": [
      "How many bits to represent a doc ID?"
     ]
    },
    {
     "cell_type": "markdown",
     "metadata": {
      "slideshow": {
       "slide_type": "fragment"
      }
     },
     "source": [
      "$log_2(D)$ for $D$ documents in dataset.\n",
      "\n",
      "So, postings list for a term that appears in $n$ documents requires $n log_2(D)$ bits."
     ]
    },
    {
     "cell_type": "markdown",
     "metadata": {
      "slideshow": {
       "slide_type": "slide"
      }
     },
     "source": [
      "# Storing gaps\n",
      "\n",
      "**Idea:** Store only gaps between doc IDs. Hope that the range of gaps is less than the number of documents. E.g.\n",
      "\n",
      "$ dog \\rightarrow [101, 102, 104, 107] $\n",
      "\n",
      "becomes\n",
      "\n",
      "$ dog \\rightarrow [101, 1, 2, 3] $\n"
     ]
    },
    {
     "cell_type": "markdown",
     "metadata": {},
     "source": [
      "Instead of $log_2(D)$, each ID is stored in $log_2(M)$, where $M$ is maximum gap."
     ]
    },
    {
     "cell_type": "markdown",
     "metadata": {
      "slideshow": {
       "slide_type": "fragment"
      }
     },
     "source": [
      "What about rare words?"
     ]
    },
    {
     "cell_type": "markdown",
     "metadata": {
      "slideshow": {
       "slide_type": "fragment"
      }
     },
     "source": [
      "$ defenestrate \\rightarrow [100, 99999100] $\n",
      "\n",
      "becomes\n",
      "\n",
      "$ defenestrate \\rightarrow [100, 99999000] $\n"
     ]
    },
    {
     "cell_type": "markdown",
     "metadata": {
      "slideshow": {
       "slide_type": "slide"
      }
     },
     "source": [
      "# Variable byte encoding\n",
      "\n",
      "**Idea:** Use more bytes for larger numbers. \n",
      "\n",
      "E.g., \n",
      "\n",
      "- doc ID $4 \\rightarrow 100$ (3 bits)\n",
      "- doc ID $4000 \\rightarrow 111110100000$ (12 bits)\n",
      "\n",
      "What's the problem with this?"
     ]
    },
    {
     "cell_type": "markdown",
     "metadata": {
      "slideshow": {
       "slide_type": "fragment"
      }
     },
     "source": [
      "4 followed by 400 becomes: $100111110100000$ \n",
      "\n",
      "Where does one ID end and the next begin?"
     ]
    },
    {
     "cell_type": "markdown",
     "metadata": {
      "slideshow": {
       "slide_type": "slide"
      }
     },
     "source": [
      "**Idea:**\n",
      "\n",
      "- For each byte, let the final 7 bits be a subsequence of an ID;\n",
      "- Let the first bit be 1 if this is the final byte for this ID"
     ]
    },
    {
     "cell_type": "markdown",
     "metadata": {},
     "source": [
      "$4 \\rightarrow $ <font color='blue'><u>**1**</u>0000100</font> (<font color='blue'><u>1</u></font> = final byte, <font color='blue'>0000100</font> = ID 4)\n",
      "\n",
      "$4000 \\rightarrow$ <font color='blue'><u>**0**</u>0011111</font><font color=\"orange\"><u>**1**</u>0100000</font> $\\rightarrow$ <font color='blue'><u>**_**</u>0011111</font><font color=\"orange\"><u>**_**</u>0100000</font> $\\rightarrow$ 00111110100000\n",
      "\n"
     ]
    },
    {
     "cell_type": "markdown",
     "metadata": {
      "slideshow": {
       "slide_type": "slide"
      }
     },
     "source": [
      "![vb](files/vb.png)\n",
      "\n",
      "[MRS](http://nlp.stanford.edu/IR-book/pdf/05comp.pdf)\n"
     ]
    },
    {
     "cell_type": "markdown",
     "metadata": {
      "slideshow": {
       "slide_type": "slide"
      }
     },
     "source": [
      "![sizes2](files/sizes2.png)\n",
      "\n",
      "[MRS](http://nlp.stanford.edu/IR-book/pdf/05comp.pdf)\n"
     ]
    },
    {
     "cell_type": "markdown",
     "metadata": {
      "slideshow": {
       "slide_type": "slide"
      }
     },
     "source": [
      "# How many bytes to store $n$ postings lists?\n",
      "\n",
      "Need to know how many doc ids in each postings list.\n",
      "\n",
      "Recall Zipf:\n",
      "\n",
      "$ f_i = \\frac{k}{i} $ for constant $k$\n",
      "\n",
      "so, most frequent term has $k$ doc ids, next most frequent has $\\frac{k}{2}$, next has $\\frac{k}{3}$, etc.\n",
      "\n",
      "Have to make some assumption about gap sizes: e.g., uniform $ [100, 200, 300, 400, ...] $\n",
      "\n",
      "$\\begin{eqnarray*}\n",
      "term_1 & = & [\\frac{D}{k}, 2\\frac{D}{k}, 3\\frac{D}{k}, \\ldots, k\\frac{D}{k}]\\\\\n",
      "term_2 & = & [\\frac{2D}{k}, 2\\frac{2D}{k}, 3\\frac{2D}{k}, \\ldots, k\\frac{2D}{k}]\\\\\n",
      "\\vdots\\\\\n",
      "term_i & = & [\\frac{iD}{k}, 2\\frac{iD}{k}, 3\\frac{iD}{k}, \\ldots, k\\frac{iD}{k}]\\\\\n",
      "\\end{eqnarray*}\n",
      "$\n"
     ]
    },
    {
     "cell_type": "markdown",
     "metadata": {
      "slideshow": {
       "slide_type": "fragment"
      }
     },
     "source": [
      "In terms of $D$, $k$, what is\n",
      "\n",
      "- average gap size?\n",
      "- total number of gaps?"
     ]
    }
   ],
   "metadata": {}
  }
 ]
}