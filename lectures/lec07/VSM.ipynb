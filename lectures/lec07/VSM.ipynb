{
 "metadata": {
  "name": "",
  "signature": "sha256:d3f4fdfb7c936b86ac5947f2539ec9deb8307b26999d0d8fd711f5ae6d9d0da3"
 },
 "nbformat": 3,
 "nbformat_minor": 0,
 "worksheets": [
  {
   "cells": [
    {
     "cell_type": "markdown",
     "metadata": {
      "slideshow": {
       "slide_type": "slide"
      }
     },
     "source": [
      "# CS 429: Information Retrieval\n",
      "\n",
      "<br>\n",
      "\n",
      "## Lecture 7: Term weighting and the Vector Space Model\n",
      "\n",
      "<br>\n",
      "\n",
      "### Dr. Aron Culotta\n",
      "### Illinois Institute of Technology \n",
      "### Spring 2014\n",
      "\n",
      "---\n"
     ]
    },
    {
     "cell_type": "markdown",
     "metadata": {
      "slideshow": {
       "slide_type": "slide"
      }
     },
     "source": [
      "Last time:\n",
      "\n",
      "- How do we compress the contents of an index?\n",
      "\n",
      "Today: \n",
      "\n",
      "- From boolean search to ranking\n"
     ]
    },
    {
     "cell_type": "markdown",
     "metadata": {
      "slideshow": {
       "slide_type": "slide"
      }
     },
     "source": [
      "# Assignment 0 notes\n",
      "\n",
      "- Why is this inefficient?  "
     ]
    },
    {
     "cell_type": "code",
     "collapsed": false,
     "input": [
      "def intersect(list1, list2):\n",
      "    list(set(list1) & set(list2))"
     ],
     "language": "python",
     "metadata": {},
     "outputs": [],
     "prompt_number": 1
    },
    {
     "cell_type": "markdown",
     "metadata": {
      "slideshow": {
       "slide_type": "fragment"
      }
     },
     "source": [
      "- `create_index`: no duplicate doc IDs\n",
      "```\n",
      ">>> create_index([['a', 'a']])\n",
      "{'a': [0, 0]}\n",
      "```"
     ]
    },
    {
     "cell_type": "markdown",
     "metadata": {
      "slideshow": {
       "slide_type": "fragment"
      }
     },
     "source": [
      "- counter-example to optimizing query order by term frequency\n",
      "  - a=[0, 1, 2], b=[3, 4, 5, 6], c=[0, 2]\n",
      "  - **shortest first** -- (a AND c) AND b. 3 comparisons for (a AND c), yielding [0, 2]; 2 comparisons to AND with b. **Total=** 5 comparisons.\n",
      "  - **longest first**-- (a AND b) AND c.  3 comparisons for (a AND b), yielding [ ]. No need to compare with c. **Total=** 3 comparisons."
     ]
    },
    {
     "cell_type": "markdown",
     "metadata": {
      "slideshow": {
       "slide_type": "fragment"
      }
     },
     "source": [
      "- negation does not always come last.\n",
      "  - a = [0, 1], b = [0, 1], c=[0, 1, 2]\n",
      "  - a AND (b AND NOT c) requires fewer comparisons than (a AND b) AND NOT c "
     ]
    },
    {
     "cell_type": "markdown",
     "metadata": {
      "slideshow": {
       "slide_type": "slide"
      }
     },
     "source": [
      "# Why is boolean search bad?"
     ]
    },
    {
     "cell_type": "markdown",
     "metadata": {
      "slideshow": {
       "slide_type": "fragment"
      }
     },
     "source": [
      "- Prone to user error\n",
      "- Have to think of all possible ways of expressing information need\n",
      "- Too many matching results"
     ]
    },
    {
     "cell_type": "markdown",
     "metadata": {
      "slideshow": {
       "slide_type": "slide"
      }
     },
     "source": [
      "# Why is boolean search good?"
     ]
    },
    {
     "cell_type": "markdown",
     "metadata": {
      "slideshow": {
       "slide_type": "fragment"
      }
     },
     "source": [
      "- Users get exactly what they ask for\n",
      "- Good for integrating with other software"
     ]
    },
    {
     "cell_type": "markdown",
     "metadata": {
      "slideshow": {
       "slide_type": "slide"
      }
     },
     "source": [
      "# Problems with boolean search\n",
      "\n",
      "- Too few results: \"error: null ptr exception in line 2341\" $\\rightarrow$ 0 results\n",
      "- Too many results: \"error: null ptr exception\" $\\rightarrow$ 1M results\n",
      "- User must carefully refine the query"
     ]
    },
    {
     "cell_type": "markdown",
     "metadata": {
      "slideshow": {
       "slide_type": "slide"
      }
     },
     "source": [
      "# Ranked retrieval\n",
      "\n",
      "- Order search results by **relevance** to query.\n",
      "- Too many results is not a problem: user only looks at top 10-20."
     ]
    },
    {
     "cell_type": "markdown",
     "metadata": {
      "slideshow": {
       "slide_type": "slide"
      }
     },
     "source": [
      "# Ranked retrieval\n",
      "\n",
      "**Problem:** Given a query $q$ and a set of documents $D$, compute a score $s_i \\in [0, 1]$ for each document $d_i \\in D$.\n",
      "\n",
      "- higher scores $\\rightarrow d_i$ is more relevant to $q$.\n"
     ]
    },
    {
     "cell_type": "markdown",
     "metadata": {
      "slideshow": {
       "slide_type": "slide"
      }
     },
     "source": [
      "# Ranking one-word queries\n",
      "\n",
      "- Search index for \"dog\".\n",
      "\n",
      "- What should the score for a document be?"
     ]
    },
    {
     "cell_type": "markdown",
     "metadata": {
      "slideshow": {
       "slide_type": "slide"
      }
     },
     "source": [
      "# Jaccard coefficient\n",
      "\n",
      "$J(A, B) = \\frac{|A \\cap B|}{|A \\cup B|}$\n",
      "\n",
      "- $J(A, A) = 1$\n",
      "- $J(A, B) = 0$ if $A \\cap B = 0$\n",
      "\n",
      "- Example: \n",
      "  - *q:* dogs with hats\n",
      "  - $d_1:$ big cats wearing hats\n",
      "  - $d_2:$ I like hats.\n",
      "  - $J(q, d_1)$? $J(q, d_2)$?"
     ]
    },
    {
     "cell_type": "markdown",
     "metadata": {
      "slideshow": {
       "slide_type": "fragment"
      }
     },
     "source": [
      "- $J(q, d_1) = \\frac{|\\{hats\\}|}{|\\{dogs, with, hats, big, cats, wearing\\}} = \\frac{1}{6}$\n",
      "\n",
      "\n",
      "- $J(q, d_2) = \\frac{|\\{hats\\}|}{|\\{dogs, with, hats, I, like\\}} = \\frac{1}{5}$"
     ]
    },
    {
     "cell_type": "markdown",
     "metadata": {
      "slideshow": {
       "slide_type": "slide"
      }
     },
     "source": [
      "# Issues\n",
      "\n",
      "- **term frequency**:  documents with more occurrences of query term should be ranked higher than documents with few occurrences.\n",
      "  - q=\"dog\", score(\"dog cat dog\") > score(\"dog cat cat\")\n",
      "- **rare terms**: rare terms matter more than common terms\n",
      "  - q=\"the dog\", score(\"dog cat\") > score(\"the cat\")\n",
      "- **length normalization**: how can we make the scores comparable for long and short documents?"
     ]
    },
    {
     "cell_type": "markdown",
     "metadata": {
      "slideshow": {
       "slide_type": "slide"
      }
     },
     "source": [
      "# Term frequency\n",
      "\n",
      "- Let $tf_{t,d}$ be the frequency of term $t$ in document $d$.\n",
      "- What is the functional relationship between $tf_{t,d}$ and relevance?\n",
      "  - linear, log, something else?"
     ]
    },
    {
     "cell_type": "markdown",
     "metadata": {
      "slideshow": {
       "slide_type": "fragment"
      }
     },
     "source": [
      "- $\\log$ typically used\n",
      "- The weight of term $t$ in $d$ is:\n",
      "  - $w_{t,d} = 1 + \\log tf_{t,d}$ if $tf_{t,d} > 0$; otherwise $0$.\n",
      "  \n",
      "  \n",
      "- score $s_i = \\sum_{t \\in q \\cap d_i}(1 + \\log tf_{t,d_i})$\n",
      "  - sum of term weights for unique terms in query and document\n",
      "  \n",
      "- If no query terms present? 0 score.\n"
     ]
    },
    {
     "cell_type": "code",
     "collapsed": false,
     "input": [
      "%pylab inline\n",
      "tfs = [1, 100, 1000, 10000, 100000, 1000000]\n",
      "xlim((-10000,1.2e6))\n",
      "ylim((-1, 9))\n",
      "plot(tfs, [1 + math.log10(tf) for tf in tfs], 'bo')\n",
      "xlabel('term frequency')\n",
      "ylabel('1 + log(tf)')"
     ],
     "language": "python",
     "metadata": {
      "slideshow": {
       "slide_type": "fragment"
      }
     },
     "outputs": [
      {
       "output_type": "stream",
       "stream": "stdout",
       "text": [
        "Populating the interactive namespace from numpy and matplotlib\n"
       ]
      },
      {
       "metadata": {},
       "output_type": "pyout",
       "prompt_number": 1,
       "text": [
        "<matplotlib.text.Text at 0x1096ae650>"
       ]
      },
      {
       "metadata": {},
       "output_type": "display_data",
       "png": "[encoded data removed]",
       "text": [
        "<matplotlib.figure.Figure at 0x10969f3d0>"
       ]
      }
     ],
     "prompt_number": 1
    },
    {
     "cell_type": "markdown",
     "metadata": {
      "slideshow": {
       "slide_type": "slide"
      }
     },
     "source": [
      "# Document frequency\n",
      "\n",
      "- We want to weight rare terms more than common terms (e.g., *the* versus *excogitate*)."
     ]
    },
    {
     "cell_type": "markdown",
     "metadata": {
      "slideshow": {
       "slide_type": "fragment"
      }
     },
     "source": [
      "- **idf weight:**\n",
      "  - Let $N$ be total number of documents\n",
      "  - Let $df_t$ be the total number of documents that term $t$ appears in.\n",
      "  - Define **inverse document freqency** as $idf_t = \\log (\\frac{N}{df_t})$"
     ]
    },
    {
     "cell_type": "code",
     "collapsed": false,
     "input": [
      "%pylab inline\n",
      "N = 1e6\n",
      "dfs = [1, 100, 1000, 10000, 100000, 1000000]\n",
      "xlim((-10000,1.5e6))\n",
      "ylim((-1, 9))\n",
      "plot(dfs, [math.log10(1. * N/df) for df in dfs], 'bo')\n",
      "xlabel('df$_t$')\n",
      "ylabel('log(N/df$_t$)')"
     ],
     "language": "python",
     "metadata": {
      "slideshow": {
       "slide_type": "fragment"
      }
     },
     "outputs": [
      {
       "output_type": "stream",
       "stream": "stdout",
       "text": [
        "Populating the interactive namespace from numpy and matplotlib\n"
       ]
      },
      {
       "metadata": {},
       "output_type": "pyout",
       "prompt_number": 5,
       "text": [
        "<matplotlib.text.Text at 0x109c02f10>"
       ]
      },
      {
       "metadata": {},
       "output_type": "display_data",
       "png": "[encoded data removed]",
       "text": [
        "<matplotlib.figure.Figure at 0x109c07050>"
       ]
      }
     ],
     "prompt_number": 5
    },
    {
     "cell_type": "markdown",
     "metadata": {
      "slideshow": {
       "slide_type": "fragment"
      }
     },
     "source": [
      "What effect does this have on one term queries?\n",
      "<br><br><br>\n",
      "  \n",
      "\n"
     ]
    },
    {
     "cell_type": "markdown",
     "metadata": {
      "slideshow": {
       "slide_type": "fragment"
      }
     },
     "source": [
      "- **none**"
     ]
    },
    {
     "cell_type": "markdown",
     "metadata": {
      "slideshow": {
       "slide_type": "slide"
      }
     },
     "source": [
      "# tf-idf weight\n",
      "\n",
      "- Multiply $tf$ and $idf$\n",
      "\n",
      "\n",
      "- $w_{t,d} = (1 + \\log tf_{t,d}) \\times \\log (\\frac{N}{df_t})$\n",
      "\n",
      "- Perhaps the most common baseline weighting system in IR\n",
      "- Increases with term frequency in document; increases with rarity of term\n",
      "\n",
      "**Final score:**\n",
      "\n",
      "$s_i = \\sum_{t \\in q \\cap d_i} w_{t, d}$"
     ]
    },
    {
     "cell_type": "markdown",
     "metadata": {
      "slideshow": {
       "slide_type": "slide"
      }
     },
     "source": [
      "# Document representation\n",
      "\n",
      "Previously, each document is a \"bag-of-words\"\n",
      "\n",
      "- \"I saw the man in the hat in the park.\" $\\rightarrow$ `{i: 1, saw: 1, the: 2, man: 1, in: 2, park: 1}`\n",
      "  - order doesn't matter; just term frequency\n",
      "  \n",
      "Now, each term is weighted by *tf-idf*."
     ]
    },
    {
     "cell_type": "markdown",
     "metadata": {
      "slideshow": {
       "slide_type": "slide"
      }
     },
     "source": [
      "# Document Space\n",
      "\n",
      "Each document $d_i$ is now a vector in $V$-dimensional space, where $V$ is the number of terms.\n",
      "\n",
      "- e.g., assume position0 is \"dog\" and position1 is \"cat\", then two documents could be:\n",
      "  - $d_1 = \\{10.6, 0.5\\}$ (mostly about dogs)\n",
      "  - $d_2 = \\{0.2, 5.6\\}$  (mostly about cats)"
     ]
    },
    {
     "cell_type": "code",
     "collapsed": false,
     "input": [
      "plot([10.6, 0.2], [.5, 5.6], 'bo')\n",
      "xlabel('dog')\n",
      "ylabel('cat')"
     ],
     "language": "python",
     "metadata": {
      "slideshow": {
       "slide_type": "fragment"
      }
     },
     "outputs": [
      {
       "metadata": {},
       "output_type": "pyout",
       "prompt_number": 6,
       "text": [
        "<matplotlib.text.Text at 0x109bcd810>"
       ]
      },
      {
       "metadata": {},
       "output_type": "display_data",
       "png": "[encoded data removed]",
       "text": [
        "<matplotlib.figure.Figure at 0x109b18a50>"
       ]
      }
     ],
     "prompt_number": 6
    },
    {
     "cell_type": "markdown",
     "metadata": {
      "slideshow": {
       "slide_type": "slide"
      }
     },
     "source": [
      "# First idea: Euclidean distance\n",
      "\n",
      "- Score a query by the distance between the query and document in vector space.\n",
      "\n",
      "$ dist(a, b) = \\sqrt{\\sum_i (a_i - b_i)^2} $\n"
     ]
    },
    {
     "cell_type": "markdown",
     "metadata": {
      "slideshow": {
       "slide_type": "slide"
      }
     },
     "source": [
      "# Problem with Euclidean distance\n",
      "\n",
      "![length](files/length.png)\n",
      "\n",
      "$q$ is similar to $d_2$, but because $d_2$ is longer, Euclidean distance is large\n",
      "\n",
      "- Another way of thinking about it:\n",
      "  - Let $d_i^2$ be $d_i$ appended to itself. \n",
      "  - $dist(d_i, d_i^2)$ should be small, but it is not"
     ]
    },
    {
     "cell_type": "markdown",
     "metadata": {
      "slideshow": {
       "slide_type": "slide"
      }
     },
     "source": [
      "# Cosine similarity\n",
      "\n",
      "**Idea:** score query by angle between query vector and document vector\n",
      "\n",
      "![cosine](files/cosine.png)\n",
      "\n"
     ]
    },
    {
     "cell_type": "markdown",
     "metadata": {
      "slideshow": {
       "slide_type": "slide"
      }
     },
     "source": [
      "# Cosine similarity\n",
      "\n",
      "$sim(a, b) = \\frac{a \\cdot b}{||a||\\hbox{ } ||b||}$\n",
      "\n",
      "- $a \\cdot b$ is dot product: $\\sum_i a_i \\times b_i$\n",
      "\n",
      "\n",
      "- $||a||$ is norm: $\\sqrt{\\sum_i a_i^2}$"
     ]
    },
    {
     "cell_type": "markdown",
     "metadata": {},
     "source": [
      "# Exercise\n",
      "\n",
      "Given three documents:\n",
      "\n",
      "- $d_1$: `['the', 'dog', 'barked']`\n",
      "- $d_2$: `['the', 'dog', 'jumped']`\n",
      "- $d_3$: `['a', 'cat', 'jumped']`\n",
      "\n",
      "\n",
      "1. Compute tf-idf vectors for $d_1, d_2$\n",
      "2. Compute the cosine similarity between $d_1$ and $d_2$"
     ]
    },
    {
     "cell_type": "markdown",
     "metadata": {},
     "source": [
      "# tf-idf weight\n",
      "\n",
      "- Multiply $tf$ and $idf$\n",
      "\n",
      "\n",
      "- $w_{t,d} = (1 + \\log tf_{t,d}) \\times \\log (\\frac{N}{df_t})$\n",
      "\n",
      "- Perhaps the most common baseline weighting system in IR\n",
      "- Increases with term frequency in document; increases with rarity of term\n",
      "\n",
      "**Final score:**\n",
      "\n",
      "$s_i = \\sum_{t \\in q \\cap d_i} w_{t, d}$"
     ]
    }
   ],
   "metadata": {}
  }
 ]
}