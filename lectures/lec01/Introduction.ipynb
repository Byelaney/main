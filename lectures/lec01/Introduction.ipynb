{
 "metadata": {
  "name": ""
 },
 "nbformat": 3,
 "nbformat_minor": 0,
 "worksheets": [
  {
   "cells": [
    {
     "cell_type": "markdown",
     "metadata": {
      "slideshow": {
       "slide_type": "slide"
      }
     },
     "source": [
      "# CS 429: Information Retrieval\n",
      "\n",
      "<br>\n",
      "\n",
      "### Dr. Aron Culotta\n",
      "### Illinois Institute of Technology \n",
      "### Spring 2014\n",
      "\n",
      "---\n"
     ]
    },
    {
     "cell_type": "markdown",
     "metadata": {
      "slideshow": {
       "slide_type": "slide"
      }
     },
     "source": [
      "# What is Information Retrieval?\n",
      "\n",
      "---"
     ]
    },
    {
     "cell_type": "markdown",
     "metadata": {
      "slideshow": {
       "slide_type": "fragment"
      }
     },
     "source": [
      "**The process of finding relevant data.**\n",
      "\n",
      "\n",
      "Typically:\n",
      "\n",
      "- text, though also images, video, audio\n",
      "\n",
      "\n",
      "- *unstructured* (in contrast to relational databases)\n",
      "\n",
      "\n",
      "- using a computer "
     ]
    },
    {
     "cell_type": "markdown",
     "metadata": {
      "slideshow": {
       "slide_type": "slide"
      }
     },
     "source": [
      "# Examples of Information Retrieval"
     ]
    },
    {
     "cell_type": "markdown",
     "metadata": {
      "slideshow": {
       "slide_type": "fragment"
      }
     },
     "source": [
      "<a href=\"http://google.com\"><img src=\"https://www.google.com/images/srpr/logo11w.png\" width=\"20%\"></a>\n",
      "<a href=\"http://apple.com\"><img src=\"http://www.fatdex.net/php/wp-content/uploads/2008/11/3_osx_spotlight.jpg\" width=\"30%\"></a>\n",
      "<img src=\"http://marketingchristianbooks.files.wordpress.com/2010/03/librarian.png\" width=\"20%\">\n",
      "<a href=\"http://soundhound.com\"><img src=\"http://a1.mzstatic.com/us/r30/Purple4/v4/04/f6/17/04f6170a-a577-dcc2-c554-b36076b8fe82/mzl.gqblbiin.png\" width=\"20%\"></a>\n",
      "<a href=\"http://youtube.com\"><img src=\"https://developers.google.com/youtube/images/YouTube_logo_standard_white.png\" width=\"20%\"></a>\n",
      "<a href=\"http://eharmony.com\"><img src=\"http://static3.businessinsider.com/image/4c91323c7f8b9a9a40e60300-1200/20-eharmony.jpg\" width=\"30%\"></a>\n",
      "<a href=\"http://ciir-publications.cs.umass.edu/pub/web/getpdf.php?id=1066\"><img src=\"files/goldberg.png\" width=\"30%\"></a>"
     ]
    },
    {
     "cell_type": "markdown",
     "metadata": {
      "slideshow": {
       "slide_type": "slide"
      }
     },
     "source": [
      "# Architecture\n",
      "\n",
      "   ![arch](files/arch.png)\n"
     ]
    },
    {
     "cell_type": "markdown",
     "metadata": {
      "slideshow": {
       "slide_type": "slide"
      }
     },
     "source": [
      "# Simplest information retrieval problem\n"
     ]
    },
    {
     "cell_type": "code",
     "collapsed": false,
     "input": [
      "documents = ['dog', 'cat', 'zebra', 'cat']"
     ],
     "language": "python",
     "metadata": {
      "slideshow": {
       "slide_type": "fragment"
      }
     },
     "outputs": []
    },
    {
     "cell_type": "code",
     "collapsed": false,
     "input": [
      "def search(documents, query):\n",
      "    pass"
     ],
     "language": "python",
     "metadata": {
      "slideshow": {
       "slide_type": "fragment"
      }
     },
     "outputs": []
    },
    {
     "cell_type": "code",
     "collapsed": false,
     "input": [
      "'return [doc for doc in documents if doc == query]'"
     ],
     "language": "python",
     "metadata": {
      "slideshow": {
       "slide_type": "notes"
      }
     },
     "outputs": []
    },
    {
     "cell_type": "code",
     "collapsed": true,
     "input": [
      "print search(documents, 'cat')"
     ],
     "language": "python",
     "metadata": {
      "slideshow": {
       "slide_type": "fragment"
      }
     },
     "outputs": []
    },
    {
     "cell_type": "markdown",
     "metadata": {
      "slideshow": {
       "slide_type": "fragment"
      }
     },
     "source": [
      "Runtime?"
     ]
    },
    {
     "cell_type": "markdown",
     "metadata": {
      "slideshow": {
       "slide_type": "fragment"
      }
     },
     "source": [
      "$T(n) = O(n)$ , where $n=$`len(documents)`.    **Can we do better?**"
     ]
    },
    {
     "cell_type": "markdown",
     "metadata": {
      "slideshow": {
       "slide_type": "slide"
      }
     },
     "source": [
      "# Most documents have more than one word..."
     ]
    },
    {
     "cell_type": "code",
     "collapsed": true,
     "input": [
      "documents = [['dog', 'cat'], ['cat', 'zebra'], ['dog', 'puma']]"
     ],
     "language": "python",
     "metadata": {},
     "outputs": []
    },
    {
     "cell_type": "code",
     "collapsed": false,
     "input": [
      "def search(documents, query):\n",
      "    pass"
     ],
     "language": "python",
     "metadata": {
      "slideshow": {
       "slide_type": "fragment"
      }
     },
     "outputs": []
    },
    {
     "cell_type": "code",
     "collapsed": false,
     "input": [
      "' return [doc for doc in documents if query in doc]'"
     ],
     "language": "python",
     "metadata": {
      "slideshow": {
       "slide_type": "notes"
      }
     },
     "outputs": []
    },
    {
     "cell_type": "code",
     "collapsed": false,
     "input": [
      "print search(documents, 'cat')"
     ],
     "language": "python",
     "metadata": {
      "slideshow": {
       "slide_type": "fragment"
      }
     },
     "outputs": []
    },
    {
     "cell_type": "markdown",
     "metadata": {
      "slideshow": {
       "slide_type": "fragment"
      }
     },
     "source": [
      "Runtime?"
     ]
    },
    {
     "cell_type": "markdown",
     "metadata": {
      "slideshow": {
       "slide_type": "fragment"
      }
     },
     "source": [
      "Naive: $O(n*m)$ , where $n=$ `len(documents)` and $m=$ `max(len(d) for d in documents)`"
     ]
    },
    {
     "cell_type": "markdown",
     "metadata": {
      "slideshow": {
       "slide_type": "slide"
      }
     },
     "source": [
      "# Inverted Index\n",
      "\n",
      "Map from *word* $\\rightarrow$ *Postings List*\n",
      "\n",
      "**Postings List:** List of ids for documents containing the word."
     ]
    },
    {
     "cell_type": "code",
     "collapsed": false,
     "input": [
      "# Map each word to the list of indices of documents that contain it.\n",
      "index = {'dog': [0, 2],\n",
      "         'cat': [0, 1],  # IDs are sorted. Why?\n",
      "         'zebra': [1],\n",
      "         'puma': [2]}"
     ],
     "language": "python",
     "metadata": {
      "slideshow": {
       "slide_type": "fragment"
      }
     },
     "outputs": []
    },
    {
     "cell_type": "code",
     "collapsed": false,
     "input": [
      "def indexed_search(documents, index, query):\n",
      "    pass"
     ],
     "language": "python",
     "metadata": {
      "slideshow": {
       "slide_type": "fragment"
      }
     },
     "outputs": []
    },
    {
     "cell_type": "code",
     "collapsed": false,
     "input": [
      "'    return [documents[doc_id] for doc_id in index[query]] '"
     ],
     "language": "python",
     "metadata": {
      "slideshow": {
       "slide_type": "notes"
      }
     },
     "outputs": []
    },
    {
     "cell_type": "code",
     "collapsed": false,
     "input": [
      "print indexed_search(documents, index, 'cat')"
     ],
     "language": "python",
     "metadata": {
      "slideshow": {
       "slide_type": "fragment"
      }
     },
     "outputs": []
    },
    {
     "cell_type": "markdown",
     "metadata": {
      "slideshow": {
       "slide_type": "fragment"
      }
     },
     "source": [
      "**Runtime?**"
     ]
    },
    {
     "cell_type": "markdown",
     "metadata": {
      "slideshow": {
       "slide_type": "fragment"
      }
     },
     "source": [
      "$O(k)$ , where $k$ is number of matching documents."
     ]
    },
    {
     "cell_type": "markdown",
     "metadata": {
      "slideshow": {
       "slide_type": "slide"
      }
     },
     "source": [
      "# Building an Index\n",
      "\n",
      "\n",
      "![index2](files/index2.png)\n",
      "\n",
      "(Source: MRS)"
     ]
    },
    {
     "cell_type": "markdown",
     "metadata": {
      "slideshow": {
       "slide_type": "slide"
      }
     },
     "source": [
      "# Query Processing\n",
      "\n",
      "Most queries have more than one word:\n",
      "\n",
      "**dog** AND **cat**\n",
      "\n",
      "** Index:**\n",
      "<br>\n",
      "*dog* $\\rightarrow \\{0, 2\\}$\n",
      "<br>\n",
      "*cat* $\\rightarrow  \\{0, 1\\}$"
     ]
    },
    {
     "cell_type": "code",
     "collapsed": false,
     "input": [
      "def and_search(documents, index, queries):\n",
      "    doc_ids = set([doc_id for doc_id in index[queries[0]]])\n",
      "    for query in queries[1:]: # For remaining words in query\n",
      "        doc_ids &= set([doc_id for doc_id in index[query]]) # Set intersection\n",
      "    return [documents[doc_id] for doc_id in doc_ids]"
     ],
     "language": "python",
     "metadata": {
      "slideshow": {
       "slide_type": "fragment"
      }
     },
     "outputs": []
    },
    {
     "cell_type": "code",
     "collapsed": false,
     "input": [
      "print and_search(documents, index, ['cat', 'dog'])"
     ],
     "language": "python",
     "metadata": {
      "slideshow": {
       "slide_type": "fragment"
      }
     },
     "outputs": []
    },
    {
     "cell_type": "markdown",
     "metadata": {
      "slideshow": {
       "slide_type": "fragment"
      }
     },
     "source": [
      "**Runtime?**"
     ]
    },
    {
     "cell_type": "markdown",
     "metadata": {
      "slideshow": {
       "slide_type": "fragment"
      }
     },
     "source": [
      "Depends on set intersection computation."
     ]
    },
    {
     "cell_type": "markdown",
     "metadata": {
      "slideshow": {
       "slide_type": "slide"
      }
     },
     "source": [
      "# Merging Postings Lists\n",
      "\n",
      "*dog* $\\rightarrow \\{0, 2, 4, 11, 31, 45, 173, 174\\}$\n",
      "<br>\n",
      "*cat* $\\rightarrow \\{2, 31, 54, 101\\}$\n",
      "\n",
      "Intersection $\\rightarrow \\{2, 31\\}$\n",
      "\n",
      "**Idea**: maintain pointers to both lists and walk through both simultaneously\n",
      "\n",
      "Running time: $O(x + y)$ , where $x$ and $y$ are lengths of two postings lists"
     ]
    },
    {
     "cell_type": "markdown",
     "metadata": {
      "slideshow": {
       "slide_type": "slide"
      }
     },
     "source": [
      "# Query Optimization\n",
      "\n",
      "Organize query processing efficiently.\n",
      "\n",
      "*dog* $\\rightarrow \\{0, 2, 4, 11, 31, 45, 173, 174\\}$\n",
      "<br>\n",
      "*cat* $\\rightarrow \\{2, 31, 54, 101\\}$\n",
      "<br>\n",
      "*zebra* $\\rightarrow \\{31, 506\\}$\n",
      "\n",
      "**dog** AND **cat** AND **zebra**\n",
      "\n",
      "Which order?\n",
      "\n",
      "1. (**dog** AND **cat**) AND **zebra**\n",
      "2. **dog** AND (**cat** AND **zebra**)\n",
      "3. (**dog** AND **zebra**) AND **cat**"
     ]
    },
    {
     "cell_type": "markdown",
     "metadata": {
      "slideshow": {
       "slide_type": "fragment"
      }
     },
     "source": [
      "\\#2 reduces work by processing rare words first.\n",
      "\n"
     ]
    },
    {
     "cell_type": "markdown",
     "metadata": {
      "slideshow": {
       "slide_type": "fragment"
      }
     },
     "source": [
      "What about **dog** AND NOT **cat**?"
     ]
    },
    {
     "cell_type": "markdown",
     "metadata": {
      "slideshow": {
       "slide_type": "slide"
      }
     },
     "source": [
      "# Course Information\n",
      "\n",
      "- **GitHub** will be primary source of course information.\n",
      "  - [https://github.com/iit-cs429/main](https://github.com/iit-cs429/main)\n",
      "- Assignments turned in to GitHub\n",
      "- Let's look at the [syllabus](https://github.com/iit-cs429/main/blob/master/admin/Syllabus.md), [schedule](https://github.com/iit-cs429/main/blob/master/admin/Schedule.md), and [first assignment](https://github.com/iit-cs429/main/blob/master/assignments/assignment0/)."
     ]
    },
    {
     "cell_type": "markdown",
     "metadata": {
      "slideshow": {
       "slide_type": "slide"
      }
     },
     "source": [
      "# Survey results"
     ]
    },
    {
     "cell_type": "code",
     "collapsed": false,
     "input": [
      "counts = [float(line) for line in open('python_counts.txt')]\n",
      "print counts"
     ],
     "language": "python",
     "metadata": {
      "slideshow": {
       "slide_type": "fragment"
      }
     },
     "outputs": []
    },
    {
     "cell_type": "code",
     "collapsed": false,
     "input": [
      "# This allows us to plot directly to the notebook.\n",
      "% pylab inline\n",
      "figure()\n",
      "hist(counts, 30)\n",
      "xlabel('number of Python programs written')\n",
      "ylabel('number of students')\n",
      "show()"
     ],
     "language": "python",
     "metadata": {
      "slideshow": {
       "slide_type": "fragment"
      }
     },
     "outputs": []
    }
   ],
   "metadata": {}
  }
 ]
}