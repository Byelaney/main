{
 "cells": [
  {
   "cell_type": "markdown",
   "metadata": {
    "slideshow": {
     "slide_type": "slide"
    }
   },
   "source": [
    "<br><br><br>\n",
    "## CS 429: Information Retrieval\n",
    "\n",
    "<br>\n",
    "\n",
    "### Prof. Aron Culotta\n",
    "### Illinois Institute of Technology \n",
    "\n",
    "\n",
    "<br><br><br><br><br><br><br><br>\n",
    "---\n"
   ]
  },
  {
   "cell_type": "markdown",
   "metadata": {
    "slideshow": {
     "slide_type": "slide"
    }
   },
   "source": [
    "# What is Information Retrieval?\n",
    "\n",
    "<br><br><br><br>\n",
    "---"
   ]
  },
  {
   "cell_type": "markdown",
   "metadata": {
    "slideshow": {
     "slide_type": "slide"
    }
   },
   "source": [
    "# Examples of Information Retrieval"
   ]
  },
  {
   "cell_type": "markdown",
   "metadata": {
    "slideshow": {
     "slide_type": "fragment"
    }
   },
   "source": [
    "<a href=\"http://google.com\"><img src=\"https://www.google.com/images/srpr/logo11w.png\" width=\"20%\"></a>\n",
    "<a href=\"http://apple.com\"><img src=\"http://www.fatdex.net/php/wp-content/uploads/2008/11/3_osx_spotlight.jpg\" width=\"30%\"></a>\n",
    "<img src=\"http://marketingchristianbooks.files.wordpress.com/2010/03/librarian.png\" width=\"20%\">\n",
    "<a href=\"http://soundhound.com\"><img src=\"http://a1.mzstatic.com/us/r30/Purple4/v4/04/f6/17/04f6170a-a577-dcc2-c554-b36076b8fe82/mzl.gqblbiin.png\" width=\"20%\"></a>\n",
    "<a href=\"http://youtube.com\"><img src=\"https://developers.google.com/youtube/images/YouTube_logo_standard_white.png\" width=\"20%\"></a>\n",
    "<a href=\"http://eharmony.com\"><img src=\"http://static3.businessinsider.com/image/4c91323c7f8b9a9a40e60300-1200/20-eharmony.jpg\" width=\"30%\"></a>\n",
    "<a href=\"http://ciir-publications.cs.umass.edu/pub/web/getpdf.php?id=1066\"><img src=\"files/goldberg.png\" width=\"30%\"></a>"
   ]
  },
  {
   "cell_type": "markdown",
   "metadata": {},
   "source": [
    "**information retrieval:** \n",
    "  *the process of finding relevant data.*\n",
    "\n",
    "\n",
    "Typically:\n",
    "\n",
    "- text, though also images, video, audio\n",
    "\n",
    "\n",
    "- *unstructured* (in contrast to relational databases)\n",
    "\n",
    "\n",
    "- using a computer "
   ]
  },
  {
   "cell_type": "markdown",
   "metadata": {
    "slideshow": {
     "slide_type": "slide"
    }
   },
   "source": [
    "# Architecture\n",
    "\n",
    "   ![arch](files/arch.png)\n",
    "   \n",
    "   <br><br><br>\n"
   ]
  },
  {
   "cell_type": "markdown",
   "metadata": {
    "slideshow": {
     "slide_type": "slide"
    }
   },
   "source": [
    "# Simplest information retrieval problem\n"
   ]
  },
  {
   "cell_type": "code",
   "execution_count": null,
   "metadata": {
    "collapsed": false,
    "slideshow": {
     "slide_type": "fragment"
    }
   },
   "outputs": [],
   "source": [
    "documents = ['dog', 'cat', 'zebra', 'cat']\n",
    "\n",
    "\n"
   ]
  },
  {
   "cell_type": "code",
   "execution_count": null,
   "metadata": {
    "collapsed": true,
    "slideshow": {
     "slide_type": "fragment"
    }
   },
   "outputs": [],
   "source": [
    "def search(documents, query):\n",
    "    return [doc for doc in documents if doc == query]\n",
    "\n",
    "\n",
    "\n"
   ]
  },
  {
   "cell_type": "code",
   "execution_count": null,
   "metadata": {
    "collapsed": false,
    "slideshow": {
     "slide_type": "fragment"
    }
   },
   "outputs": [],
   "source": [
    "print(search(documents, 'cat'))\n",
    "\n",
    "\n",
    "\n"
   ]
  },
  {
   "cell_type": "markdown",
   "metadata": {
    "slideshow": {
     "slide_type": "fragment"
    }
   },
   "source": [
    "Worst-case runtime?"
   ]
  },
  {
   "cell_type": "markdown",
   "metadata": {
    "slideshow": {
     "slide_type": "fragment"
    }
   },
   "source": [
    "$T(n) = O(n)$ , where $n=$`len(documents)`.    **Can we do better?**"
   ]
  },
  {
   "cell_type": "markdown",
   "metadata": {
    "slideshow": {
     "slide_type": "slide"
    }
   },
   "source": [
    "# Most documents have more than one word..."
   ]
  },
  {
   "cell_type": "code",
   "execution_count": null,
   "metadata": {
    "collapsed": false
   },
   "outputs": [],
   "source": [
    "documents = [['dog', 'cat'], ['cat', 'zebra'], ['dog', 'puma']]\n",
    "\n",
    "\n",
    "\n"
   ]
  },
  {
   "cell_type": "code",
   "execution_count": null,
   "metadata": {
    "collapsed": true,
    "slideshow": {
     "slide_type": "fragment"
    }
   },
   "outputs": [],
   "source": [
    "def search(documents, query):\n",
    "    return [doc for doc in documents if query in doc]\n",
    "\n",
    "\n",
    "\n"
   ]
  },
  {
   "cell_type": "code",
   "execution_count": null,
   "metadata": {
    "collapsed": false,
    "slideshow": {
     "slide_type": "fragment"
    }
   },
   "outputs": [],
   "source": [
    "print(search(documents, 'cat'))\n",
    "\n",
    "\n",
    "\n"
   ]
  },
  {
   "cell_type": "markdown",
   "metadata": {
    "slideshow": {
     "slide_type": "fragment"
    }
   },
   "source": [
    "Runtime?"
   ]
  },
  {
   "cell_type": "markdown",
   "metadata": {
    "slideshow": {
     "slide_type": "fragment"
    }
   },
   "source": [
    "Naive: $O(n*m)$ , where $n=$ `len(documents)` and $m=$ `max(len(d) for d in documents)`"
   ]
  },
  {
   "cell_type": "markdown",
   "metadata": {
    "slideshow": {
     "slide_type": "slide"
    }
   },
   "source": [
    "# Inverted Index\n",
    "\n",
    "Map from *word* $\\rightarrow$ *Postings List*\n",
    "\n",
    "**Postings List:** List of ids for documents containing the word."
   ]
  },
  {
   "cell_type": "code",
   "execution_count": null,
   "metadata": {
    "collapsed": true,
    "slideshow": {
     "slide_type": "fragment"
    }
   },
   "outputs": [],
   "source": [
    "# Map each word to the list of indices of documents that contain it.\n",
    "index = {'dog': [0, 2],\n",
    "         'cat': [0, 1],  # IDs are sorted. Why?\n",
    "         'zebra': [1],\n",
    "         'puma': [2]}\n",
    "\n",
    "\n",
    "# Recall: \n",
    "# documents = [['dog', 'cat'], ['cat', 'zebra'], ['dog', 'puma']]\n",
    "\n"
   ]
  },
  {
   "cell_type": "code",
   "execution_count": null,
   "metadata": {
    "collapsed": false
   },
   "outputs": [],
   "source": [
    "print(index['dog'])\n",
    "\n",
    "\n",
    "\n"
   ]
  },
  {
   "cell_type": "code",
   "execution_count": null,
   "metadata": {
    "collapsed": false
   },
   "outputs": [],
   "source": [
    "# Python tip: dir() will list all attributes/methods of a variable.\n",
    "dir(index)\n",
    "\n",
    "\n",
    "\n"
   ]
  },
  {
   "cell_type": "code",
   "execution_count": null,
   "metadata": {
    "collapsed": false
   },
   "outputs": [],
   "source": [
    "# Python tip: help() will list\n",
    "# documentation for variable/method.\n",
    "help(index)\n",
    "\n",
    "\n",
    "\n"
   ]
  },
  {
   "cell_type": "markdown",
   "metadata": {},
   "source": [
    "Most important Python data structures to know:\n",
    "- list\n",
    "- set\n",
    "- tuple\n",
    "- dict\n",
    "- Counter"
   ]
  },
  {
   "cell_type": "code",
   "execution_count": null,
   "metadata": {
    "collapsed": true,
    "slideshow": {
     "slide_type": "fragment"
    }
   },
   "outputs": [],
   "source": [
    "def indexed_search(documents, index, query):\n",
    "    return [documents[doc_id] for doc_id in index[query]]\n",
    "\n",
    "\n",
    "\n"
   ]
  },
  {
   "cell_type": "code",
   "execution_count": null,
   "metadata": {
    "collapsed": false,
    "slideshow": {
     "slide_type": "fragment"
    }
   },
   "outputs": [],
   "source": [
    "print(indexed_search(documents, index, 'cat'))\n",
    "\n",
    "\n",
    "\n"
   ]
  },
  {
   "cell_type": "markdown",
   "metadata": {
    "slideshow": {
     "slide_type": "fragment"
    }
   },
   "source": [
    "**Runtime?**  \n"
   ]
  },
  {
   "cell_type": "markdown",
   "metadata": {
    "slideshow": {
     "slide_type": "fragment"
    }
   },
   "source": [
    "$O(k)$ , where $k$ is number of matching documents."
   ]
  },
  {
   "cell_type": "markdown",
   "metadata": {
    "slideshow": {
     "slide_type": "slide"
    }
   },
   "source": [
    "# Building an Index\n",
    "\n",
    "\n",
    "![index2](files/index2.png)\n",
    "\n",
    "(Source: MRS)"
   ]
  },
  {
   "cell_type": "markdown",
   "metadata": {
    "slideshow": {
     "slide_type": "slide"
    }
   },
   "source": [
    "# Query Processing\n",
    "\n",
    "Most queries have more than one word:\n",
    "\n",
    "**dog** AND **cat**\n",
    "\n",
    "** Index:**\n",
    "<br>\n",
    "*dog* $\\rightarrow \\{0, 2\\}$\n",
    "<br>\n",
    "*cat* $\\rightarrow  \\{0, 1\\}$"
   ]
  },
  {
   "cell_type": "code",
   "execution_count": null,
   "metadata": {
    "collapsed": true,
    "slideshow": {
     "slide_type": "fragment"
    }
   },
   "outputs": [],
   "source": [
    "def and_search(documents, index, queries):\n",
    "    doc_ids = set(index[queries[0]])\n",
    "    for query in queries[1:]: # For remaining words in query\n",
    "        doc_ids &= set(index[query]) # Set intersection\n",
    "    return [documents[doc_id] for doc_id in doc_ids]\n",
    "\n",
    "\n",
    "\n"
   ]
  },
  {
   "cell_type": "code",
   "execution_count": null,
   "metadata": {
    "collapsed": false,
    "slideshow": {
     "slide_type": "fragment"
    }
   },
   "outputs": [],
   "source": [
    "print(and_search(documents, index, ['cat', 'dog']))\n",
    "\n",
    "\n",
    "\n"
   ]
  },
  {
   "cell_type": "markdown",
   "metadata": {
    "slideshow": {
     "slide_type": "fragment"
    }
   },
   "source": [
    "**Runtime?**"
   ]
  },
  {
   "cell_type": "markdown",
   "metadata": {
    "slideshow": {
     "slide_type": "fragment"
    }
   },
   "source": [
    "Depends on set intersection computation."
   ]
  },
  {
   "cell_type": "markdown",
   "metadata": {
    "slideshow": {
     "slide_type": "slide"
    }
   },
   "source": [
    "# Merging Postings Lists\n",
    "\n",
    "*dog* $\\rightarrow \\{0, 2, 4, 11, 31, 45, 173, 174\\}$\n",
    "<br>\n",
    "*cat* $\\rightarrow \\{2, 31, 54, 101\\}$\n",
    "\n",
    "Intersection $\\rightarrow \\{2, 31\\}$\n",
    "\n",
    "**Idea**: maintain pointers to both lists and walk through both simultaneously\n",
    "\n",
    "Running time: $O(x + y)$ , where $x$ and $y$ are lengths of two postings lists"
   ]
  },
  {
   "cell_type": "markdown",
   "metadata": {
    "slideshow": {
     "slide_type": "slide"
    }
   },
   "source": [
    "# Query Optimization\n",
    "\n",
    "Organize query processing efficiently.\n",
    "\n",
    "*dog* $\\rightarrow \\{0, 2, 4, 11, 31, 45, 173, 174\\}$\n",
    "<br>\n",
    "*cat* $\\rightarrow \\{2, 31, 54, 101\\}$\n",
    "<br>\n",
    "*zebra* $\\rightarrow \\{31, 506\\}$\n",
    "\n",
    "**dog** AND **cat** AND **zebra**\n",
    "\n",
    "Which order?\n",
    "\n",
    "1. (**dog** AND **cat**) AND **zebra**\n",
    "2. **dog** AND (**cat** AND **zebra**)\n",
    "3. (**dog** AND **zebra**) AND **cat**"
   ]
  },
  {
   "cell_type": "markdown",
   "metadata": {
    "slideshow": {
     "slide_type": "fragment"
    }
   },
   "source": [
    "\\#2 reduces work by processing rare words first.\n",
    "\n"
   ]
  },
  {
   "cell_type": "markdown",
   "metadata": {
    "slideshow": {
     "slide_type": "fragment"
    }
   },
   "source": [
    "What about **dog** AND NOT **cat**?"
   ]
  },
  {
   "cell_type": "markdown",
   "metadata": {
    "slideshow": {
     "slide_type": "slide"
    }
   },
   "source": [
    "# Survey results"
   ]
  },
  {
   "cell_type": "code",
   "execution_count": null,
   "metadata": {
    "collapsed": false,
    "slideshow": {
     "slide_type": "fragment"
    }
   },
   "outputs": [],
   "source": [
    "# survey.txt contains tab-separated survey results.\n",
    "survey = [line.strip().split('\\t') for line in open('survey.txt')]\n",
    "survey[0]\n",
    "\n",
    "\n",
    "\n"
   ]
  },
  {
   "cell_type": "code",
   "execution_count": null,
   "metadata": {
    "collapsed": false
   },
   "outputs": [],
   "source": [
    "import matplotlib.pyplot as plt # a plotting library\n",
    "# iPython \"magic\" command. print plots in notebook, instead of a new window.\n",
    "% matplotlib inline  \n",
    "from collections import Counter  # A dict for counting.\n",
    "\n",
    "def plot_results_for_column(survey, colidx):\n",
    "    counts = Counter(row[colidx] for row in survey[1:])\n",
    "    keys = sorted(counts.keys())\n",
    "    plt.figure()\n",
    "    plt.bar(range(len(keys)), [counts[k] for k in keys], width=.5)\n",
    "    plt.xticks(range(len(counts)), keys)\n",
    "    plt.title(survey[0][colidx])\n",
    "    plt.xlabel('count')\n",
    "    plt.ylabel('frequency')\n",
    "    plt.show()\n",
    "    \n",
    "\n",
    "\n"
   ]
  },
  {
   "cell_type": "code",
   "execution_count": null,
   "metadata": {
    "collapsed": false
   },
   "outputs": [],
   "source": [
    "plot_results_for_column(survey, 6)\n",
    "\n",
    "\n",
    "\n"
   ]
  },
  {
   "cell_type": "code",
   "execution_count": null,
   "metadata": {
    "collapsed": false
   },
   "outputs": [],
   "source": [
    "plot_results_for_column(survey, 7)\n",
    "\n",
    "\n",
    "\n"
   ]
  },
  {
   "cell_type": "code",
   "execution_count": null,
   "metadata": {
    "collapsed": false
   },
   "outputs": [],
   "source": [
    "plot_results_for_column(survey, 8)\n",
    "\n",
    "\n",
    "\n"
   ]
  },
  {
   "cell_type": "code",
   "execution_count": null,
   "metadata": {
    "collapsed": false
   },
   "outputs": [],
   "source": [
    "# Count terms in responses to \"Why are you taking this course?\"\n",
    "term_counts = Counter()\n",
    "for row in survey:\n",
    "    term_counts.update(row[9].lower().split())\n",
    "term_counts.most_common(20)\n",
    "\n",
    "\n",
    "\n"
   ]
  },
  {
   "cell_type": "code",
   "execution_count": null,
   "metadata": {
    "collapsed": false
   },
   "outputs": [],
   "source": [
    "# Count 2-word phrases (bigrams) in responses to \"Why are you taking this course?\"\n",
    "term_counts = Counter()\n",
    "for row in survey:\n",
    "    words = row[9].lower().split()\n",
    "    term_counts.update(zip(words[:-1], words[1:]))\n",
    "term_counts.most_common(20)\n",
    "\n",
    "\n",
    "\n"
   ]
  },
  {
   "cell_type": "markdown",
   "metadata": {},
   "source": [
    "# Course Information\n",
    "\n",
    "- **GitHub** will be primary source of course information.\n",
    "  - <https://github.com/iit-cs429/main>\n",
    "- Assignments turned in to GitHub\n",
    "- Quizzes done on Blackboard.\n",
    "- Let's look at the [syllabus](https://github.com/iit-cs429/main/blob/master/README.md), [schedule](https://github.com/iit-cs429/main/blob/master/Schedule.md), and [first assignment](https://github.com/iit-cs429/assignments/)."
   ]
  }
 ],
 "metadata": {
  "kernelspec": {
   "display_name": "Python 3",
   "language": "python",
   "name": "python3"
  },
  "language_info": {
   "codemirror_mode": {
    "name": "ipython",
    "version": 3
   },
   "file_extension": ".py",
   "mimetype": "text/x-python",
   "name": "python",
   "nbconvert_exporter": "python",
   "pygments_lexer": "ipython3",
   "version": "3.5.0"
  }
 },
 "nbformat": 4,
 "nbformat_minor": 0
}
