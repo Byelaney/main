{
 "cells": [
  {
   "cell_type": "markdown",
   "metadata": {
    "slideshow": {
     "slide_type": "slide"
    }
   },
   "source": [
    "## CS 429: Information Retrieval\n",
    "\n",
    "<br>\n",
    "\n",
    "### Dr. Aron Culotta\n",
    "### Illinois Institute of Technology \n",
    "### Spring 2015\n",
    "\n",
    "---\n"
   ]
  },
  {
   "cell_type": "markdown",
   "metadata": {
    "slideshow": {
     "slide_type": "slide"
    }
   },
   "source": [
    "# What is Information Retrieval?\n",
    "\n",
    "---"
   ]
  },
  {
   "cell_type": "markdown",
   "metadata": {
    "slideshow": {
     "slide_type": "fragment"
    }
   },
   "source": [
    "**The process of finding relevant data.**\n",
    "\n",
    "\n",
    "Typically:\n",
    "\n",
    "- text, though also images, video, audio\n",
    "\n",
    "\n",
    "- *unstructured* (in contrast to relational databases)\n",
    "\n",
    "\n",
    "- using a computer "
   ]
  },
  {
   "cell_type": "markdown",
   "metadata": {
    "slideshow": {
     "slide_type": "slide"
    }
   },
   "source": [
    "# Examples of Information Retrieval"
   ]
  },
  {
   "cell_type": "markdown",
   "metadata": {
    "slideshow": {
     "slide_type": "fragment"
    }
   },
   "source": [
    "<a href=\"http://google.com\"><img src=\"https://www.google.com/images/srpr/logo11w.png\" width=\"20%\"></a>\n",
    "<a href=\"http://apple.com\"><img src=\"http://www.fatdex.net/php/wp-content/uploads/2008/11/3_osx_spotlight.jpg\" width=\"30%\"></a>\n",
    "<img src=\"http://marketingchristianbooks.files.wordpress.com/2010/03/librarian.png\" width=\"20%\">\n",
    "<a href=\"http://soundhound.com\"><img src=\"http://a1.mzstatic.com/us/r30/Purple4/v4/04/f6/17/04f6170a-a577-dcc2-c554-b36076b8fe82/mzl.gqblbiin.png\" width=\"20%\"></a>\n",
    "<a href=\"http://youtube.com\"><img src=\"https://developers.google.com/youtube/images/YouTube_logo_standard_white.png\" width=\"20%\"></a>\n",
    "<a href=\"http://eharmony.com\"><img src=\"http://static3.businessinsider.com/image/4c91323c7f8b9a9a40e60300-1200/20-eharmony.jpg\" width=\"30%\"></a>\n",
    "<a href=\"http://ciir-publications.cs.umass.edu/pub/web/getpdf.php?id=1066\"><img src=\"files/goldberg.png\" width=\"30%\"></a>"
   ]
  },
  {
   "cell_type": "markdown",
   "metadata": {
    "slideshow": {
     "slide_type": "slide"
    }
   },
   "source": [
    "# Architecture\n",
    "\n",
    "   ![arch](files/arch.png)\n"
   ]
  },
  {
   "cell_type": "markdown",
   "metadata": {
    "slideshow": {
     "slide_type": "slide"
    }
   },
   "source": [
    "# Simplest information retrieval problem\n"
   ]
  },
  {
   "cell_type": "code",
   "execution_count": 18,
   "metadata": {
    "collapsed": true,
    "slideshow": {
     "slide_type": "fragment"
    }
   },
   "outputs": [],
   "source": [
    "documents = ['dog', 'cat', 'zebra', 'cat']"
   ]
  },
  {
   "cell_type": "code",
   "execution_count": 19,
   "metadata": {
    "collapsed": true,
    "slideshow": {
     "slide_type": "fragment"
    }
   },
   "outputs": [],
   "source": [
    "def search(documents, query):\n",
    "    return [doc for doc in documents if doc == query]"
   ]
  },
  {
   "cell_type": "code",
   "execution_count": 20,
   "metadata": {
    "collapsed": false,
    "slideshow": {
     "slide_type": "fragment"
    }
   },
   "outputs": [
    {
     "name": "stdout",
     "output_type": "stream",
     "text": [
      "['cat', 'cat']\n"
     ]
    }
   ],
   "source": [
    "print search(documents, 'cat')"
   ]
  },
  {
   "cell_type": "markdown",
   "metadata": {
    "slideshow": {
     "slide_type": "fragment"
    }
   },
   "source": [
    "Runtime?"
   ]
  },
  {
   "cell_type": "markdown",
   "metadata": {
    "slideshow": {
     "slide_type": "fragment"
    }
   },
   "source": [
    "$T(n) = O(n)$ , where $n=$`len(documents)`.    **Can we do better?**"
   ]
  },
  {
   "cell_type": "markdown",
   "metadata": {
    "slideshow": {
     "slide_type": "slide"
    }
   },
   "source": [
    "# Most documents have more than one word..."
   ]
  },
  {
   "cell_type": "code",
   "execution_count": 21,
   "metadata": {
    "collapsed": false
   },
   "outputs": [],
   "source": [
    "documents = [['dog', 'cat'], ['cat', 'zebra'], ['dog', 'puma']]"
   ]
  },
  {
   "cell_type": "code",
   "execution_count": 22,
   "metadata": {
    "collapsed": true,
    "slideshow": {
     "slide_type": "fragment"
    }
   },
   "outputs": [],
   "source": [
    "def search(documents, query):\n",
    "    return [doc for doc in documents if query in doc]"
   ]
  },
  {
   "cell_type": "code",
   "execution_count": 23,
   "metadata": {
    "collapsed": true,
    "slideshow": {
     "slide_type": "fragment"
    }
   },
   "outputs": [
    {
     "name": "stdout",
     "output_type": "stream",
     "text": [
      "[['dog', 'cat'], ['cat', 'zebra']]\n"
     ]
    }
   ],
   "source": [
    "print search(documents, 'cat')"
   ]
  },
  {
   "cell_type": "markdown",
   "metadata": {
    "slideshow": {
     "slide_type": "fragment"
    }
   },
   "source": [
    "Runtime?"
   ]
  },
  {
   "cell_type": "markdown",
   "metadata": {
    "slideshow": {
     "slide_type": "fragment"
    }
   },
   "source": [
    "Naive: $O(n*m)$ , where $n=$ `len(documents)` and $m=$ `max(len(d) for d in documents)`"
   ]
  },
  {
   "cell_type": "markdown",
   "metadata": {
    "slideshow": {
     "slide_type": "slide"
    }
   },
   "source": [
    "# Inverted Index\n",
    "\n",
    "Map from *word* $\\rightarrow$ *Postings List*\n",
    "\n",
    "**Postings List:** List of ids for documents containing the word."
   ]
  },
  {
   "cell_type": "code",
   "execution_count": 24,
   "metadata": {
    "collapsed": true,
    "slideshow": {
     "slide_type": "fragment"
    }
   },
   "outputs": [],
   "source": [
    "# Map each word to the list of indices of documents that contain it.\n",
    "index = {'dog': [0, 2],\n",
    "         'cat': [0, 1],  # IDs are sorted. Why?\n",
    "         'zebra': [1],\n",
    "         'puma': [2]}"
   ]
  },
  {
   "cell_type": "code",
   "execution_count": 25,
   "metadata": {
    "collapsed": false
   },
   "outputs": [
    {
     "name": "stdout",
     "output_type": "stream",
     "text": [
      "[0, 2]\n"
     ]
    }
   ],
   "source": [
    "print index['dog']"
   ]
  },
  {
   "cell_type": "code",
   "execution_count": 26,
   "metadata": {
    "collapsed": false
   },
   "outputs": [
    {
     "data": {
      "text/plain": [
       "['__class__',\n",
       " '__cmp__',\n",
       " '__contains__',\n",
       " '__delattr__',\n",
       " '__delitem__',\n",
       " '__doc__',\n",
       " '__eq__',\n",
       " '__format__',\n",
       " '__ge__',\n",
       " '__getattribute__',\n",
       " '__getitem__',\n",
       " '__gt__',\n",
       " '__hash__',\n",
       " '__init__',\n",
       " '__iter__',\n",
       " '__le__',\n",
       " '__len__',\n",
       " '__lt__',\n",
       " '__ne__',\n",
       " '__new__',\n",
       " '__reduce__',\n",
       " '__reduce_ex__',\n",
       " '__repr__',\n",
       " '__setattr__',\n",
       " '__setitem__',\n",
       " '__sizeof__',\n",
       " '__str__',\n",
       " '__subclasshook__',\n",
       " 'clear',\n",
       " 'copy',\n",
       " 'fromkeys',\n",
       " 'get',\n",
       " 'has_key',\n",
       " 'items',\n",
       " 'iteritems',\n",
       " 'iterkeys',\n",
       " 'itervalues',\n",
       " 'keys',\n",
       " 'pop',\n",
       " 'popitem',\n",
       " 'setdefault',\n",
       " 'update',\n",
       " 'values',\n",
       " 'viewitems',\n",
       " 'viewkeys',\n",
       " 'viewvalues']"
      ]
     },
     "execution_count": 26,
     "metadata": {},
     "output_type": "execute_result"
    }
   ],
   "source": [
    "dir(index)"
   ]
  },
  {
   "cell_type": "code",
   "execution_count": 27,
   "metadata": {
    "collapsed": true,
    "slideshow": {
     "slide_type": "fragment"
    }
   },
   "outputs": [],
   "source": [
    "def indexed_search(documents, index, query):\n",
    "    return [documents[doc_id] for doc_id in index[query]]"
   ]
  },
  {
   "cell_type": "code",
   "execution_count": 28,
   "metadata": {
    "collapsed": true,
    "slideshow": {
     "slide_type": "fragment"
    }
   },
   "outputs": [
    {
     "name": "stdout",
     "output_type": "stream",
     "text": [
      "[['dog', 'cat'], ['cat', 'zebra']]\n"
     ]
    }
   ],
   "source": [
    "print indexed_search(documents, index, 'cat')"
   ]
  },
  {
   "cell_type": "markdown",
   "metadata": {
    "slideshow": {
     "slide_type": "fragment"
    }
   },
   "source": [
    "**Runtime?**"
   ]
  },
  {
   "cell_type": "markdown",
   "metadata": {
    "slideshow": {
     "slide_type": "fragment"
    }
   },
   "source": [
    "$O(k)$ , where $k$ is number of matching documents."
   ]
  },
  {
   "cell_type": "markdown",
   "metadata": {
    "slideshow": {
     "slide_type": "slide"
    }
   },
   "source": [
    "# Building an Index\n",
    "\n",
    "\n",
    "![index2](files/index2.png)\n",
    "\n",
    "(Source: MRS)"
   ]
  },
  {
   "cell_type": "markdown",
   "metadata": {
    "slideshow": {
     "slide_type": "slide"
    }
   },
   "source": [
    "# Query Processing\n",
    "\n",
    "Most queries have more than one word:\n",
    "\n",
    "**dog** AND **cat**\n",
    "\n",
    "** Index:**\n",
    "<br>\n",
    "*dog* $\\rightarrow \\{0, 2\\}$\n",
    "<br>\n",
    "*cat* $\\rightarrow  \\{0, 1\\}$"
   ]
  },
  {
   "cell_type": "code",
   "execution_count": 29,
   "metadata": {
    "collapsed": true,
    "slideshow": {
     "slide_type": "fragment"
    }
   },
   "outputs": [],
   "source": [
    "def and_search(documents, index, queries):\n",
    "    doc_ids = set([doc_id for doc_id in index[queries[0]]])\n",
    "    for query in queries[1:]: # For remaining words in query\n",
    "        doc_ids &= set([doc_id for doc_id in index[query]]) # Set intersection\n",
    "    return [documents[doc_id] for doc_id in doc_ids]"
   ]
  },
  {
   "cell_type": "code",
   "execution_count": 30,
   "metadata": {
    "collapsed": true,
    "slideshow": {
     "slide_type": "fragment"
    }
   },
   "outputs": [
    {
     "name": "stdout",
     "output_type": "stream",
     "text": [
      "[['dog', 'cat']]\n"
     ]
    }
   ],
   "source": [
    "print and_search(documents, index, ['cat', 'dog'])"
   ]
  },
  {
   "cell_type": "markdown",
   "metadata": {
    "slideshow": {
     "slide_type": "fragment"
    }
   },
   "source": [
    "**Runtime?**"
   ]
  },
  {
   "cell_type": "markdown",
   "metadata": {
    "slideshow": {
     "slide_type": "fragment"
    }
   },
   "source": [
    "Depends on set intersection computation."
   ]
  },
  {
   "cell_type": "markdown",
   "metadata": {
    "slideshow": {
     "slide_type": "slide"
    }
   },
   "source": [
    "# Merging Postings Lists\n",
    "\n",
    "*dog* $\\rightarrow \\{0, 2, 4, 11, 31, 45, 173, 174\\}$\n",
    "<br>\n",
    "*cat* $\\rightarrow \\{2, 31, 54, 101\\}$\n",
    "\n",
    "Intersection $\\rightarrow \\{2, 31\\}$\n",
    "\n",
    "**Idea**: maintain pointers to both lists and walk through both simultaneously\n",
    "\n",
    "Running time: $O(x + y)$ , where $x$ and $y$ are lengths of two postings lists"
   ]
  },
  {
   "cell_type": "markdown",
   "metadata": {
    "slideshow": {
     "slide_type": "slide"
    }
   },
   "source": [
    "# Query Optimization\n",
    "\n",
    "Organize query processing efficiently.\n",
    "\n",
    "*dog* $\\rightarrow \\{0, 2, 4, 11, 31, 45, 173, 174\\}$\n",
    "<br>\n",
    "*cat* $\\rightarrow \\{2, 31, 54, 101\\}$\n",
    "<br>\n",
    "*zebra* $\\rightarrow \\{31, 506\\}$\n",
    "\n",
    "**dog** AND **cat** AND **zebra**\n",
    "\n",
    "Which order?\n",
    "\n",
    "1. (**dog** AND **cat**) AND **zebra**\n",
    "2. **dog** AND (**cat** AND **zebra**)\n",
    "3. (**dog** AND **zebra**) AND **cat**"
   ]
  },
  {
   "cell_type": "markdown",
   "metadata": {
    "slideshow": {
     "slide_type": "fragment"
    }
   },
   "source": [
    "\\#2 reduces work by processing rare words first.\n",
    "\n"
   ]
  },
  {
   "cell_type": "markdown",
   "metadata": {
    "slideshow": {
     "slide_type": "fragment"
    }
   },
   "source": [
    "What about **dog** AND NOT **cat**?"
   ]
  },
  {
   "cell_type": "markdown",
   "metadata": {
    "slideshow": {
     "slide_type": "slide"
    }
   },
   "source": []
  },
  {
   "cell_type": "markdown",
   "metadata": {
    "slideshow": {
     "slide_type": "slide"
    }
   },
   "source": [
    "# Survey results"
   ]
  },
  {
   "cell_type": "code",
   "execution_count": 31,
   "metadata": {
    "collapsed": true,
    "slideshow": {
     "slide_type": "fragment"
    }
   },
   "outputs": [
    {
     "name": "stdout",
     "output_type": "stream",
     "text": [
      "['0', 'data scientist\\n']\n"
     ]
    }
   ],
   "source": [
    "# survey.txt contains two tab-separated columns:\n",
    "# <number of python programs written> <what you want to be when you grow up>\n",
    "survey = [line.split('\\t') for line in open('survey.txt')]\n",
    "print survey[0]"
   ]
  },
  {
   "cell_type": "code",
   "execution_count": 32,
   "metadata": {
    "collapsed": true,
    "slideshow": {
     "slide_type": "fragment"
    }
   },
   "outputs": [
    {
     "name": "stdout",
     "output_type": "stream",
     "text": [
      "Counter({0.0: 11, 5.0: 5, 30.0: 3, 100.0: 2, 1.0: 1, 2.0: 1, 3.0: 1, 6.0: 1, 10.0: 1, 20.0: 1})\n"
     ]
    }
   ],
   "source": [
    "# Count frequency of responses to question \"Approximately how many Python programs have you written?\"\n",
    "from collections import Counter\n",
    "python_counts = Counter(float(x[0]) for x in survey)\n",
    "print python_counts"
   ]
  },
  {
   "cell_type": "code",
   "execution_count": 33,
   "metadata": {
    "collapsed": true
   },
   "outputs": [
    {
     "data": {
      "image/png": "[encoded data removed]",
      "text/plain": [
       "<matplotlib.figure.Figure at 0x11072c950>"
      ]
     },
     "metadata": {},
     "output_type": "display_data"
    }
   ],
   "source": [
    "# Plot histogram of responses. \n",
    "import matplotlib.pyplot as plt # a plotting library\n",
    "plt.figure()\n",
    "plt.hist(python_counts.values(), 30)\n",
    "plt.xlabel('number of Python programs written', size=20)\n",
    "plt.ylabel('number of students', size=20)\n",
    "plt.show()"
   ]
  },
  {
   "cell_type": "code",
   "execution_count": 34,
   "metadata": {
    "collapsed": true
   },
   "outputs": [
    {
     "name": "stdout",
     "output_type": "stream",
     "text": [
      "[('i', 17),\n",
      " ('to', 14),\n",
      " ('a', 14),\n",
      " ('and', 8),\n",
      " ('like', 7),\n",
      " ('software', 7),\n",
      " ('data', 6),\n",
      " ('the', 6),\n",
      " ('of', 5),\n",
      " ('want', 5),\n",
      " ('in', 5),\n",
      " ('p', 4),\n",
      " ('be', 4),\n",
      " ('engineer', 4),\n",
      " ('it', 4)]\n"
     ]
    }
   ],
   "source": [
    "# Count terms in responses to \"What do you want to be when you grow up?\"\n",
    "import re\n",
    "from pprint import pprint\n",
    "term_counts = Counter()\n",
    "for response in survey:\n",
    "    term_counts.update(re.findall('\\w+', response[1].lower()))\n",
    "pprint(term_counts.most_common(15))"
   ]
  },
  {
   "cell_type": "markdown",
   "metadata": {},
   "source": [
    "# Course Information\n",
    "\n",
    "- **GitHub** will be primary source of course information.\n",
    "  - [https://github.com/iit-cs429/main](https://github.com/iit-cs429/main)\n",
    "- Assignments turned in to GitHub\n",
    "- Let's look at the [syllabus](https://github.com/iit-cs429/main/blob/master/admin/Syllabus.md), [schedule](https://github.com/iit-cs429/main/blob/master/admin/Schedule.md), and [first assignment](https://github.com/iit-cs429/main/blob/master/assignments/assignment0/)."
   ]
  }
 ],
 "metadata": {
  "kernelspec": {
   "display_name": "Python 3",
   "language": "python",
   "name": "python3"
  },
  "language_info": {
   "codemirror_mode": {
    "name": "ipython",
    "version": 3
   },
   "file_extension": ".py",
   "mimetype": "text/x-python",
   "name": "python",
   "nbconvert_exporter": "python",
   "pygments_lexer": "ipython3",
   "version": "3.5.0"
  }
 },
 "nbformat": 4,
 "nbformat_minor": 0
}
