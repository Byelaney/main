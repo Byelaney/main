{
 "metadata": {
  "name": ""
 },
 "nbformat": 3,
 "nbformat_minor": 0,
 "worksheets": [
  {
   "cells": [
    {
     "cell_type": "markdown",
     "metadata": {
      "slideshow": {
       "slide_type": "slide"
      }
     },
     "source": [
      "# CS 429: Information Retrieval\n",
      "<br>\n",
      "\n",
      "## Lecture 26: HITS\n",
      "\n",
      "<br>\n",
      "\n",
      "### Dr. Aron Culotta\n",
      "### Illinois Institute of Technology\n",
      "### Spring 2014"
     ]
    },
    {
     "cell_type": "markdown",
     "metadata": {
      "slideshow": {
       "slide_type": "slide"
      }
     },
     "source": [
      "The **Hubs and Authorities** algorithm is a simple procedure to assign each page two scores:\n",
      "\n",
      "- **hub score:** how likely is this page to be a directory?\n",
      "- **authority score:** how likely is this page to be a trustworthy resource on a topic?"
     ]
    },
    {
     "cell_type": "markdown",
     "metadata": {
      "slideshow": {
       "slide_type": "slide"
      }
     },
     "source": [
      "Let $F_u$ be *forward* links (going out from $u$).\n",
      "\n",
      "Let $B_u$ be *back* links (going in to $u$).\n",
      "\n",
      "$ \\begin{align}\n",
      "h(u) = \\sum_{v \\in F_u} a(v)\\\\\n",
      "a(u) = \\sum_{v \\in B_u} h(v)\\\\\n",
      "\\end{align}$\n",
      "\n",
      "In words:\n",
      "\n",
      "- The hub score for $u$ is the sum of the authority scores for all pages linked from $u$.\n",
      "- The authority score for $u$ is the sum of the hub scores for all pages linking to $u$."
     ]
    },
    {
     "cell_type": "markdown",
     "metadata": {
      "slideshow": {
       "slide_type": "slide"
      }
     },
     "source": [
      "As for PageRank, we can compute these iteratively until convergence:\n",
      "\n",
      "1. Initialize all hub/authority scores to 1.0\n",
      "2. Loop until convergence\n",
      "  1. update authority scores\n",
      "  2. update hub scores"
     ]
    },
    {
     "cell_type": "markdown",
     "metadata": {
      "slideshow": {
       "slide_type": "slide"
      }
     },
     "source": [
      "Let's try this out on some real data:"
     ]
    },
    {
     "cell_type": "code",
     "collapsed": false,
     "input": [
      "# Get some search results.\n",
      "from google import search\n",
      "urls = set([u for u in search('football teams', stop=20)])\n",
      "print 'top', len(urls), 'results:\\n', '\\n'.join(urls)"
     ],
     "language": "python",
     "metadata": {
      "slideshow": {
       "slide_type": "slide"
      }
     },
     "outputs": [
      {
       "output_type": "stream",
       "stream": "stdout",
       "text": [
        "top 32 results:\n",
        "http://www.nfl.com/teams/seattleseahawks/profile?team=SEA\n",
        "http://www.azcardinals.com/\n",
        "http://www.usatoday.com/story/sports/nfl/2014/04/20/offseason-program-first-phase-begins/7946325/\n",
        "http://www.goducks.com/SportSelect.dbml?SPID=233\n",
        "http://www.nfl.com/teams/baltimoreravens/profile?team=BAL\n",
        "http://www.cbssports.com/collegefootball/teams\n",
        "http://www.friendstagger.com/tag-your-friends-as-nfl-football-teams-2-facebook-myspace/\n",
        "http://www.nfl.com/teams/denverbroncos/profile?team=DEN\n",
        "http://sports.yahoo.com/ncaa/football/teams\n",
        "http://highschoolsports.nj.com/football/teams/\n",
        "http://espn.go.com/nfl/teams\n",
        "http://www.king5.com/sports/football-Offseason-activities-OTA-255999771.html\n",
        "http://www.willamette.edu/athletics/football/\n",
        "http://www.friendstagger.com/tag-your-friends-as-nfl-football-teams-facebook-myspace/\n",
        "http://www.cbssports.com/nfl/teams\n",
        "http://www.freevector.com/canadian-football-teams/\n",
        "http://www.forbes.com/nfl-valuations/\n",
        "http://www.nfl.com/teams/newenglandpatriots/profile?team=NE\n",
        "http://www.sodahead.com/entertainment/are-you-a-red-skins-fan-or-other/question-3688699/\n",
        "http://www.sporcle.com/games/printzj/ncaahelmet1\n",
        "http://www.sbnation.com/college-football/2014/3/31/5546726/professional-wrestlers-as-college-football-teams\n",
        "http://en.wikipedia.org/wiki/National_Football_League\n",
        "http://nfltix.net/nfl-football-prismatic-stickers-complete-set-of-32-teams-decals/\n",
        "http://www.maxpreps.com/news/lRfk29Nphkue38lH0WvW0A/maxpreps-2013-all-american-football-teams.htm\n",
        "http://www.nfl.com/teams\n",
        "http://en.wikipedia.org/wiki/Football_team\n",
        "http://www.puma.com/football/teams\n",
        "http://msn.foxsports.com/nfl/teams\n",
        "http://en.wikipedia.org/wiki/Category:American_football_teams\n",
        "http://sportsillustrated.cnn.com/football/nfl/teams/\n",
        "http://blogs.ajc.com/georgia-high-school-sports/2013/12/27/ajc-all-state-football-teams-2013/?cxntfid=blogs_georgia_high_school_sports\n",
        "http://www.pro-football-reference.com/teams/\n"
       ]
      }
     ],
     "prompt_number": 160
    },
    {
     "cell_type": "code",
     "collapsed": false,
     "input": [
      "# Download links for each url. Store inlinks/outlinks for each page in original set.\n",
      "from collections import defaultdict\n",
      "import requests\n",
      "from BeautifulSoup import BeautifulSoup\n",
      "inlinks = defaultdict(lambda: set())   # url -> set of inlinks\n",
      "outlinks = defaultdict(lambda: set())  # url -> set of outlinks \n",
      "for url in urls:\n",
      "    soup = BeautifulSoup(requests.get(url).text)\n",
      "    # Exclude self links and restrict to links in original search results.\n",
      "    links = set([a['href'] for a in soup.findAll('a') if a.get('href')\n",
      "                 and a['href'] in urls and a['href'] != url])\n",
      "    outlinks[url] = links\n",
      "    for link in links:\n",
      "        inlinks[link].add(url)"
     ],
     "language": "python",
     "metadata": {},
     "outputs": [],
     "prompt_number": 161
    },
    {
     "cell_type": "code",
     "collapsed": false,
     "input": [
      "# Print outlinks.\n",
      "for url in outlinks:\n",
      "    if len(outlinks[url]) > 0:\n",
      "        print '\\n', url, '->\\n', '\\n'.join(outlinks[url])"
     ],
     "language": "python",
     "metadata": {},
     "outputs": [
      {
       "output_type": "stream",
       "stream": "stdout",
       "text": [
        "\n",
        "http://www.nfl.com/teams/seattleseahawks/profile?team=SEA ->\n",
        "http://www.azcardinals.com/\n",
        "\n",
        "http://www.nfl.com/teams/baltimoreravens/profile?team=BAL ->\n",
        "http://www.azcardinals.com/\n",
        "\n",
        "http://www.cbssports.com/collegefootball/teams ->\n",
        "http://www.cbssports.com/nfl/teams\n",
        "\n",
        "http://www.friendstagger.com/tag-your-friends-as-nfl-football-teams-2-facebook-myspace/ ->\n",
        "http://www.friendstagger.com/tag-your-friends-as-nfl-football-teams-facebook-myspace/\n",
        "\n",
        "http://www.nfl.com/teams/denverbroncos/profile?team=DEN ->\n",
        "http://www.azcardinals.com/\n",
        "\n",
        "http://www.friendstagger.com/tag-your-friends-as-nfl-football-teams-facebook-myspace/ ->\n",
        "http://www.friendstagger.com/tag-your-friends-as-nfl-football-teams-2-facebook-myspace/\n",
        "\n",
        "http://www.cbssports.com/nfl/teams ->\n",
        "http://www.cbssports.com/collegefootball/teams\n",
        "\n",
        "http://www.nfl.com/teams/newenglandpatriots/profile?team=NE ->\n",
        "http://www.azcardinals.com/\n",
        "\n",
        "http://www.nfl.com/teams ->\n",
        "http://www.azcardinals.com/\n"
       ]
      }
     ],
     "prompt_number": 192
    },
    {
     "cell_type": "code",
     "collapsed": false,
     "input": [
      "# Print inlinks\n",
      "for url in inlinks:\n",
      "    if len(inlinks[url]) > 0:\n",
      "        print '\\n', url, '<-\\n', '\\n'.join(inlinks[url])"
     ],
     "language": "python",
     "metadata": {},
     "outputs": [
      {
       "output_type": "stream",
       "stream": "stdout",
       "text": [
        "\n",
        "http://www.cbssports.com/collegefootball/teams <-\n",
        "http://www.cbssports.com/nfl/teams\n",
        "\n",
        "http://www.friendstagger.com/tag-your-friends-as-nfl-football-teams-2-facebook-myspace/ <-\n",
        "http://www.friendstagger.com/tag-your-friends-as-nfl-football-teams-facebook-myspace/\n",
        "\n",
        "http://www.friendstagger.com/tag-your-friends-as-nfl-football-teams-facebook-myspace/ <-\n",
        "http://www.friendstagger.com/tag-your-friends-as-nfl-football-teams-2-facebook-myspace/\n",
        "\n",
        "http://www.cbssports.com/nfl/teams <-\n",
        "http://www.cbssports.com/collegefootball/teams\n",
        "\n",
        "http://www.azcardinals.com/ <-\n",
        "http://www.nfl.com/teams/seattleseahawks/profile?team=SEA\n",
        "http://www.nfl.com/teams/baltimoreravens/profile?team=BAL\n",
        "http://www.nfl.com/teams\n",
        "http://www.nfl.com/teams/newenglandpatriots/profile?team=NE\n",
        "http://www.nfl.com/teams/denverbroncos/profile?team=DEN\n"
       ]
      }
     ],
     "prompt_number": 193
    },
    {
     "cell_type": "code",
     "collapsed": false,
     "input": [
      "# Initialize hubs and authorities scores and print.\n",
      "hubs = dict([(u, 1.0) for u in urls])\n",
      "authorities = dict([(u, 1.0) for u in urls])\n",
      "def print_top(hubs, authorities):\n",
      "    print 'Top hubs\\n', '\\n'.join('%s %.6f' % (u[0], u[1]) for u in sorted(hubs.items(), key=lambda x: x[1], reverse=True)[:5])\n",
      "    print 'Top authorities\\n', '\\n'.join('%s %.6f' % (u[0], u[1]) for u in sorted(authorities.items(), key=lambda x: x[1], reverse=True)[:5])\n",
      "\n",
      "print_top(hubs, authorities)"
     ],
     "language": "python",
     "metadata": {},
     "outputs": [
      {
       "output_type": "stream",
       "stream": "stdout",
       "text": [
        "Top hubs\n",
        "http://www.nfl.com/teams/seattleseahawks/profile?team=SEA 1.000000\n",
        "http://www.azcardinals.com/ 1.000000\n",
        "http://www.usatoday.com/story/sports/nfl/2014/04/20/offseason-program-first-phase-begins/7946325/ 1.000000\n",
        "http://www.king5.com/sports/football-Offseason-activities-OTA-255999771.html 1.000000\n",
        "http://www.nfl.com/teams/baltimoreravens/profile?team=BAL 1.000000\n",
        "Top authorities\n",
        "http://www.nfl.com/teams/seattleseahawks/profile?team=SEA 1.000000\n",
        "http://www.azcardinals.com/ 1.000000\n",
        "http://www.usatoday.com/story/sports/nfl/2014/04/20/offseason-program-first-phase-begins/7946325/ 1.000000\n",
        "http://www.king5.com/sports/football-Offseason-activities-OTA-255999771.html 1.000000\n",
        "http://www.nfl.com/teams/baltimoreravens/profile?team=BAL 1.000000\n"
       ]
      }
     ],
     "prompt_number": 237
    },
    {
     "cell_type": "code",
     "collapsed": false,
     "input": [
      "# Update hub and authority scores.\n",
      "import math\n",
      "\n",
      "def update(hubs, authorities, inlinks, outlinks):\n",
      "    for u in authorities:\n",
      "        authorities[u] += sum([hubs[inlink] for inlink in inlinks[u]])\n",
      "    normalize(authorities)\n",
      "    for u in hubs:\n",
      "        hubs[u] += sum([authorities[outlink] for outlink in outlinks[u]])\n",
      "    normalize(hubs)\n",
      "\n",
      "def normalize(d):\n",
      "    norm = math.sqrt(sum([v * v for v in d.values()]))\n",
      "    for k in d:\n",
      "        d[k] /= norm"
     ],
     "language": "python",
     "metadata": {},
     "outputs": [],
     "prompt_number": 238
    },
    {
     "cell_type": "code",
     "collapsed": false,
     "input": [
      "update(hubs, authorities, inlinks, outlinks)\n",
      "print_top(hubs, authorities)"
     ],
     "language": "python",
     "metadata": {},
     "outputs": [
      {
       "output_type": "stream",
       "stream": "stdout",
       "text": [
        "Top hubs\n",
        "http://www.nfl.com/teams/seattleseahawks/profile?team=SEA 0.255349\n",
        "http://www.nfl.com/teams/baltimoreravens/profile?team=BAL 0.255349\n",
        "http://www.nfl.com/teams/denverbroncos/profile?team=DEN 0.255349\n",
        "http://www.nfl.com/teams/newenglandpatriots/profile?team=NE 0.255349\n",
        "http://www.nfl.com/teams 0.255349\n",
        "Top authorities\n",
        "http://www.azcardinals.com/ 0.675053\n",
        "http://www.cbssports.com/collegefootball/teams 0.225018\n",
        "http://www.friendstagger.com/tag-your-friends-as-nfl-football-teams-2-facebook-myspace/ 0.225018\n",
        "http://www.friendstagger.com/tag-your-friends-as-nfl-football-teams-facebook-myspace/ 0.225018\n",
        "http://www.cbssports.com/nfl/teams 0.225018\n"
       ]
      }
     ],
     "prompt_number": 239
    },
    {
     "cell_type": "markdown",
     "metadata": {},
     "source": [
      "## Expanding the set of urls\n",
      "\n",
      "- For a given query, begin with the *root* set of the top $k$ matching documents.\n",
      "- Expand the set to include all forward and backward links from the root.\n",
      "\n",
      "When would this help?\n"
     ]
    }
   ],
   "metadata": {}
  }
 ]
}